{
 "cells": [
  {
   "cell_type": "markdown",
   "metadata": {},
   "source": [
    "\n",
    "### <img style=\"float: left; padding-right: 10px; width: 45px\" src=\"https://upload.wikimedia.org/wikipedia/en/8/89/ExtensionFlag.png\"> CSCI E-90 Cloud Services, Infrastructure and Computing\n",
    "\n",
    "# Final Project\n",
    "\n",
    "**Student Name: Adam Brzozowski**\n",
    "\n",
    "**Harvard University**<br/>\n",
    "**Fall 2023**<br/>\n",
    "**Instructors**: Gregory Misicko \\\n",
    "**Teaching Fellows** Anthony Bunker | Sergei Kovalenko | Marina Popova | Hector Saint-Hilaire\n",
    "\n",
    "\n",
    "<hr style=\"height:2pt\">"
   ]
  },
  {
   "cell_type": "markdown",
   "metadata": {},
   "source": [
    "# YouTube Video Links (Post Video Production)"
   ]
  },
  {
   "cell_type": "markdown",
   "metadata": {},
   "source": [
    "To watch my full video talk on this project, please click on the following link:\n",
    "[Full Video](https://youtu.be/n3eTNqOoFw0)"
   ]
  },
  {
   "cell_type": "markdown",
   "metadata": {},
   "source": [
    "https://youtu.be/n3eTNqOoFw0"
   ]
  },
  {
   "cell_type": "markdown",
   "metadata": {},
   "source": [
    "To watch my short video talk on this project, in which I only introduce the concept, please click on the following link:\n",
    "[Short Video](https://youtu.be/0p_IIMZhkQA)"
   ]
  },
  {
   "cell_type": "markdown",
   "metadata": {},
   "source": [
    "https://youtu.be/0p_IIMZhkQA"
   ]
  },
  {
   "cell_type": "markdown",
   "metadata": {},
   "source": [
    "# GitHub Link (Post Production)\n",
    "\n",
    "\n",
    "Please click this link to navigate to the GitHub repository page for the public artifacts for this project: [GitHub Adam Brzozowski Showcase Repo](https://github.com/brzozowskia/adam_brzozowski_showcase)\n",
    "\n",
    "https://github.com/brzozowskia/adam_brzozowski_showcase"
   ]
  },
  {
   "cell_type": "markdown",
   "metadata": {},
   "source": [
    "# Introduction\n",
    "\n",
    "One of the key challenges in data science is often gaining access to authorized, accessible, secure, and relevant infrastructure to perform modeling tasks. The majority of modeling tasks make use of core transactional data at most companies. In theory, these environments should be relatively manageable from a compliance and access standpoint within most industries; granted, the requisite compute and storage infrastructure may not be up to the task in an on-premise environment. \n",
    "\n",
    "However, within some industries, such as healthcare and life sciences, data lifecycles are typically defined within access windows based on the governance tied to particular data sets. Data governed through access by an Institutional Review Board (IRB) is subject to stringent privacy and security requirements, as well as a defined data lifecycle in which copies of all project data must be destroyed at the conclusion of a project to document successful termination of access. \n",
    "\n",
    "In this context all infrastructure and data access is inherently bespoke. What is needed by the data scientist is a familiar and simple way to interact with infrastructure on AWS in order to stand up repeatable, bespoke environments. The AWS SDK offers us just such a mechanism.\n",
    "\n",
    "The setup for the project is presented inside of a Jupyter notebook running on my local machine - which is a preferred type of environment for a data scientist. The project would still be relevant from a web based Jupyter notebook hosted in a cloud based environment as well. As such, this project should have direct relevance vis a vis the usual preference set / requirements of the data scientist.\n",
    "\n",
    "## Useful Training Context\n",
    "\n",
    "In general, I found that navigating the AWS documentation was challenging. While knowledge of Python was helpful for that journey, I found it very valuable to already have the cloud infrastructure concepts of the core AWS services under my belt before beginning. I would like to extend a special thank you to Gregory Misicko and his entire teaching fellow staff for the education they provided me with this semester."
   ]
  },
  {
   "cell_type": "markdown",
   "metadata": {},
   "source": [
    "## Libraries and utility functions\n",
    "\n",
    "Below, I import libraries needed for the project - only a handful were really necessary - and define some utility functions to make the code easier to work with:\n",
    "\n",
    "\n",
    "*Database record commit utility - commit_record()*\n",
    "\n",
    "After working with the pandas sqlite API, I found the interface heavier than I wanted compared to simply committing the records directly for incremental commits. Below, a function is defined to commit a new record to the database. For function documentation, I used the autoDocstring - Python Docstring Generator by Nils Werner from the Visual Studio Code extensions marketplace.\n",
    "\n",
    "*Read database results read_db_results()*\n",
    "\n",
    "I also found it expedient to create a utility function for reading results out of the db quickly\n",
    "\n",
    "*Restore IAC variables to python environment*\n",
    "\n",
    "In true modular fashion, I built a function that would put all of the variables from read_db_results() into the global environment without any manual assignment. It's only necessary to call this utility function because it calls read_db_results().\n",
    "\n",
    "*Delete record utility*\n",
    "\n",
    "The delete_record() utility deletes a field from the IAC database to enable it to be redone"
   ]
  },
  {
   "cell_type": "code",
   "execution_count": 1,
   "metadata": {},
   "outputs": [],
   "source": [
    "from IPython import display\n",
    "import boto3\n",
    "\n",
    "\n",
    "def commit_record(field_name, field_value, database=\"configs.db\", table_name=\"configs\"):\n",
    "    #was very useful for setting this up\n",
    "    #https://www.geeksforgeeks.org/python-sqlite-insert-data/\n",
    "    \"\"\"Function creates a new entry in the configs sqlite database\n",
    "    Args:\n",
    "        field_name (_type_): the name of the field being committed to the db\n",
    "        field_value (_type_): the value of the field being entered for the field name\n",
    "        database (str, optional): the name of the sqlite database the function commits records to. Defaults to \"configs.db\".\n",
    "        table_name (str, optional): the name of the table in the sqlite database where the record will be stored. Defaults to \"configs\".\n",
    "    \"\"\"\n",
    "    st = f\" insert into '{table_name}' (field, value) values ('{field_name}', '{field_value}' )\"\n",
    "    import sqlite3 \n",
    "    conn = sqlite3.connect(database) \n",
    "    cursor = conn.cursor() \n",
    "    cursor.execute(st)\n",
    "    conn.commit() \n",
    "    conn.close()\n",
    "\n",
    "\n",
    "def read_db_results():\n",
    "    \"\"\"Reads results out of the project database for all committed data\n",
    "\n",
    "    Returns:\n",
    "        _type_: a dataframe of the existing configs\n",
    "    \"\"\"\n",
    "    from pandas import read_sql \n",
    "    configs_out = read_sql(\"Select * from configs\", \"sqlite:///configs.db\")\n",
    "    return configs_out\n",
    "\n",
    "\n",
    "def restore_global_iac_variables():\n",
    "    # Method for declaring a variable using the exec function\n",
    "    #https://plainenglish.io/blog/how-to-dynamically-declare-variables-inside-a-loop-in-python\n",
    "    # Modifying global variables is dangerous but possible in Python from a function\n",
    "    # https://stackoverflow.com/questions/41100196/exec-not-working-inside-function-python3-x\n",
    "    \n",
    "    \"\"\"_summary_ Reads in all variables from the IAC variables sqlite database \n",
    "    into the global environment to enable work to be done over multiple days\"\"\"\n",
    "    for row, value in read_db_results().iterrows():\n",
    "        exec(f\"{value.iloc[0]}='{value.iloc[1]}'\", locals(), globals())\n",
    "\n",
    "\n",
    "def delete_record(field_name, database=\"configs.db\", table_name=\"configs\"):\n",
    "    #was very useful for setting this up\n",
    "    #https://www.geeksforgeeks.org/python-sqlite-insert-data/\n",
    "    \"\"\"Function deletes an entry in the configs sqlite database\n",
    "    Args:\n",
    "        field_name (_type_): the name of the field being deleted from the db\n",
    "        database (str, optional): the name of the sqlite database the function deletes records from. Defaults to \"configs.db\".\n",
    "        table_name (str, optional): the name of the table in the sqlite database where the record will be deleted from. Defaults to \"configs\".\n",
    "    \"\"\"\n",
    "    st = f\" delete from '{table_name}' where field = '{field_name}'\"\n",
    "    import sqlite3 \n",
    "    conn = sqlite3.connect(database) \n",
    "    cursor = conn.cursor() \n",
    "    cursor.execute(st)\n",
    "    conn.commit() \n",
    "    conn.close()\n",
    "    \n",
    "    \n",
    "ec2 = boto3.client('ec2')"
   ]
  },
  {
   "cell_type": "markdown",
   "metadata": {},
   "source": [
    "## Run for New VPC Only\n",
    "\n",
    "If the workbook is being used to build up a new VPC, run the below code chunk. Otherwise, do not run this next code chunk:"
   ]
  },
  {
   "cell_type": "code",
   "execution_count": 2,
   "metadata": {},
   "outputs": [],
   "source": [
    "import os \n",
    "new_vpc = True\n",
    "\n",
    "if new_vpc and \"configs.db\" in os.listdir():\n",
    "    #https://www.w3schools.com/python/python_file_remove.asp\n",
    "    os.remove(\"configs.db\")"
   ]
  },
  {
   "cell_type": "markdown",
   "metadata": {},
   "source": [
    "### Unit test - return one of the variables in the db\n",
    "\n",
    "Note that since this variable was declared inside of the function using the exec operation, rather than being declared above, the VS Code IDE will underline it to assert that it is referenced before declaration. "
   ]
  },
  {
   "cell_type": "code",
   "execution_count": 3,
   "metadata": {},
   "outputs": [],
   "source": [
    "if new_vpc != True:\n",
    "    VpcId"
   ]
  },
  {
   "cell_type": "markdown",
   "metadata": {},
   "source": [
    "### Unit test - confirm all IAC variables are in the global Python environment\n",
    "\n",
    "First, the IAC variables will be printed out to show the undeclared variables I'm going to confirm the existence of:"
   ]
  },
  {
   "cell_type": "code",
   "execution_count": 4,
   "metadata": {},
   "outputs": [],
   "source": [
    "if new_vpc != True:\n",
    "    infra_db_vars = set(read_db_results()['field'])\n",
    "    infra_db_vars"
   ]
  },
  {
   "cell_type": "markdown",
   "metadata": {},
   "source": [
    "Next, a special property of the set operation in the Python builtins will be used to compare the set above against a set of all variables in the global environment that can be retireved via dir() to ensure that I have all of these pulled in. Since I are comparing from the infra_db_vars set TO the dir() set, it will only return any variables that are not in infra_db_vars."
   ]
  },
  {
   "cell_type": "code",
   "execution_count": 5,
   "metadata": {},
   "outputs": [],
   "source": [
    "if new_vpc != True:\n",
    "    infra_db_vars.difference(dir())"
   ]
  },
  {
   "cell_type": "markdown",
   "metadata": {},
   "source": [
    "# Python environment setup\n",
    "\n",
    "Any python environment running on a computer should be built in an isolated virtual environment. Moreover, this environment should be part of the bespoke infrastructure as code repeatable pipeline. By scripting the setup for the local, as well as the remote, python environments, it becomes possible to remove a considerable amount of effort and uncertainty that stands in the way of delivering a secure work environment to support bespoke data science. Virtual environments are best deployed as conda environments through declarative yaml configuration files.\n",
    "\n",
    "A printout of the local environment setup yaml anaconda configuration file, and associated environment is printed out below. The parts of the yaml configuration is : (1) the name of the environment to be set up - which can be different from the file name; (2) the channels from which Python packages will be sought and solved for - in order of preference. This preference can be overrided manually, if necessary under the last section; (3) dependencies - which lists the items to be installed. By specifying the version of python to be installed using an inequality, the package manager will have a range of options to solve for a fully consistent environment. Using conda instead of PIP can help ensure that dependencies are solved for across the entire environment, instead of sequentially. Having consistency at this level will better guarantee that conflicts between packages are avoided to the greatest degree possible."
   ]
  },
  {
   "cell_type": "code",
   "execution_count": 6,
   "metadata": {},
   "outputs": [
    {
     "name": "stdout",
     "output_type": "stream",
     "text": [
      "name: generic_aws_cli_env\n",
      "channels:\n",
      "  - conda-forge\n",
      "  - default\n",
      "dependencies:\n",
      "  - python>=3.11\n",
      "  - numpy\n",
      "  - pandas\n",
      "  - pip\n",
      "  - boto3\n",
      "  - ipykernel\n",
      "  - openpyxl\n",
      "  - sqlalchemy\n",
      "  - nbconvert\n"
     ]
    }
   ],
   "source": [
    "with open('generic_aws_cli_env.yml', 'r', newline='\\r') as file:\n",
    "    for line in file:\n",
    "        print(line)"
   ]
  },
  {
   "cell_type": "markdown",
   "metadata": {},
   "source": [
    "Below, the command to make use of this Python yaml script is presented. Python environments like this can be set up from any directory on the computer. Since this file is enclosed inside of the directory for the project, a setup command invoked in this directory will build the environment. The below command tells conda to create a new environment. The \"-f\" option from the printout above means to force the environment to say yes to all options during setup. Since I don't want to make use of an interactive terminal in the IDE, saying yes to all defaults automatically is required to run this command in the Jupyter cell. In general, this would be done the same way from the terminal so this is not a compromise in quality for the above set of dependencies. The last option is the name of the yaml file to be run. By putting the \"!\" character in front of the command, the bash terminal is invoked inside of the Jupyter notebook cell. Any results of the command from the terminal will then be displayed below the cell as the cell output - just as when using Python commands within a Jupyter notebook cell:"
   ]
  },
  {
   "cell_type": "code",
   "execution_count": 11,
   "metadata": {},
   "outputs": [
    {
     "name": "stdout",
     "output_type": "stream",
     "text": [
      "Retrieving notices: ...working... done\n",
      "\n",
      "CondaValueError: prefix already exists: /home/batman/anaconda3/envs/generic_aws_cli_env\n",
      "\n"
     ]
    }
   ],
   "source": [
    "!conda env create -f generic_aws_cli_env.yml"
   ]
  },
  {
   "cell_type": "markdown",
   "metadata": {},
   "source": [
    "The above result means that the environment has been successfully built. You might not see this result if your version of anaconda is out of date - in which case you can separately run commands from the terminal to upgrade your environment to the newest version the way you would ordinarily do so to perform maintenance on your package manager as a data scientist. If you don't have sufficient permissions to do this, you can always perform the environment setup using anaconda navigator - since the libraries used in this demo are available and supported within anaconda. The approach presented here is far more lightweight and fast compared to using the GUI. Moreover, in keeping with the overall spirit of this project, scripted command line approaches for building all infrastructure are also far more repeatable as well."
   ]
  },
  {
   "cell_type": "markdown",
   "metadata": {},
   "source": [
    "## AWS Configuration Step\n",
    "\n",
    "First, it is necessary to install the awscli library for the operating system. On Ubuntu, that is the following command:\n",
    "\n",
    "*sudo apt-get install awscli*\n",
    "\n",
    "In order to work with boto3, I will need to provide AWS account credentials for a user that I have created which has command line interface (CLI) credentials. The best practice in this circumstance is to create a separate IAM user from the root account that has CLI access credentials. You will need to save the aws_access_key_id and aws_secret_access_key into a password manager as they are not downloadable again from the AWS console after creation. Once done, run the following terminal command:\n",
    "\n",
    "*aws configure*\n",
    "\n",
    "It will then prompt you for the aws_access_key_id and aws_secret_access_key , and then the default region (us-east-1 chosen in this case) and the output format to be used for response payloads from calls from the AWS library. In this case, none was chosen (json is used in some programs)."
   ]
  },
  {
   "cell_type": "markdown",
   "metadata": {},
   "source": [
    "# Remote environment setup\n",
    "\n",
    "For the remote environment, I need to define and accomplish some key goals for the infrastructure itself before it will be performant, secure, and full featured enough to be useful. To simplify this, a visual diagram of the proposed architecture, which was developed using [Lucidchart](https://lucid.app/lucidchart/271a1087-bf06-43f3-a0ba-6a6807b3907f/edit?beaconFlowId=10D149A4EDB74854&invitationId=inv_87ebd96a-e26f-4ad1-8221-b2fb91d58b75&page=0_0#) is presented below:"
   ]
  },
  {
   "cell_type": "code",
   "execution_count": 7,
   "metadata": {},
   "outputs": [
    {
     "data": {
      "image/png": "[encoded data removed]",
      "text/plain": [
       "<IPython.core.display.Image object>"
      ]
     },
     "execution_count": 7,
     "metadata": {},
     "output_type": "execute_result"
    }
   ],
   "source": [
    "display.Image('https://lucid.app/publicSegments/view/0d706bde-f039-403d-a807-92ef2da9c724/image.png')"
   ]
  },
  {
   "cell_type": "markdown",
   "metadata": {},
   "source": [
    "## Explanation\n",
    "\n",
    "At a high level, the architecture will be a full featured environment designed to support a full lifecycle of a machine learning project. Computing will be provided by Amazon ec2 servers - ideally provisioned with a GPU for more intensive workloads (merely typically as difficult as a configuration option in boto3). Unlike a typical workflow for a project served off of a corporate transactional database, the data for a typical project is typically downloaded a single time and must be destroyed at the end of a project. Datasets can be several terabytes in size and contain incredibly sensitive data. Typically, the data will be have to be uploaded to the project servers using a secure file transfer point (sFTP) service. In an ideal world, data from the source server would be downloaded directly to the cloud service without any intermediate step - such as being downloaded first on a local machine. The source data would then need to be moved from the sFTP to a data lake for use in the project. Amazon offers AWS HealthLake - which I would seek to specify and provision programatically if possible. \n",
    "\n",
    "The model development lifecycle would ideally be handled by AWS Sagemaker - which is relatively full featured. A lower cost, but more demanding approach to the setup, would be to deploy a second ec2 that would be provisioned with an ML Flow server - which is what Sagemaker makes use of in terms of design pattern but also most likely as an underlying code base. ML Flow server would be used as a model registry, but also for inferencing. In scenarios where inferencing workloads are variable, scale out and scale in could potentially be orchestrated in some circumstances, but not all. As such, an AWS Serverless approach would be preferable from an operational excellence standpoint.\n",
    "\n",
    "It is critical that none of the data in this setting be persisted in a publicly reachable host or dataset. All of the data should therefore only be reachable on a private subnet that can only be reached via a bastion host."
   ]
  },
  {
   "cell_type": "markdown",
   "metadata": {},
   "source": [
    "# AWS boto3 discussion\n",
    "\n",
    "The AWS SDK utilizes the credentials provided to create a client with the AWS CLI using the boto3.client() method of the boto3 class. \n",
    "\n",
    "When I first began interacting with the AWS SDK, I was a bit puzzled at some of the references to VPCs in the AWS SDK. It seems that, perhaps due to the history of how AWS services evolved, with ec2 being one of the first services, the reference to VPC is actually nested within an ec2 object type of the boto3 client. With so much of custom computing revolving around ec2s, this seems like a useful note for anyone starting out on this type of IAC project.\n",
    "\n",
    "In general, it is much easier to understand boto3 once you observe that much of the library follows a general form in which a client connection is made. Within that connection, methods of the connection follow a general form of \"create_resourcetype.\" Next, various relevant functionality of AWS is exposed to the end user through optional arguments that can be passed to the function. Lastly, a mechanism to deploy tags is also generally provided for.\n",
    "\n",
    "# Boto3 client\n",
    "\n",
    "First, a boto3 client will be created to create the most important resources for this project:"
   ]
  },
  {
   "cell_type": "code",
   "execution_count": 8,
   "metadata": {},
   "outputs": [],
   "source": [
    "# this link demonstrated how to form a connection\n",
    "# https://boto3.amazonaws.com/v1/documentation/api/latest/guide/ec2-example-security-group.html\n",
    "ec2 = boto3.client('ec2')"
   ]
  },
  {
   "cell_type": "markdown",
   "metadata": {},
   "source": [
    "The next step is to create the VPC. There is an extensive set of options within the create_vpc command. Many of these options pertain to IP address pool allocation. These capabilities would be very useful in scenarios with large organizations with multiple AWS accounts that need to ensure that IP address ranges don't overlap. These options will not be necessary with a single AWS account configuration for an academic final project. It is also possible to specify whether the VPC will be within a shared tenancy environment - as is common for most cloud instances - or whether a dedicated tenancy is required (which could potentially be useful for highly regulated settings in which tenancy cannot be shared). Below, a VPC is created using the ec2 client connection instance from above. "
   ]
  },
  {
   "cell_type": "code",
   "execution_count": 9,
   "metadata": {},
   "outputs": [],
   "source": [
    "# https://boto3.amazonaws.com/v1/documentation/api/latest/reference/services/ec2/client/create_vpc.html#EC2.Client.create_vpc\n",
    "response = ec2.create_vpc(\n",
    "    CidrBlock='10.0.0.0/16',\n",
    "    DryRun=False, # useful for testing purposes\n",
    "    InstanceTenancy='default',\n",
    "    TagSpecifications=[\n",
    "        {\n",
    "            'ResourceType':  'vpc',\n",
    "            'Tags': [\n",
    "                {\n",
    "                    'Key': 'Name',\n",
    "                    'Value': 'hes_e90_project'\n",
    "                },\n",
    "            ]\n",
    "        },\n",
    "    ]\n",
    ")"
   ]
  },
  {
   "cell_type": "markdown",
   "metadata": {},
   "source": [
    "I can see from the results of the cell operation above that the request to AWS was successfully fulfilled. The VPC name is programmatically extracted from the response payload above. The VPC ID is saved for subsequent use in further architectual changes to the new VPC."
   ]
  },
  {
   "cell_type": "code",
   "execution_count": 10,
   "metadata": {},
   "outputs": [
    {
     "data": {
      "text/plain": [
       "{'Vpc': {'CidrBlock': '10.0.0.0/16',\n",
       "  'DhcpOptionsId': 'dopt-0bb0509a8ecf25acb',\n",
       "  'State': 'pending',\n",
       "  'VpcId': 'vpc-09227df9104712079',\n",
       "  'OwnerId': '505296053618',\n",
       "  'InstanceTenancy': 'default',\n",
       "  'Ipv6CidrBlockAssociationSet': [],\n",
       "  'CidrBlockAssociationSet': [{'AssociationId': 'vpc-cidr-assoc-051662c6c4f211c33',\n",
       "    'CidrBlock': '10.0.0.0/16',\n",
       "    'CidrBlockState': {'State': 'associated'}}],\n",
       "  'IsDefault': False,\n",
       "  'Tags': [{'Key': 'Name', 'Value': 'hes_e90_project'}]},\n",
       " 'ResponseMetadata': {'RequestId': '1eaf8b9e-4d18-44ef-981e-0be3f38eb5a2',\n",
       "  'HTTPStatusCode': 200,\n",
       "  'HTTPHeaders': {'x-amzn-requestid': '1eaf8b9e-4d18-44ef-981e-0be3f38eb5a2',\n",
       "   'cache-control': 'no-cache, no-store',\n",
       "   'strict-transport-security': 'max-age=31536000; includeSubDomains',\n",
       "   'content-type': 'text/xml;charset=UTF-8',\n",
       "   'content-length': '1067',\n",
       "   'date': 'Sun, 17 Dec 2023 21:18:27 GMT',\n",
       "   'server': 'AmazonEC2'},\n",
       "  'RetryAttempts': 0}}"
      ]
     },
     "execution_count": 10,
     "metadata": {},
     "output_type": "execute_result"
    }
   ],
   "source": [
    "vpc_metadata = response\n",
    "vpc_metadata"
   ]
  },
  {
   "cell_type": "code",
   "execution_count": 11,
   "metadata": {},
   "outputs": [
    {
     "data": {
      "text/plain": [
       "'vpc-09227df9104712079'"
      ]
     },
     "execution_count": 11,
     "metadata": {},
     "output_type": "execute_result"
    }
   ],
   "source": [
    "vpc_id_for_demo = vpc_metadata['Vpc']['VpcId']\n",
    "vpc_id_for_demo"
   ]
  },
  {
   "cell_type": "markdown",
   "metadata": {},
   "source": [
    "Next, consistent with the architectual plan, public and private subnets will be added to the VPC using the cached VPC ID from the previous step. Below, the public subnet is added first:"
   ]
  },
  {
   "cell_type": "code",
   "execution_count": 12,
   "metadata": {},
   "outputs": [
    {
     "data": {
      "text/plain": [
       "{'Subnet': {'AvailabilityZone': 'us-east-1a',\n",
       "  'AvailabilityZoneId': 'use1-az4',\n",
       "  'AvailableIpAddressCount': 251,\n",
       "  'CidrBlock': '10.0.1.0/24',\n",
       "  'DefaultForAz': False,\n",
       "  'MapPublicIpOnLaunch': False,\n",
       "  'State': 'available',\n",
       "  'SubnetId': 'subnet-097eeb8c19ed55f79',\n",
       "  'VpcId': 'vpc-09227df9104712079',\n",
       "  'OwnerId': '505296053618',\n",
       "  'AssignIpv6AddressOnCreation': False,\n",
       "  'Ipv6CidrBlockAssociationSet': [],\n",
       "  'Tags': [{'Key': 'Name', 'Value': 'e90_final_public'}],\n",
       "  'SubnetArn': 'arn:aws:ec2:us-east-1:505296053618:subnet/subnet-097eeb8c19ed55f79',\n",
       "  'EnableDns64': False,\n",
       "  'Ipv6Native': False,\n",
       "  'PrivateDnsNameOptionsOnLaunch': {'HostnameType': 'ip-name',\n",
       "   'EnableResourceNameDnsARecord': False,\n",
       "   'EnableResourceNameDnsAAAARecord': False}},\n",
       " 'ResponseMetadata': {'RequestId': '91b3283b-4da7-4c23-85bf-100235f466f8',\n",
       "  'HTTPStatusCode': 200,\n",
       "  'HTTPHeaders': {'x-amzn-requestid': '91b3283b-4da7-4c23-85bf-100235f466f8',\n",
       "   'cache-control': 'no-cache, no-store',\n",
       "   'strict-transport-security': 'max-age=31536000; includeSubDomains',\n",
       "   'content-type': 'text/xml;charset=UTF-8',\n",
       "   'content-length': '1456',\n",
       "   'date': 'Sun, 17 Dec 2023 21:19:02 GMT',\n",
       "   'server': 'AmazonEC2'},\n",
       "  'RetryAttempts': 0}}"
      ]
     },
     "execution_count": 12,
     "metadata": {},
     "output_type": "execute_result"
    }
   ],
   "source": [
    "# https://boto3.amazonaws.com/v1/documentation/api/latest/reference/services/ec2/client/create_subnet.html#EC2.Client.create_subnet\n",
    "response = ec2.create_subnet(\n",
    "    TagSpecifications=[\n",
    "        {\n",
    "            'ResourceType': 'subnet',\n",
    "            'Tags': [\n",
    "                {\n",
    "                    'Key': 'Name',\n",
    "                    'Value': 'e90_final_public'\n",
    "                },\n",
    "            ]\n",
    "        },\n",
    "    ],\n",
    "    AvailabilityZone='us-east-1a',\n",
    "    CidrBlock='10.0.1.0/24',\n",
    "    VpcId=vpc_id_for_demo,\n",
    "    DryRun=False\n",
    ")\n",
    "response"
   ]
  },
  {
   "cell_type": "code",
   "execution_count": 13,
   "metadata": {},
   "outputs": [
    {
     "data": {
      "text/plain": [
       "'subnet-097eeb8c19ed55f79'"
      ]
     },
     "execution_count": 13,
     "metadata": {},
     "output_type": "execute_result"
    }
   ],
   "source": [
    "public_subnet_id = response['Subnet']['SubnetId']\n",
    "public_subnet_id"
   ]
  },
  {
   "cell_type": "markdown",
   "metadata": {},
   "source": [
    "Next, a private subnet is created in a different availability zone and CIDR block within the same VPC:"
   ]
  },
  {
   "cell_type": "code",
   "execution_count": 14,
   "metadata": {},
   "outputs": [
    {
     "data": {
      "text/plain": [
       "{'Subnet': {'AvailabilityZone': 'us-east-1b',\n",
       "  'AvailabilityZoneId': 'use1-az6',\n",
       "  'AvailableIpAddressCount': 251,\n",
       "  'CidrBlock': '10.0.2.0/24',\n",
       "  'DefaultForAz': False,\n",
       "  'MapPublicIpOnLaunch': False,\n",
       "  'State': 'available',\n",
       "  'SubnetId': 'subnet-0cacf4f9a5a4c0f9c',\n",
       "  'VpcId': 'vpc-09227df9104712079',\n",
       "  'OwnerId': '505296053618',\n",
       "  'AssignIpv6AddressOnCreation': False,\n",
       "  'Ipv6CidrBlockAssociationSet': [],\n",
       "  'Tags': [{'Key': 'Name', 'Value': 'e90-fp-private'}],\n",
       "  'SubnetArn': 'arn:aws:ec2:us-east-1:505296053618:subnet/subnet-0cacf4f9a5a4c0f9c',\n",
       "  'EnableDns64': False,\n",
       "  'Ipv6Native': False,\n",
       "  'PrivateDnsNameOptionsOnLaunch': {'HostnameType': 'ip-name',\n",
       "   'EnableResourceNameDnsARecord': False,\n",
       "   'EnableResourceNameDnsAAAARecord': False}},\n",
       " 'ResponseMetadata': {'RequestId': '3cd1b9f2-a290-4431-87ec-5698a1c7f77f',\n",
       "  'HTTPStatusCode': 200,\n",
       "  'HTTPHeaders': {'x-amzn-requestid': '3cd1b9f2-a290-4431-87ec-5698a1c7f77f',\n",
       "   'cache-control': 'no-cache, no-store',\n",
       "   'strict-transport-security': 'max-age=31536000; includeSubDomains',\n",
       "   'content-type': 'text/xml;charset=UTF-8',\n",
       "   'content-length': '1454',\n",
       "   'date': 'Sun, 17 Dec 2023 21:19:14 GMT',\n",
       "   'server': 'AmazonEC2'},\n",
       "  'RetryAttempts': 0}}"
      ]
     },
     "execution_count": 14,
     "metadata": {},
     "output_type": "execute_result"
    }
   ],
   "source": [
    "# https://boto3.amazonaws.com/v1/documentation/api/latest/reference/services/ec2/client/create_subnet.html#EC2.Client.create_subnet\n",
    "response = ec2.create_subnet(\n",
    "    TagSpecifications=[\n",
    "        {\n",
    "            'ResourceType': 'subnet',\n",
    "            'Tags': [\n",
    "                {\n",
    "                    'Key': 'Name',\n",
    "                    'Value': 'e90-fp-private'\n",
    "                },\n",
    "            ]\n",
    "        },\n",
    "    ],\n",
    "    AvailabilityZone='us-east-1b',\n",
    "    CidrBlock='10.0.2.0/24',\n",
    "    VpcId=vpc_id_for_demo,\n",
    "    DryRun=False\n",
    ")\n",
    "response"
   ]
  },
  {
   "cell_type": "code",
   "execution_count": 15,
   "metadata": {},
   "outputs": [
    {
     "data": {
      "text/plain": [
       "'subnet-0cacf4f9a5a4c0f9c'"
      ]
     },
     "execution_count": 15,
     "metadata": {},
     "output_type": "execute_result"
    }
   ],
   "source": [
    "private_subnet_id = response['Subnet']['SubnetId']\n",
    "private_subnet_id"
   ]
  },
  {
   "cell_type": "markdown",
   "metadata": {},
   "source": [
    "Next, an internet gateway will be created and attached to the public subnet to ensure that the bastion subnet can be reached from my laptop. According to the boto3 documentation, the internet gateway needs to be created first before it can be subsequently attached to a VPC; it is not created with a single call (which is consistent with how it works from the AWS console). Other than that, the call to this component is consistent and is the same as before."
   ]
  },
  {
   "cell_type": "code",
   "execution_count": 16,
   "metadata": {},
   "outputs": [
    {
     "data": {
      "text/plain": [
       "{'InternetGateway': {'Attachments': [],\n",
       "  'InternetGatewayId': 'igw-0bce767c5b3cf79a4',\n",
       "  'OwnerId': '505296053618',\n",
       "  'Tags': [{'Key': 'Name', 'Value': 'e90-fp-igw'}]},\n",
       " 'ResponseMetadata': {'RequestId': '44dd0438-5c7a-4ec2-8960-e5ae81b42a53',\n",
       "  'HTTPStatusCode': 200,\n",
       "  'HTTPHeaders': {'x-amzn-requestid': '44dd0438-5c7a-4ec2-8960-e5ae81b42a53',\n",
       "   'cache-control': 'no-cache, no-store',\n",
       "   'strict-transport-security': 'max-age=31536000; includeSubDomains',\n",
       "   'content-type': 'text/xml;charset=UTF-8',\n",
       "   'content-length': '567',\n",
       "   'date': 'Sun, 17 Dec 2023 21:19:37 GMT',\n",
       "   'server': 'AmazonEC2'},\n",
       "  'RetryAttempts': 0}}"
      ]
     },
     "execution_count": 16,
     "metadata": {},
     "output_type": "execute_result"
    }
   ],
   "source": [
    "# https://boto3.amazonaws.com/v1/documentation/api/latest/reference/services/ec2/client/create_internet_gateway.html\n",
    "response = ec2.create_internet_gateway(\n",
    "    TagSpecifications=[\n",
    "        {\n",
    "            'ResourceType': 'internet-gateway',\n",
    "            'Tags': [\n",
    "                {\n",
    "                    'Key': 'Name',\n",
    "                    'Value': 'e90-fp-igw'\n",
    "                },\n",
    "            ]\n",
    "        },\n",
    "    ],\n",
    "    DryRun=False\n",
    ")\n",
    "response"
   ]
  },
  {
   "cell_type": "code",
   "execution_count": 17,
   "metadata": {},
   "outputs": [
    {
     "data": {
      "text/plain": [
       "'igw-0bce767c5b3cf79a4'"
      ]
     },
     "execution_count": 17,
     "metadata": {},
     "output_type": "execute_result"
    }
   ],
   "source": [
    "igw_id = response['InternetGateway']['InternetGatewayId']\n",
    "igw_id"
   ]
  },
  {
   "cell_type": "code",
   "execution_count": 18,
   "metadata": {},
   "outputs": [
    {
     "data": {
      "text/plain": [
       "{'ResponseMetadata': {'RequestId': 'd599e21f-037e-484a-9c53-6f516d276d3a',\n",
       "  'HTTPStatusCode': 200,\n",
       "  'HTTPHeaders': {'x-amzn-requestid': 'd599e21f-037e-484a-9c53-6f516d276d3a',\n",
       "   'cache-control': 'no-cache, no-store',\n",
       "   'strict-transport-security': 'max-age=31536000; includeSubDomains',\n",
       "   'content-type': 'text/xml;charset=UTF-8',\n",
       "   'content-length': '243',\n",
       "   'date': 'Sun, 17 Dec 2023 21:19:51 GMT',\n",
       "   'server': 'AmazonEC2'},\n",
       "  'RetryAttempts': 0}}"
      ]
     },
     "execution_count": 18,
     "metadata": {},
     "output_type": "execute_result"
    }
   ],
   "source": [
    "# https://boto3.amazonaws.com/v1/documentation/api/latest/reference/services/ec2/client/attach_internet_gateway.html\n",
    "response = ec2.attach_internet_gateway(\n",
    "    DryRun=False,\n",
    "    InternetGatewayId=igw_id,\n",
    "    VpcId=vpc_id_for_demo\n",
    ")\n",
    "response"
   ]
  },
  {
   "cell_type": "markdown",
   "metadata": {},
   "source": [
    "Next, I create a NAT gateway for use by ec2s in the private subnet in order to enable them to perform application updates and reach out to external services. Since this NAT gateway will not be associated with a public subnet, I do not need to specify an elastic IP during the configuration step. However, I am going to need the subnet id of the private subnet in order to attach the NAT gateway. These steps are consistent with the ordinary AWS console driven GUI configuration process for a NAT gateway."
   ]
  },
  {
   "cell_type": "code",
   "execution_count": 19,
   "metadata": {},
   "outputs": [
    {
     "data": {
      "text/plain": [
       "{'PublicIp': '44.217.128.44',\n",
       " 'AllocationId': 'eipalloc-0c90677192f18ecda',\n",
       " 'PublicIpv4Pool': 'amazon',\n",
       " 'NetworkBorderGroup': 'us-east-1',\n",
       " 'Domain': 'vpc',\n",
       " 'ResponseMetadata': {'RequestId': 'd4f2777b-50ce-4683-8281-fd10a9e09bb2',\n",
       "  'HTTPStatusCode': 200,\n",
       "  'HTTPHeaders': {'x-amzn-requestid': 'd4f2777b-50ce-4683-8281-fd10a9e09bb2',\n",
       "   'cache-control': 'no-cache, no-store',\n",
       "   'strict-transport-security': 'max-age=31536000; includeSubDomains',\n",
       "   'content-type': 'text/xml;charset=UTF-8',\n",
       "   'content-length': '428',\n",
       "   'date': 'Sun, 17 Dec 2023 21:20:14 GMT',\n",
       "   'server': 'AmazonEC2'},\n",
       "  'RetryAttempts': 0}}"
      ]
     },
     "execution_count": 19,
     "metadata": {},
     "output_type": "execute_result"
    }
   ],
   "source": [
    "# https://boto3.amazonaws.com/v1/documentation/api/latest/reference/services/ec2/client/allocate_address.html\n",
    "response = ec2.allocate_address(\n",
    "    Domain='vpc',\n",
    "    DryRun=False,\n",
    "    TagSpecifications=[\n",
    "        {\n",
    "            'ResourceType': 'elastic-ip',\n",
    "            'Tags': [\n",
    "                {\n",
    "                    'Key': 'Name',\n",
    "                    'Value': 'e90-fp-nat-eip'\n",
    "                },\n",
    "            ]\n",
    "        },\n",
    "    ]\n",
    ")\n",
    "response"
   ]
  },
  {
   "cell_type": "markdown",
   "metadata": {},
   "source": [
    "Here the elastic IP name is attached to a variable for use in the global environment for this IAC program:"
   ]
  },
  {
   "cell_type": "code",
   "execution_count": 20,
   "metadata": {},
   "outputs": [
    {
     "data": {
      "text/plain": [
       "'eipalloc-0c90677192f18ecda'"
      ]
     },
     "execution_count": 20,
     "metadata": {},
     "output_type": "execute_result"
    }
   ],
   "source": [
    "natgw_eip_id = response['AllocationId']\n",
    "natgw_eip_id"
   ]
  },
  {
   "cell_type": "markdown",
   "metadata": {},
   "source": [
    "Next, a NAT gateway is created:"
   ]
  },
  {
   "cell_type": "code",
   "execution_count": 21,
   "metadata": {},
   "outputs": [
    {
     "data": {
      "text/plain": [
       "{'ClientToken': 'e127dcfe-179f-4e22-9a42-c0d469a26b4b',\n",
       " 'NatGateway': {'CreateTime': datetime.datetime(2023, 12, 17, 21, 20, 25, tzinfo=tzutc()),\n",
       "  'NatGatewayAddresses': [{'AllocationId': 'eipalloc-0c90677192f18ecda',\n",
       "    'IsPrimary': True,\n",
       "    'Status': 'associating'}],\n",
       "  'NatGatewayId': 'nat-03a9451b9ad3f3bc5',\n",
       "  'State': 'pending',\n",
       "  'SubnetId': 'subnet-0cacf4f9a5a4c0f9c',\n",
       "  'VpcId': 'vpc-09227df9104712079',\n",
       "  'Tags': [{'Key': 'Name', 'Value': 'e90-fp-natgw'}],\n",
       "  'ConnectivityType': 'public'},\n",
       " 'ResponseMetadata': {'RequestId': '24a2ef33-a843-480c-96e2-dd18ced7d9e4',\n",
       "  'HTTPStatusCode': 200,\n",
       "  'HTTPHeaders': {'x-amzn-requestid': '24a2ef33-a843-480c-96e2-dd18ced7d9e4',\n",
       "   'cache-control': 'no-cache, no-store',\n",
       "   'strict-transport-security': 'max-age=31536000; includeSubDomains',\n",
       "   'vary': 'accept-encoding',\n",
       "   'content-type': 'text/xml;charset=UTF-8',\n",
       "   'transfer-encoding': 'chunked',\n",
       "   'date': 'Sun, 17 Dec 2023 21:20:25 GMT',\n",
       "   'server': 'AmazonEC2'},\n",
       "  'RetryAttempts': 0}}"
      ]
     },
     "execution_count": 21,
     "metadata": {},
     "output_type": "execute_result"
    }
   ],
   "source": [
    "# https://boto3.amazonaws.com/v1/documentation/api/latest/reference/services/ec2/client/create_nat_gateway.html\n",
    "response = ec2.create_nat_gateway(\n",
    "    DryRun=False,\n",
    "    AllocationId=natgw_eip_id,\n",
    "    SubnetId=private_subnet_id,\n",
    "    TagSpecifications=[\n",
    "        {\n",
    "            'ResourceType': 'natgateway',\n",
    "            'Tags': [\n",
    "                {\n",
    "                    'Key': 'Name',\n",
    "                    'Value': 'e90-fp-natgw'\n",
    "                },\n",
    "            ]\n",
    "        },\n",
    "    ],\n",
    "    ConnectivityType='public'\n",
    ")\n",
    "response"
   ]
  },
  {
   "cell_type": "markdown",
   "metadata": {},
   "source": [
    "Here the NAT gateway is assigned to a variable in the global environment:"
   ]
  },
  {
   "cell_type": "code",
   "execution_count": 22,
   "metadata": {},
   "outputs": [
    {
     "data": {
      "text/plain": [
       "'nat-03a9451b9ad3f3bc5'"
      ]
     },
     "execution_count": 22,
     "metadata": {},
     "output_type": "execute_result"
    }
   ],
   "source": [
    "nat_gw_id = response['NatGateway']['NatGatewayId']\n",
    "nat_gw_id"
   ]
  },
  {
   "cell_type": "markdown",
   "metadata": {},
   "source": [
    "# Notebook Checkpoint\n",
    "\n",
    "At this point in the process, the IDs for the infrastructure that has been created up to this point are saved down programmatically in a sqlite database. Saving these down in this fashion enables the resumption of work later without needing to manually copying down resource IDs from the AWS console for the VPC. Since one of the goals of this workbook is to eliminate time consuming manual steps for infrastructure setup, I decided on this approach to ensure that I had a process to ensure that infrastructure setup work requiring more than a single shift could be resumed without manual steps - specifically I do not want to perform any cutting and pasting between UIs on AWS. Otherwise, this project would have all of the added complexity of learning the SDK in addition to the time consuming nature of AWS GUI driven steps."
   ]
  },
  {
   "cell_type": "code",
   "execution_count": 23,
   "metadata": {},
   "outputs": [
    {
     "data": {
      "text/html": [
       "<div>\n",
       "<style scoped>\n",
       "    .dataframe tbody tr th:only-of-type {\n",
       "        vertical-align: middle;\n",
       "    }\n",
       "\n",
       "    .dataframe tbody tr th {\n",
       "        vertical-align: top;\n",
       "    }\n",
       "\n",
       "    .dataframe thead th {\n",
       "        text-align: right;\n",
       "    }\n",
       "</style>\n",
       "<table border=\"1\" class=\"dataframe\">\n",
       "  <thead>\n",
       "    <tr style=\"text-align: right;\">\n",
       "      <th></th>\n",
       "      <th>field</th>\n",
       "      <th>value</th>\n",
       "    </tr>\n",
       "  </thead>\n",
       "  <tbody>\n",
       "    <tr>\n",
       "      <th>0</th>\n",
       "      <td>VpcId</td>\n",
       "      <td>vpc-09227df9104712079</td>\n",
       "    </tr>\n",
       "    <tr>\n",
       "      <th>1</th>\n",
       "      <td>public_subnet_id</td>\n",
       "      <td>subnet-097eeb8c19ed55f79</td>\n",
       "    </tr>\n",
       "    <tr>\n",
       "      <th>2</th>\n",
       "      <td>private_subnet_id</td>\n",
       "      <td>subnet-0cacf4f9a5a4c0f9c</td>\n",
       "    </tr>\n",
       "    <tr>\n",
       "      <th>3</th>\n",
       "      <td>nat_gateway</td>\n",
       "      <td>nat-03a9451b9ad3f3bc5</td>\n",
       "    </tr>\n",
       "    <tr>\n",
       "      <th>4</th>\n",
       "      <td>internet_gateway_id</td>\n",
       "      <td>igw-0bce767c5b3cf79a4</td>\n",
       "    </tr>\n",
       "    <tr>\n",
       "      <th>5</th>\n",
       "      <td>natgw_eip</td>\n",
       "      <td>eipalloc-0c90677192f18ecda</td>\n",
       "    </tr>\n",
       "  </tbody>\n",
       "</table>\n",
       "</div>"
      ],
      "text/plain": [
       "                 field                       value\n",
       "0                VpcId       vpc-09227df9104712079\n",
       "1     public_subnet_id    subnet-097eeb8c19ed55f79\n",
       "2    private_subnet_id    subnet-0cacf4f9a5a4c0f9c\n",
       "3          nat_gateway       nat-03a9451b9ad3f3bc5\n",
       "4  internet_gateway_id       igw-0bce767c5b3cf79a4\n",
       "5            natgw_eip  eipalloc-0c90677192f18ecda"
      ]
     },
     "execution_count": 23,
     "metadata": {},
     "output_type": "execute_result"
    }
   ],
   "source": [
    "from pandas import DataFrame\n",
    "temp_creds_df = DataFrame({\n",
    "        \"field\": [\"VpcId\", \"public_subnet_id\", \"private_subnet_id\", \"nat_gateway\", \"internet_gateway_id\", \"natgw_eip\"],\n",
    "        \"value\": [vpc_id_for_demo, public_subnet_id, private_subnet_id, nat_gw_id, igw_id, natgw_eip_id ]\n",
    "    })\n",
    "\n",
    "temp_creds_df"
   ]
  },
  {
   "cell_type": "markdown",
   "metadata": {},
   "source": [
    "### Create database to persist the values of the pandas dataframe\n",
    "\n",
    "After a number of different methods of exploring means of creating a database to persist credentials in a sqlite database, I found that the most efficient is a direct call from a pandas dataframe in which the database is created and records appended (if applicable) in a single call. The result returns a number for the number of rows inserted into the database."
   ]
  },
  {
   "cell_type": "code",
   "execution_count": 24,
   "metadata": {},
   "outputs": [
    {
     "data": {
      "text/plain": [
       "6"
      ]
     },
     "execution_count": 24,
     "metadata": {},
     "output_type": "execute_result"
    }
   ],
   "source": [
    "# code template from here\n",
    "# https://pandas.pydata.org/pandas-docs/stable/reference/api/pandas.DataFrame.to_sql.html\n",
    "temp_creds_df.to_sql(name='configs', con=\"sqlite:///configs.db\" , index=False, if_exists='append')"
   ]
  },
  {
   "cell_type": "markdown",
   "metadata": {},
   "source": [
    "# Resume \n",
    "\n",
    "At this stage, I read the configs back in from the sqlite database to continue work on the notebook:"
   ]
  },
  {
   "cell_type": "code",
   "execution_count": 25,
   "metadata": {},
   "outputs": [],
   "source": [
    "restore_global_iac_variables()"
   ]
  },
  {
   "cell_type": "markdown",
   "metadata": {},
   "source": [
    "# Route tables\n",
    "\n",
    "In order to be able to make use of the new virtual internet appliances of the internet gateway and NAT gateway, applicable routing rules will need to be created to allow internet traffic from the private subnet to flow through the NAT gateway and internet traffic from the public subnet to flow through the internet gateway."
   ]
  },
  {
   "cell_type": "markdown",
   "metadata": {},
   "source": [
    "First, a new route table must be created in order to allow internet traffic into the public subnet. Later, we'll associate the main / default route table of the VPC with the NAT gateway virtual appliance:"
   ]
  },
  {
   "cell_type": "code",
   "execution_count": 26,
   "metadata": {},
   "outputs": [
    {
     "data": {
      "text/plain": [
       "{'RouteTable': {'Associations': [],\n",
       "  'PropagatingVgws': [],\n",
       "  'RouteTableId': 'rtb-0ea6c45dba6b8b2d6',\n",
       "  'Routes': [{'DestinationCidrBlock': '10.0.0.0/16',\n",
       "    'GatewayId': 'local',\n",
       "    'Origin': 'CreateRouteTable',\n",
       "    'State': 'active'}],\n",
       "  'Tags': [{'Key': 'Name', 'Value': 'public_route_table'}],\n",
       "  'VpcId': 'vpc-09227df9104712079',\n",
       "  'OwnerId': '505296053618'},\n",
       " 'ResponseMetadata': {'RequestId': '45d8b4c6-f834-46d8-b446-1d7263e9cd95',\n",
       "  'HTTPStatusCode': 200,\n",
       "  'HTTPHeaders': {'x-amzn-requestid': '45d8b4c6-f834-46d8-b446-1d7263e9cd95',\n",
       "   'cache-control': 'no-cache, no-store',\n",
       "   'strict-transport-security': 'max-age=31536000; includeSubDomains',\n",
       "   'content-type': 'text/xml;charset=UTF-8',\n",
       "   'content-length': '881',\n",
       "   'date': 'Sun, 17 Dec 2023 21:21:32 GMT',\n",
       "   'server': 'AmazonEC2'},\n",
       "  'RetryAttempts': 0}}"
      ]
     },
     "execution_count": 26,
     "metadata": {},
     "output_type": "execute_result"
    }
   ],
   "source": [
    "tag_name = 'public_route_table'\n",
    "\n",
    "# https://boto3.amazonaws.com/v1/documentation/api/latest/reference/services/ec2/client/create_route_table.html\n",
    "response = ec2.create_route_table(\n",
    "    DryRun=False,\n",
    "    VpcId=VpcId,\n",
    "    TagSpecifications=[\n",
    "        {\n",
    "            'ResourceType': 'route-table',\n",
    "            'Tags': [\n",
    "                {\n",
    "                    'Key': 'Name',\n",
    "                    'Value': tag_name\n",
    "                },\n",
    "            ]\n",
    "        },\n",
    "    ]\n",
    ")\n",
    "response"
   ]
  },
  {
   "cell_type": "code",
   "execution_count": 27,
   "metadata": {},
   "outputs": [
    {
     "data": {
      "text/plain": [
       "'rtb-0ea6c45dba6b8b2d6'"
      ]
     },
     "execution_count": 27,
     "metadata": {},
     "output_type": "execute_result"
    }
   ],
   "source": [
    "public_route_table_id = response\n",
    "public_route_table_id = response['RouteTable']['RouteTableId']\n",
    "public_route_table_id"
   ]
  },
  {
   "cell_type": "code",
   "execution_count": 28,
   "metadata": {},
   "outputs": [
    {
     "data": {
      "text/html": [
       "<div>\n",
       "<style scoped>\n",
       "    .dataframe tbody tr th:only-of-type {\n",
       "        vertical-align: middle;\n",
       "    }\n",
       "\n",
       "    .dataframe tbody tr th {\n",
       "        vertical-align: top;\n",
       "    }\n",
       "\n",
       "    .dataframe thead th {\n",
       "        text-align: right;\n",
       "    }\n",
       "</style>\n",
       "<table border=\"1\" class=\"dataframe\">\n",
       "  <thead>\n",
       "    <tr style=\"text-align: right;\">\n",
       "      <th></th>\n",
       "      <th>field</th>\n",
       "      <th>value</th>\n",
       "    </tr>\n",
       "  </thead>\n",
       "  <tbody>\n",
       "    <tr>\n",
       "      <th>0</th>\n",
       "      <td>VpcId</td>\n",
       "      <td>vpc-09227df9104712079</td>\n",
       "    </tr>\n",
       "    <tr>\n",
       "      <th>1</th>\n",
       "      <td>public_subnet_id</td>\n",
       "      <td>subnet-097eeb8c19ed55f79</td>\n",
       "    </tr>\n",
       "    <tr>\n",
       "      <th>2</th>\n",
       "      <td>private_subnet_id</td>\n",
       "      <td>subnet-0cacf4f9a5a4c0f9c</td>\n",
       "    </tr>\n",
       "    <tr>\n",
       "      <th>3</th>\n",
       "      <td>nat_gateway</td>\n",
       "      <td>nat-03a9451b9ad3f3bc5</td>\n",
       "    </tr>\n",
       "    <tr>\n",
       "      <th>4</th>\n",
       "      <td>internet_gateway_id</td>\n",
       "      <td>igw-0bce767c5b3cf79a4</td>\n",
       "    </tr>\n",
       "    <tr>\n",
       "      <th>5</th>\n",
       "      <td>natgw_eip</td>\n",
       "      <td>eipalloc-0c90677192f18ecda</td>\n",
       "    </tr>\n",
       "    <tr>\n",
       "      <th>6</th>\n",
       "      <td>public_route_table</td>\n",
       "      <td>rtb-0ea6c45dba6b8b2d6</td>\n",
       "    </tr>\n",
       "  </tbody>\n",
       "</table>\n",
       "</div>"
      ],
      "text/plain": [
       "                 field                       value\n",
       "0                VpcId       vpc-09227df9104712079\n",
       "1     public_subnet_id    subnet-097eeb8c19ed55f79\n",
       "2    private_subnet_id    subnet-0cacf4f9a5a4c0f9c\n",
       "3          nat_gateway       nat-03a9451b9ad3f3bc5\n",
       "4  internet_gateway_id       igw-0bce767c5b3cf79a4\n",
       "5            natgw_eip  eipalloc-0c90677192f18ecda\n",
       "6   public_route_table       rtb-0ea6c45dba6b8b2d6"
      ]
     },
     "execution_count": 28,
     "metadata": {},
     "output_type": "execute_result"
    }
   ],
   "source": [
    "commit_record(field_name='public_route_table', field_value=public_route_table_id)\n",
    "read_db_results()"
   ]
  },
  {
   "cell_type": "markdown",
   "metadata": {},
   "source": [
    "Now that I have saved the public route table ID, I can refer to it later programmatically when building routes. I will also use this to attach the internet gateway to the VPC."
   ]
  },
  {
   "cell_type": "code",
   "execution_count": 29,
   "metadata": {},
   "outputs": [
    {
     "name": "stdout",
     "output_type": "stream",
     "text": [
      "{'Return': True, 'ResponseMetadata': {'RequestId': '32986236-118d-4948-8131-f7e08e5309d5', 'HTTPStatusCode': 200, 'HTTPHeaders': {'x-amzn-requestid': '32986236-118d-4948-8131-f7e08e5309d5', 'cache-control': 'no-cache, no-store', 'strict-transport-security': 'max-age=31536000; includeSubDomains', 'content-type': 'text/xml;charset=UTF-8', 'content-length': '223', 'date': 'Sun, 17 Dec 2023 21:21:49 GMT', 'server': 'AmazonEC2'}, 'RetryAttempts': 0}}\n"
     ]
    }
   ],
   "source": [
    "# https://boto3.amazonaws.com/v1/documentation/api/latest/reference/services/ec2/client/create_route.html\n",
    "response = ec2.create_route(\n",
    "    DestinationCidrBlock='0.0.0.0/0',\n",
    "    GatewayId=internet_gateway_id,\n",
    "    RouteTableId=public_route_table_id,\n",
    ")\n",
    "\n",
    "print(response)"
   ]
  },
  {
   "cell_type": "markdown",
   "metadata": {},
   "source": [
    "Next, I associate the public route table with the public subnet:"
   ]
  },
  {
   "cell_type": "code",
   "execution_count": 30,
   "metadata": {},
   "outputs": [
    {
     "data": {
      "text/plain": [
       "{'AssociationId': 'rtbassoc-0492cbe7d9b66bf94',\n",
       " 'AssociationState': {'State': 'associated'},\n",
       " 'ResponseMetadata': {'RequestId': '65d66a65-1de8-4838-9a7f-4ff36f566658',\n",
       "  'HTTPStatusCode': 200,\n",
       "  'HTTPHeaders': {'x-amzn-requestid': '65d66a65-1de8-4838-9a7f-4ff36f566658',\n",
       "   'cache-control': 'no-cache, no-store',\n",
       "   'strict-transport-security': 'max-age=31536000; includeSubDomains',\n",
       "   'content-type': 'text/xml;charset=UTF-8',\n",
       "   'content-length': '356',\n",
       "   'date': 'Sun, 17 Dec 2023 21:21:52 GMT',\n",
       "   'server': 'AmazonEC2'},\n",
       "  'RetryAttempts': 0}}"
      ]
     },
     "execution_count": 30,
     "metadata": {},
     "output_type": "execute_result"
    }
   ],
   "source": [
    "# https://boto3.amazonaws.com/v1/documentation/api/latest/reference/services/ec2/client/associate_route_table.html\n",
    "response = ec2.associate_route_table(\n",
    "    DryRun=False,\n",
    "    RouteTableId=public_route_table_id,\n",
    "    SubnetId=public_subnet_id\n",
    ")\n",
    "response"
   ]
  },
  {
   "cell_type": "markdown",
   "metadata": {},
   "source": [
    "The last step to create all of the network routes is to alter the main route table for the VPC by adding one route to it. In order to do that, I need to parse the route tables to programatically identify the main route table for the VPC in order to ensure this part of the code is reliable:"
   ]
  },
  {
   "cell_type": "code",
   "execution_count": 31,
   "metadata": {},
   "outputs": [
    {
     "data": {
      "text/plain": [
       "'rtb-045e9d2bf3d52f906'"
      ]
     },
     "execution_count": 31,
     "metadata": {},
     "output_type": "execute_result"
    }
   ],
   "source": [
    "# https://boto3.amazonaws.com/v1/documentation/api/latest/reference/services/ec2/client/describe_route_tables.html\n",
    "response = ec2.describe_route_tables(\n",
    "    Filters=[\n",
    "        {\n",
    "            'Name': 'vpc-id',\n",
    "            'Values': [\n",
    "                VpcId,\n",
    "            ],\n",
    "        },\n",
    "    ],\n",
    "    DryRun=False\n",
    ")\n",
    "for tble in response['RouteTables']:\n",
    "    if tble['Associations'][0]['Main']: # returns True when it is the main route table, so goes into the if statement\n",
    "        main_route_table_id = tble['Associations'][0]['RouteTableId'] # parse the route table id\n",
    "main_route_table_id # return main route table id"
   ]
  },
  {
   "cell_type": "markdown",
   "metadata": {},
   "source": [
    "Now that the main route table is identified, the NAT gateway will be associated with the main route table:"
   ]
  },
  {
   "cell_type": "code",
   "execution_count": 32,
   "metadata": {},
   "outputs": [
    {
     "name": "stdout",
     "output_type": "stream",
     "text": [
      "{'Return': True, 'ResponseMetadata': {'RequestId': 'c70e0b90-d62d-41d9-823e-732385ab1397', 'HTTPStatusCode': 200, 'HTTPHeaders': {'x-amzn-requestid': 'c70e0b90-d62d-41d9-823e-732385ab1397', 'cache-control': 'no-cache, no-store', 'strict-transport-security': 'max-age=31536000; includeSubDomains', 'content-type': 'text/xml;charset=UTF-8', 'content-length': '223', 'date': 'Sun, 17 Dec 2023 21:22:13 GMT', 'server': 'AmazonEC2'}, 'RetryAttempts': 0}}\n"
     ]
    }
   ],
   "source": [
    "# # https://boto3.amazonaws.com/v1/documentation/api/latest/reference/services/ec2/client/create_route.html\n",
    "response = ec2.create_route(\n",
    "    DestinationCidrBlock='0.0.0.0/0',\n",
    "    NatGatewayId=nat_gateway,\n",
    "    RouteTableId=main_route_table_id,\n",
    ")\n",
    "\n",
    "print(response)"
   ]
  },
  {
   "cell_type": "markdown",
   "metadata": {},
   "source": [
    "# Security Groups\n",
    "\n",
    "Next, security groups will be created so that any new hosts can be provisioned with them. The requirements for this are to:\n",
    "\n",
    "(1) Enable connection into the bastion host ec2 from my local ; OR\n",
    "\n",
    "(2) Enable a connection to a web based Jupyter notebook in the private instance\n",
    "\n",
    "## Implementation\n",
    "\n",
    "First, a security group that permits SSH access to the bastion host via the public subnet is required."
   ]
  },
  {
   "cell_type": "code",
   "execution_count": 33,
   "metadata": {},
   "outputs": [
    {
     "name": "stdout",
     "output_type": "stream",
     "text": [
      "Security Group Created sg-06ea16a07eb29c3cb in vpc vpc-09227df9104712079.\n",
      "Ingress Successfully Set {'Return': True, 'SecurityGroupRules': [{'SecurityGroupRuleId': 'sgr-0e1e658cc077c5547', 'GroupId': 'sg-06ea16a07eb29c3cb', 'GroupOwnerId': '505296053618', 'IsEgress': False, 'IpProtocol': 'tcp', 'FromPort': 22, 'ToPort': 22, 'CidrIpv4': '0.0.0.0/0'}], 'ResponseMetadata': {'RequestId': '32abad23-919b-4ae1-8049-539e5046fe43', 'HTTPStatusCode': 200, 'HTTPHeaders': {'x-amzn-requestid': '32abad23-919b-4ae1-8049-539e5046fe43', 'cache-control': 'no-cache, no-store', 'strict-transport-security': 'max-age=31536000; includeSubDomains', 'content-type': 'text/xml;charset=UTF-8', 'content-length': '719', 'date': 'Sun, 17 Dec 2023 21:22:48 GMT', 'server': 'AmazonEC2'}, 'RetryAttempts': 0}}\n"
     ]
    }
   ],
   "source": [
    "# https://boto3.amazonaws.com/v1/documentation/api/latest/guide/ec2-example-security-group.html\n",
    "import boto3\n",
    "from botocore.exceptions import ClientError\n",
    "\n",
    "ec2 = boto3.client('ec2')\n",
    "\n",
    "try:\n",
    "    response = ec2.create_security_group(GroupName='public-sg-e90-fp',\n",
    "                                         Description='Public subnet sg for e90 final project',\n",
    "                                         VpcId=VpcId)\n",
    "    \n",
    "    security_group_id = response['GroupId']\n",
    "    print('Security Group Created %s in vpc %s.' % (security_group_id, VpcId))\n",
    "\n",
    "    data = ec2.authorize_security_group_ingress(\n",
    "        GroupId=security_group_id,\n",
    "        IpPermissions=[\n",
    "            {'IpProtocol': 'tcp',\n",
    "             'FromPort': 22,\n",
    "             'ToPort': 22,\n",
    "             \n",
    "             'IpRanges': [{'CidrIp': '0.0.0.0/0'}]},\n",
    "        ])\n",
    "    print('Ingress Successfully Set %s' % data)\n",
    "except ClientError as e:\n",
    "    print(e)"
   ]
  },
  {
   "cell_type": "code",
   "execution_count": 34,
   "metadata": {},
   "outputs": [
    {
     "data": {
      "text/plain": [
       "'sg-06ea16a07eb29c3cb'"
      ]
     },
     "execution_count": 34,
     "metadata": {},
     "output_type": "execute_result"
    }
   ],
   "source": [
    "public_security_group_id = data['SecurityGroupRules'][0]['GroupId']\n",
    "public_security_group_id"
   ]
  },
  {
   "cell_type": "code",
   "execution_count": 35,
   "metadata": {},
   "outputs": [
    {
     "data": {
      "text/html": [
       "<div>\n",
       "<style scoped>\n",
       "    .dataframe tbody tr th:only-of-type {\n",
       "        vertical-align: middle;\n",
       "    }\n",
       "\n",
       "    .dataframe tbody tr th {\n",
       "        vertical-align: top;\n",
       "    }\n",
       "\n",
       "    .dataframe thead th {\n",
       "        text-align: right;\n",
       "    }\n",
       "</style>\n",
       "<table border=\"1\" class=\"dataframe\">\n",
       "  <thead>\n",
       "    <tr style=\"text-align: right;\">\n",
       "      <th></th>\n",
       "      <th>field</th>\n",
       "      <th>value</th>\n",
       "    </tr>\n",
       "  </thead>\n",
       "  <tbody>\n",
       "    <tr>\n",
       "      <th>0</th>\n",
       "      <td>VpcId</td>\n",
       "      <td>vpc-09227df9104712079</td>\n",
       "    </tr>\n",
       "    <tr>\n",
       "      <th>1</th>\n",
       "      <td>public_subnet_id</td>\n",
       "      <td>subnet-097eeb8c19ed55f79</td>\n",
       "    </tr>\n",
       "    <tr>\n",
       "      <th>2</th>\n",
       "      <td>private_subnet_id</td>\n",
       "      <td>subnet-0cacf4f9a5a4c0f9c</td>\n",
       "    </tr>\n",
       "    <tr>\n",
       "      <th>3</th>\n",
       "      <td>nat_gateway</td>\n",
       "      <td>nat-03a9451b9ad3f3bc5</td>\n",
       "    </tr>\n",
       "    <tr>\n",
       "      <th>4</th>\n",
       "      <td>internet_gateway_id</td>\n",
       "      <td>igw-0bce767c5b3cf79a4</td>\n",
       "    </tr>\n",
       "    <tr>\n",
       "      <th>5</th>\n",
       "      <td>natgw_eip</td>\n",
       "      <td>eipalloc-0c90677192f18ecda</td>\n",
       "    </tr>\n",
       "    <tr>\n",
       "      <th>6</th>\n",
       "      <td>public_route_table</td>\n",
       "      <td>rtb-0ea6c45dba6b8b2d6</td>\n",
       "    </tr>\n",
       "    <tr>\n",
       "      <th>7</th>\n",
       "      <td>public_security_group_id</td>\n",
       "      <td>sg-06ea16a07eb29c3cb</td>\n",
       "    </tr>\n",
       "  </tbody>\n",
       "</table>\n",
       "</div>"
      ],
      "text/plain": [
       "                      field                       value\n",
       "0                     VpcId       vpc-09227df9104712079\n",
       "1          public_subnet_id    subnet-097eeb8c19ed55f79\n",
       "2         private_subnet_id    subnet-0cacf4f9a5a4c0f9c\n",
       "3               nat_gateway       nat-03a9451b9ad3f3bc5\n",
       "4       internet_gateway_id       igw-0bce767c5b3cf79a4\n",
       "5                 natgw_eip  eipalloc-0c90677192f18ecda\n",
       "6        public_route_table       rtb-0ea6c45dba6b8b2d6\n",
       "7  public_security_group_id        sg-06ea16a07eb29c3cb"
      ]
     },
     "execution_count": 35,
     "metadata": {},
     "output_type": "execute_result"
    }
   ],
   "source": [
    "commit_record(field_name='public_security_group_id', field_value=public_security_group_id)\n",
    "read_db_results()"
   ]
  },
  {
   "cell_type": "markdown",
   "metadata": {},
   "source": [
    "Next, a security group will need to be created to enable traffic inside of the private instance for SSH, HTTP, and HTTPS traffic to enable web browser based Jupyter notebooks. The security group restricts traffic to permitting only traffic coming from within the VPC for these three ports."
   ]
  },
  {
   "cell_type": "code",
   "execution_count": 36,
   "metadata": {},
   "outputs": [
    {
     "name": "stdout",
     "output_type": "stream",
     "text": [
      "Security Group Created sg-0ae14877a4a05a090 in vpc vpc-09227df9104712079.\n",
      "Ingress Successfully Set {'Return': True, 'SecurityGroupRules': [{'SecurityGroupRuleId': 'sgr-03680a673494a15da', 'GroupId': 'sg-0ae14877a4a05a090', 'GroupOwnerId': '505296053618', 'IsEgress': False, 'IpProtocol': 'tcp', 'FromPort': 80, 'ToPort': 80, 'CidrIpv4': '10.0.0.0/16'}, {'SecurityGroupRuleId': 'sgr-0461cedddd2d13924', 'GroupId': 'sg-0ae14877a4a05a090', 'GroupOwnerId': '505296053618', 'IsEgress': False, 'IpProtocol': 'tcp', 'FromPort': 22, 'ToPort': 22, 'CidrIpv4': '10.0.0.0/16'}, {'SecurityGroupRuleId': 'sgr-0964fd0e3eece5d8e', 'GroupId': 'sg-0ae14877a4a05a090', 'GroupOwnerId': '505296053618', 'IsEgress': False, 'IpProtocol': 'tcp', 'FromPort': 443, 'ToPort': 443, 'CidrIpv4': '10.0.0.0/16'}], 'ResponseMetadata': {'RequestId': 'b0bd1ca2-efac-4c66-a5bc-cc56f9129b83', 'HTTPStatusCode': 200, 'HTTPHeaders': {'x-amzn-requestid': 'b0bd1ca2-efac-4c66-a5bc-cc56f9129b83', 'cache-control': 'no-cache, no-store', 'strict-transport-security': 'max-age=31536000; includeSubDomains', 'content-type': 'text/xml;charset=UTF-8', 'content-length': '1537', 'date': 'Sun, 17 Dec 2023 21:23:04 GMT', 'server': 'AmazonEC2'}, 'RetryAttempts': 0}}\n"
     ]
    }
   ],
   "source": [
    "# https://boto3.amazonaws.com/v1/documentation/api/latest/guide/ec2-example-security-group.html\n",
    "import boto3\n",
    "from botocore.exceptions import ClientError\n",
    "\n",
    "ec2 = boto3.client('ec2')\n",
    "\n",
    "try:\n",
    "    response = ec2.create_security_group(GroupName='private-sg-e90-fp',\n",
    "                                         Description='Private subnet sg for e90 final project',\n",
    "                                         VpcId=VpcId)\n",
    "    \n",
    "    security_group_id = response['GroupId']\n",
    "    print('Security Group Created %s in vpc %s.' % (security_group_id, VpcId))\n",
    "\n",
    "    data = ec2.authorize_security_group_ingress(\n",
    "        GroupId=security_group_id,\n",
    "        IpPermissions=[\n",
    "            {'IpProtocol': 'tcp',\n",
    "             'FromPort': 80,\n",
    "             'ToPort': 80,\n",
    "             'IpRanges': [{'CidrIp': '10.0.0.0/16'}]},\n",
    "            {'IpProtocol': 'tcp',\n",
    "             'FromPort': 22,\n",
    "             'ToPort': 22,\n",
    "             'IpRanges': [{'CidrIp': '10.0.0.0/16'}]},\n",
    "            {'IpProtocol': 'tcp',\n",
    "                        'FromPort': 443,\n",
    "                        'ToPort': 443,\n",
    "                        'IpRanges': [{'CidrIp': '10.0.0.0/16'}]}\n",
    "        ])\n",
    "    print('Ingress Successfully Set %s' % data)\n",
    "except ClientError as e:\n",
    "    print(e)"
   ]
  },
  {
   "cell_type": "code",
   "execution_count": 37,
   "metadata": {},
   "outputs": [
    {
     "data": {
      "text/plain": [
       "'sg-0ae14877a4a05a090'"
      ]
     },
     "execution_count": 37,
     "metadata": {},
     "output_type": "execute_result"
    }
   ],
   "source": [
    "private_security_group_id = data['SecurityGroupRules'][0]['GroupId']\n",
    "private_security_group_id"
   ]
  },
  {
   "cell_type": "code",
   "execution_count": 38,
   "metadata": {},
   "outputs": [
    {
     "data": {
      "text/html": [
       "<div>\n",
       "<style scoped>\n",
       "    .dataframe tbody tr th:only-of-type {\n",
       "        vertical-align: middle;\n",
       "    }\n",
       "\n",
       "    .dataframe tbody tr th {\n",
       "        vertical-align: top;\n",
       "    }\n",
       "\n",
       "    .dataframe thead th {\n",
       "        text-align: right;\n",
       "    }\n",
       "</style>\n",
       "<table border=\"1\" class=\"dataframe\">\n",
       "  <thead>\n",
       "    <tr style=\"text-align: right;\">\n",
       "      <th></th>\n",
       "      <th>field</th>\n",
       "      <th>value</th>\n",
       "    </tr>\n",
       "  </thead>\n",
       "  <tbody>\n",
       "    <tr>\n",
       "      <th>0</th>\n",
       "      <td>VpcId</td>\n",
       "      <td>vpc-09227df9104712079</td>\n",
       "    </tr>\n",
       "    <tr>\n",
       "      <th>1</th>\n",
       "      <td>public_subnet_id</td>\n",
       "      <td>subnet-097eeb8c19ed55f79</td>\n",
       "    </tr>\n",
       "    <tr>\n",
       "      <th>2</th>\n",
       "      <td>private_subnet_id</td>\n",
       "      <td>subnet-0cacf4f9a5a4c0f9c</td>\n",
       "    </tr>\n",
       "    <tr>\n",
       "      <th>3</th>\n",
       "      <td>nat_gateway</td>\n",
       "      <td>nat-03a9451b9ad3f3bc5</td>\n",
       "    </tr>\n",
       "    <tr>\n",
       "      <th>4</th>\n",
       "      <td>internet_gateway_id</td>\n",
       "      <td>igw-0bce767c5b3cf79a4</td>\n",
       "    </tr>\n",
       "    <tr>\n",
       "      <th>5</th>\n",
       "      <td>natgw_eip</td>\n",
       "      <td>eipalloc-0c90677192f18ecda</td>\n",
       "    </tr>\n",
       "    <tr>\n",
       "      <th>6</th>\n",
       "      <td>public_route_table</td>\n",
       "      <td>rtb-0ea6c45dba6b8b2d6</td>\n",
       "    </tr>\n",
       "    <tr>\n",
       "      <th>7</th>\n",
       "      <td>public_security_group_id</td>\n",
       "      <td>sg-06ea16a07eb29c3cb</td>\n",
       "    </tr>\n",
       "    <tr>\n",
       "      <th>8</th>\n",
       "      <td>private_security_group_id</td>\n",
       "      <td>sg-0ae14877a4a05a090</td>\n",
       "    </tr>\n",
       "  </tbody>\n",
       "</table>\n",
       "</div>"
      ],
      "text/plain": [
       "                       field                       value\n",
       "0                      VpcId       vpc-09227df9104712079\n",
       "1           public_subnet_id    subnet-097eeb8c19ed55f79\n",
       "2          private_subnet_id    subnet-0cacf4f9a5a4c0f9c\n",
       "3                nat_gateway       nat-03a9451b9ad3f3bc5\n",
       "4        internet_gateway_id       igw-0bce767c5b3cf79a4\n",
       "5                  natgw_eip  eipalloc-0c90677192f18ecda\n",
       "6         public_route_table       rtb-0ea6c45dba6b8b2d6\n",
       "7   public_security_group_id        sg-06ea16a07eb29c3cb\n",
       "8  private_security_group_id        sg-0ae14877a4a05a090"
      ]
     },
     "execution_count": 38,
     "metadata": {},
     "output_type": "execute_result"
    }
   ],
   "source": [
    "commit_record(field_name='private_security_group_id', field_value=private_security_group_id)\n",
    "read_db_results()"
   ]
  },
  {
   "cell_type": "markdown",
   "metadata": {},
   "source": [
    "## AWS KMS Key for Bastion Instance\n",
    "\n",
    "Since I need to encrypt all instances, it'll be necessary to programatically build and deploy a key. According to the boto3 documentation, "
   ]
  },
  {
   "cell_type": "code",
   "execution_count": 39,
   "metadata": {},
   "outputs": [
    {
     "data": {
      "text/plain": [
       "{'KeyMetadata': {'AWSAccountId': '505296053618',\n",
       "  'KeyId': 'mrk-f1c124f211fa4432a346cabf82e4a8c3',\n",
       "  'Arn': 'arn:aws:kms:us-east-1:505296053618:key/mrk-f1c124f211fa4432a346cabf82e4a8c3',\n",
       "  'CreationDate': datetime.datetime(2023, 12, 17, 16, 23, 25, 104000, tzinfo=tzlocal()),\n",
       "  'Enabled': True,\n",
       "  'Description': 'e90_final_project_key',\n",
       "  'KeyUsage': 'ENCRYPT_DECRYPT',\n",
       "  'KeyState': 'Enabled',\n",
       "  'Origin': 'AWS_KMS',\n",
       "  'KeyManager': 'CUSTOMER',\n",
       "  'CustomerMasterKeySpec': 'SYMMETRIC_DEFAULT',\n",
       "  'KeySpec': 'SYMMETRIC_DEFAULT',\n",
       "  'EncryptionAlgorithms': ['SYMMETRIC_DEFAULT'],\n",
       "  'MultiRegion': True,\n",
       "  'MultiRegionConfiguration': {'MultiRegionKeyType': 'PRIMARY',\n",
       "   'PrimaryKey': {'Arn': 'arn:aws:kms:us-east-1:505296053618:key/mrk-f1c124f211fa4432a346cabf82e4a8c3',\n",
       "    'Region': 'us-east-1'},\n",
       "   'ReplicaKeys': []}},\n",
       " 'ResponseMetadata': {'RequestId': '84186617-30d9-4564-adb3-95c20f6345ef',\n",
       "  'HTTPStatusCode': 200,\n",
       "  'HTTPHeaders': {'x-amzn-requestid': '84186617-30d9-4564-adb3-95c20f6345ef',\n",
       "   'cache-control': 'no-cache, no-store, must-revalidate, private',\n",
       "   'expires': '0',\n",
       "   'pragma': 'no-cache',\n",
       "   'date': 'Sun, 17 Dec 2023 21:23:25 GMT',\n",
       "   'content-type': 'application/x-amz-json-1.1',\n",
       "   'content-length': '691',\n",
       "   'connection': 'keep-alive'},\n",
       "  'RetryAttempts': 0}}"
      ]
     },
     "execution_count": 39,
     "metadata": {},
     "output_type": "execute_result"
    }
   ],
   "source": [
    "#https://boto3.amazonaws.com/v1/documentation/api/latest/reference/services/kms/client/create_key.html\n",
    "import boto3\n",
    "\n",
    "# Create IAM client\n",
    "kms = boto3.client('kms')\n",
    "\n",
    "response = kms.create_key(\n",
    "    Description='e90_final_project_key',\n",
    "    KeyUsage='ENCRYPT_DECRYPT',\n",
    "    KeySpec='SYMMETRIC_DEFAULT',\n",
    "    Origin='AWS_KMS',\n",
    "    Tags=[\n",
    "        {\n",
    "            'TagKey': 'Name',\n",
    "            'TagValue': 'e90kmskey'\n",
    "        },\n",
    "    ],\n",
    "    MultiRegion=True,\n",
    ")\n",
    "response"
   ]
  },
  {
   "cell_type": "code",
   "execution_count": 40,
   "metadata": {},
   "outputs": [
    {
     "data": {
      "text/html": [
       "<div>\n",
       "<style scoped>\n",
       "    .dataframe tbody tr th:only-of-type {\n",
       "        vertical-align: middle;\n",
       "    }\n",
       "\n",
       "    .dataframe tbody tr th {\n",
       "        vertical-align: top;\n",
       "    }\n",
       "\n",
       "    .dataframe thead th {\n",
       "        text-align: right;\n",
       "    }\n",
       "</style>\n",
       "<table border=\"1\" class=\"dataframe\">\n",
       "  <thead>\n",
       "    <tr style=\"text-align: right;\">\n",
       "      <th></th>\n",
       "      <th>field</th>\n",
       "      <th>value</th>\n",
       "    </tr>\n",
       "  </thead>\n",
       "  <tbody>\n",
       "    <tr>\n",
       "      <th>0</th>\n",
       "      <td>VpcId</td>\n",
       "      <td>vpc-09227df9104712079</td>\n",
       "    </tr>\n",
       "    <tr>\n",
       "      <th>1</th>\n",
       "      <td>public_subnet_id</td>\n",
       "      <td>subnet-097eeb8c19ed55f79</td>\n",
       "    </tr>\n",
       "    <tr>\n",
       "      <th>2</th>\n",
       "      <td>private_subnet_id</td>\n",
       "      <td>subnet-0cacf4f9a5a4c0f9c</td>\n",
       "    </tr>\n",
       "    <tr>\n",
       "      <th>3</th>\n",
       "      <td>nat_gateway</td>\n",
       "      <td>nat-03a9451b9ad3f3bc5</td>\n",
       "    </tr>\n",
       "    <tr>\n",
       "      <th>4</th>\n",
       "      <td>internet_gateway_id</td>\n",
       "      <td>igw-0bce767c5b3cf79a4</td>\n",
       "    </tr>\n",
       "    <tr>\n",
       "      <th>5</th>\n",
       "      <td>natgw_eip</td>\n",
       "      <td>eipalloc-0c90677192f18ecda</td>\n",
       "    </tr>\n",
       "    <tr>\n",
       "      <th>6</th>\n",
       "      <td>public_route_table</td>\n",
       "      <td>rtb-0ea6c45dba6b8b2d6</td>\n",
       "    </tr>\n",
       "    <tr>\n",
       "      <th>7</th>\n",
       "      <td>public_security_group_id</td>\n",
       "      <td>sg-06ea16a07eb29c3cb</td>\n",
       "    </tr>\n",
       "    <tr>\n",
       "      <th>8</th>\n",
       "      <td>private_security_group_id</td>\n",
       "      <td>sg-0ae14877a4a05a090</td>\n",
       "    </tr>\n",
       "    <tr>\n",
       "      <th>9</th>\n",
       "      <td>kms_key_id</td>\n",
       "      <td>mrk-f1c124f211fa4432a346cabf82e4a8c3</td>\n",
       "    </tr>\n",
       "  </tbody>\n",
       "</table>\n",
       "</div>"
      ],
      "text/plain": [
       "                       field                                 value\n",
       "0                      VpcId                 vpc-09227df9104712079\n",
       "1           public_subnet_id              subnet-097eeb8c19ed55f79\n",
       "2          private_subnet_id              subnet-0cacf4f9a5a4c0f9c\n",
       "3                nat_gateway                 nat-03a9451b9ad3f3bc5\n",
       "4        internet_gateway_id                 igw-0bce767c5b3cf79a4\n",
       "5                  natgw_eip            eipalloc-0c90677192f18ecda\n",
       "6         public_route_table                 rtb-0ea6c45dba6b8b2d6\n",
       "7   public_security_group_id                  sg-06ea16a07eb29c3cb\n",
       "8  private_security_group_id                  sg-0ae14877a4a05a090\n",
       "9                 kms_key_id  mrk-f1c124f211fa4432a346cabf82e4a8c3"
      ]
     },
     "execution_count": 40,
     "metadata": {},
     "output_type": "execute_result"
    }
   ],
   "source": [
    "kms_key_id = response['KeyMetadata']['KeyId']\n",
    "st = f\" insert into configs (field, value) values ('kms_key_id', '{kms_key_id}' )\"\n",
    "commit_record(field_name='kms_key_id', field_value=kms_key_id)\n",
    "read_db_results()"
   ]
  },
  {
   "cell_type": "markdown",
   "metadata": {},
   "source": [
    "Below, I create a kms grant to enable the python-user to encrypt or decrypt volumes encrypted using the KMS key created above. Without this, it will not be possible to work with any data. I start by obtaining the arn for my python-user that I employed during the course to work with various AWS services programmatically:"
   ]
  },
  {
   "cell_type": "code",
   "execution_count": 41,
   "metadata": {},
   "outputs": [
    {
     "name": "stdout",
     "output_type": "stream",
     "text": [
      "arn:aws:iam::505296053618:user/python-user\n"
     ]
    }
   ],
   "source": [
    "# https://boto3.amazonaws.com/v1/documentation/api/latest/reference/services/iam/paginator/ListUsers.html\n",
    "iam = boto3.client(\"iam\")\n",
    "response = iam.list_users()\n",
    "for i in response['Users']:\n",
    "    if i['UserName']=='python-user':\n",
    "        python_user_arn = i['Arn']\n",
    "        print(python_user_arn)"
   ]
  },
  {
   "cell_type": "markdown",
   "metadata": {},
   "source": [
    "Next, I pass the python-user arn to create a grant for this user to enable it to encrypt and decrypt data encrypted by the kms_key_id created above:"
   ]
  },
  {
   "cell_type": "code",
   "execution_count": 42,
   "metadata": {},
   "outputs": [
    {
     "name": "stdout",
     "output_type": "stream",
     "text": [
      "{'GrantToken': 'AQpAZTZmYjE0NTAzZTA4MzE1ZmY0NGJjYWE2MTM0M2RjY2ZhNjAyYjc1OGRkZGQ0MjhhMTdmZWQyMTdkNjBiODQyNyKKAgEBAgB45vsUUD4IMV_0S8qmE0Pcz6YCt1jd3UKKF_7SF9YLhCcAAADhMIHeBgkqhkiG9w0BBwaggdAwgc0CAQAwgccGCSqGSIb3DQEHATAeBglghkgBZQMEAS4wEQQMdYDWmY2LkESD87kFAgEQgIGZ7oRnOGV1hxtvoreavKszL13ItPBW4HtYc6qksrJ8ad7jmH07q_fXream-D0Cgwab3mxB5IaRlleIPFZQ-0Flw6kEU8ZMLonyRtfu2jTEoLV14VHbKOSlXxHbMVwGu7u62ihhO4XeTDgR2vBxp7KAez0KgZmCEWrkDdEtuXsQXZn93m51Tm7Hw7DZshv1ZOicM7Fjo11kpEjQKiC8J-AS3hvfzEOfN9MGHgGQ3Y_rfSPtiTnRO3-g19cOwg', 'GrantId': 'bc27e012de1bdfcc439f37d3061e0190dd8feb7d23ed8939d13b7fa0d7d70ec2', 'ResponseMetadata': {'RequestId': '99eda87b-498e-44db-97f3-9020d4817e97', 'HTTPStatusCode': 200, 'HTTPHeaders': {'x-amzn-requestid': '99eda87b-498e-44db-97f3-9020d4817e97', 'cache-control': 'no-cache, no-store, must-revalidate, private', 'expires': '0', 'pragma': 'no-cache', 'date': 'Sun, 17 Dec 2023 21:23:54 GMT', 'content-type': 'application/x-amz-json-1.1', 'content-length': '610', 'connection': 'keep-alive'}, 'RetryAttempts': 0}}\n"
     ]
    }
   ],
   "source": [
    "# https://boto3.amazonaws.com/v1/documentation/api/latest/reference/services/kms/client/create_grant.html\n",
    "response = boto3.client(\"kms\").create_grant(\n",
    "    # The identity that is given permission to perform the operations specified in the grant.\n",
    "    GranteePrincipal=python_user_arn,\n",
    "    # The identifier of the KMS key to which the grant applies. You can use the key ID or the Amazon Resource Name (ARN) of the KMS key.\n",
    "    KeyId=kms_key_id,\n",
    "    # A list of operations that the grant allows.\n",
    "    Operations=[\n",
    "        'Encrypt',\n",
    "        'Decrypt',\n",
    "    ],\n",
    ")\n",
    "\n",
    "print(response)"
   ]
  },
  {
   "cell_type": "markdown",
   "metadata": {},
   "source": [
    "# Bastion host\n",
    "\n",
    "The primary purpose of the bastion host will be to enable me to connect to the VPC to perform maintenance on the ec2s within the private subnet. The first step to creating an ec2 with boto3 is to create a launch template. I found it quite expedient to fully flush out the entire set of requirements for the template by iteratively trying template configurations based on the documentation and using the AWS console GUI to help me understand what needed to be changed to create a successful ec2 launch. As such, the console was very helpful as a debugger:"
   ]
  },
  {
   "cell_type": "code",
   "execution_count": 43,
   "metadata": {},
   "outputs": [
    {
     "data": {
      "text/html": [
       "<div>\n",
       "<style scoped>\n",
       "    .dataframe tbody tr th:only-of-type {\n",
       "        vertical-align: middle;\n",
       "    }\n",
       "\n",
       "    .dataframe tbody tr th {\n",
       "        vertical-align: top;\n",
       "    }\n",
       "\n",
       "    .dataframe thead th {\n",
       "        text-align: right;\n",
       "    }\n",
       "</style>\n",
       "<table border=\"1\" class=\"dataframe\">\n",
       "  <thead>\n",
       "    <tr style=\"text-align: right;\">\n",
       "      <th></th>\n",
       "      <th>field</th>\n",
       "      <th>value</th>\n",
       "    </tr>\n",
       "  </thead>\n",
       "  <tbody>\n",
       "    <tr>\n",
       "      <th>0</th>\n",
       "      <td>VpcId</td>\n",
       "      <td>vpc-09227df9104712079</td>\n",
       "    </tr>\n",
       "    <tr>\n",
       "      <th>1</th>\n",
       "      <td>public_subnet_id</td>\n",
       "      <td>subnet-097eeb8c19ed55f79</td>\n",
       "    </tr>\n",
       "    <tr>\n",
       "      <th>2</th>\n",
       "      <td>private_subnet_id</td>\n",
       "      <td>subnet-0cacf4f9a5a4c0f9c</td>\n",
       "    </tr>\n",
       "    <tr>\n",
       "      <th>3</th>\n",
       "      <td>nat_gateway</td>\n",
       "      <td>nat-03a9451b9ad3f3bc5</td>\n",
       "    </tr>\n",
       "    <tr>\n",
       "      <th>4</th>\n",
       "      <td>internet_gateway_id</td>\n",
       "      <td>igw-0bce767c5b3cf79a4</td>\n",
       "    </tr>\n",
       "    <tr>\n",
       "      <th>5</th>\n",
       "      <td>natgw_eip</td>\n",
       "      <td>eipalloc-0c90677192f18ecda</td>\n",
       "    </tr>\n",
       "    <tr>\n",
       "      <th>6</th>\n",
       "      <td>public_route_table</td>\n",
       "      <td>rtb-0ea6c45dba6b8b2d6</td>\n",
       "    </tr>\n",
       "    <tr>\n",
       "      <th>7</th>\n",
       "      <td>public_security_group_id</td>\n",
       "      <td>sg-06ea16a07eb29c3cb</td>\n",
       "    </tr>\n",
       "    <tr>\n",
       "      <th>8</th>\n",
       "      <td>private_security_group_id</td>\n",
       "      <td>sg-0ae14877a4a05a090</td>\n",
       "    </tr>\n",
       "    <tr>\n",
       "      <th>9</th>\n",
       "      <td>kms_key_id</td>\n",
       "      <td>mrk-f1c124f211fa4432a346cabf82e4a8c3</td>\n",
       "    </tr>\n",
       "    <tr>\n",
       "      <th>10</th>\n",
       "      <td>launch_template_name</td>\n",
       "      <td>e90_bastion_launch_template</td>\n",
       "    </tr>\n",
       "  </tbody>\n",
       "</table>\n",
       "</div>"
      ],
      "text/plain": [
       "                        field                                 value\n",
       "0                       VpcId                 vpc-09227df9104712079\n",
       "1            public_subnet_id              subnet-097eeb8c19ed55f79\n",
       "2           private_subnet_id              subnet-0cacf4f9a5a4c0f9c\n",
       "3                 nat_gateway                 nat-03a9451b9ad3f3bc5\n",
       "4         internet_gateway_id                 igw-0bce767c5b3cf79a4\n",
       "5                   natgw_eip            eipalloc-0c90677192f18ecda\n",
       "6          public_route_table                 rtb-0ea6c45dba6b8b2d6\n",
       "7    public_security_group_id                  sg-06ea16a07eb29c3cb\n",
       "8   private_security_group_id                  sg-0ae14877a4a05a090\n",
       "9                  kms_key_id  mrk-f1c124f211fa4432a346cabf82e4a8c3\n",
       "10       launch_template_name           e90_bastion_launch_template"
      ]
     },
     "execution_count": 43,
     "metadata": {},
     "output_type": "execute_result"
    }
   ],
   "source": [
    "launch_template_name = 'e90_bastion_launch_template'\n",
    "commit_record(field_name='launch_template_name', field_value=launch_template_name)\n",
    "read_db_results()"
   ]
  },
  {
   "cell_type": "code",
   "execution_count": 44,
   "metadata": {},
   "outputs": [
    {
     "data": {
      "text/plain": [
       "{'LaunchTemplate': {'LaunchTemplateId': 'lt-0d2246882b82491a1',\n",
       "  'LaunchTemplateName': 'e90_bastion_launch_template',\n",
       "  'CreateTime': datetime.datetime(2023, 12, 17, 21, 24, 37, tzinfo=tzutc()),\n",
       "  'CreatedBy': 'arn:aws:iam::505296053618:user/python-user',\n",
       "  'DefaultVersionNumber': 1,\n",
       "  'LatestVersionNumber': 1},\n",
       " 'ResponseMetadata': {'RequestId': '105bf50a-d637-4f4c-98c7-9b958d593c17',\n",
       "  'HTTPStatusCode': 200,\n",
       "  'HTTPHeaders': {'x-amzn-requestid': '105bf50a-d637-4f4c-98c7-9b958d593c17',\n",
       "   'cache-control': 'no-cache, no-store',\n",
       "   'strict-transport-security': 'max-age=31536000; includeSubDomains',\n",
       "   'vary': 'accept-encoding',\n",
       "   'content-type': 'text/xml;charset=UTF-8',\n",
       "   'transfer-encoding': 'chunked',\n",
       "   'date': 'Sun, 17 Dec 2023 21:24:37 GMT',\n",
       "   'server': 'AmazonEC2'},\n",
       "  'RetryAttempts': 0}}"
      ]
     },
     "execution_count": 44,
     "metadata": {},
     "output_type": "execute_result"
    }
   ],
   "source": [
    "# https://boto3.amazonaws.com/v1/documentation/api/latest/reference/services/ec2/client/create_launch_template.html\n",
    "response = ec2.create_launch_template(\n",
    "    LaunchTemplateName=launch_template_name,\n",
    "    LaunchTemplateData={\n",
    "        'NetworkInterfaces': [\n",
    "            {\n",
    "                'DeviceIndex': 0,\n",
    "                'AssociatePublicIpAddress': True,\n",
    "                'DeleteOnTermination': True,\n",
    "                'Description': 'public_launch_template_network_eni',\n",
    "                'Groups': [\n",
    "                    public_security_group_id,\n",
    "                ],\n",
    "                'SubnetId': public_subnet_id,\n",
    "            },\n",
    "        ],\n",
    "        'KeyName': 'csci90key',\n",
    "        'ImageId':'ami-0759f51a90924c166',\n",
    "        'InstanceType': 't2.xlarge',\n",
    "        'TagSpecifications': [\n",
    "            {\n",
    "                'ResourceType': 'instance',\n",
    "                'Tags': [\n",
    "                    {\n",
    "                        'Key': 'Name',\n",
    "                        'Value': 'e90_fp_bastion'\n",
    "                    },\n",
    "                ]\n",
    "            },\n",
    "        ],\n",
    "    }\n",
    ")\n",
    "response"
   ]
  },
  {
   "cell_type": "markdown",
   "metadata": {},
   "source": [
    "Next, the create instances command is employed to launch an instance using the launch template."
   ]
  },
  {
   "cell_type": "code",
   "execution_count": 45,
   "metadata": {},
   "outputs": [
    {
     "data": {
      "text/plain": [
       "{'Groups': [],\n",
       " 'Instances': [{'AmiLaunchIndex': 0,\n",
       "   'ImageId': 'ami-0759f51a90924c166',\n",
       "   'InstanceId': 'i-0b44fc72aa9be56ba',\n",
       "   'InstanceType': 't2.xlarge',\n",
       "   'KeyName': 'csci90key',\n",
       "   'LaunchTime': datetime.datetime(2023, 12, 17, 21, 25, 5, tzinfo=tzutc()),\n",
       "   'Monitoring': {'State': 'disabled'},\n",
       "   'Placement': {'AvailabilityZone': 'us-east-1a',\n",
       "    'GroupName': '',\n",
       "    'Tenancy': 'default'},\n",
       "   'PrivateDnsName': 'ip-10-0-1-229.ec2.internal',\n",
       "   'PrivateIpAddress': '10.0.1.229',\n",
       "   'ProductCodes': [],\n",
       "   'PublicDnsName': '',\n",
       "   'State': {'Code': 0, 'Name': 'pending'},\n",
       "   'StateTransitionReason': '',\n",
       "   'SubnetId': 'subnet-097eeb8c19ed55f79',\n",
       "   'VpcId': 'vpc-09227df9104712079',\n",
       "   'Architecture': 'x86_64',\n",
       "   'BlockDeviceMappings': [],\n",
       "   'ClientToken': '42f95bc8-faa1-4491-97ae-a0e2a31429d5',\n",
       "   'EbsOptimized': False,\n",
       "   'EnaSupport': True,\n",
       "   'Hypervisor': 'xen',\n",
       "   'NetworkInterfaces': [{'Attachment': {'AttachTime': datetime.datetime(2023, 12, 17, 21, 25, 5, tzinfo=tzutc()),\n",
       "      'AttachmentId': 'eni-attach-0f8fc34e6d0bd0797',\n",
       "      'DeleteOnTermination': True,\n",
       "      'DeviceIndex': 0,\n",
       "      'Status': 'attaching',\n",
       "      'NetworkCardIndex': 0},\n",
       "     'Description': 'public_launch_template_network_eni',\n",
       "     'Groups': [{'GroupName': 'public-sg-e90-fp',\n",
       "       'GroupId': 'sg-06ea16a07eb29c3cb'}],\n",
       "     'Ipv6Addresses': [],\n",
       "     'MacAddress': '0a:2c:76:84:a4:1b',\n",
       "     'NetworkInterfaceId': 'eni-0e7568a2937d8e099',\n",
       "     'OwnerId': '505296053618',\n",
       "     'PrivateIpAddress': '10.0.1.229',\n",
       "     'PrivateIpAddresses': [{'Primary': True,\n",
       "       'PrivateIpAddress': '10.0.1.229'}],\n",
       "     'SourceDestCheck': True,\n",
       "     'Status': 'in-use',\n",
       "     'SubnetId': 'subnet-097eeb8c19ed55f79',\n",
       "     'VpcId': 'vpc-09227df9104712079',\n",
       "     'InterfaceType': 'interface'}],\n",
       "   'RootDeviceName': '/dev/xvda',\n",
       "   'RootDeviceType': 'ebs',\n",
       "   'SecurityGroups': [{'GroupName': 'public-sg-e90-fp',\n",
       "     'GroupId': 'sg-06ea16a07eb29c3cb'}],\n",
       "   'SourceDestCheck': True,\n",
       "   'StateReason': {'Code': 'pending', 'Message': 'pending'},\n",
       "   'Tags': [{'Key': 'Name', 'Value': 'e90_fp_bastion'},\n",
       "    {'Key': 'aws:ec2launchtemplate:version', 'Value': '1'},\n",
       "    {'Key': 'aws:ec2launchtemplate:id', 'Value': 'lt-0d2246882b82491a1'}],\n",
       "   'VirtualizationType': 'hvm',\n",
       "   'CpuOptions': {'CoreCount': 4, 'ThreadsPerCore': 1},\n",
       "   'CapacityReservationSpecification': {'CapacityReservationPreference': 'open'},\n",
       "   'MetadataOptions': {'State': 'pending',\n",
       "    'HttpTokens': 'required',\n",
       "    'HttpPutResponseHopLimit': 2,\n",
       "    'HttpEndpoint': 'enabled',\n",
       "    'HttpProtocolIpv6': 'disabled',\n",
       "    'InstanceMetadataTags': 'disabled'},\n",
       "   'EnclaveOptions': {'Enabled': False},\n",
       "   'BootMode': 'uefi-preferred',\n",
       "   'PrivateDnsNameOptions': {'HostnameType': 'ip-name',\n",
       "    'EnableResourceNameDnsARecord': False,\n",
       "    'EnableResourceNameDnsAAAARecord': False},\n",
       "   'MaintenanceOptions': {'AutoRecovery': 'default'},\n",
       "   'CurrentInstanceBootMode': 'legacy-bios'}],\n",
       " 'OwnerId': '505296053618',\n",
       " 'ReservationId': 'r-0e755043c3a25e43f',\n",
       " 'ResponseMetadata': {'RequestId': 'a71ef688-094f-4423-b483-87633cc65b4b',\n",
       "  'HTTPStatusCode': 200,\n",
       "  'HTTPHeaders': {'x-amzn-requestid': 'a71ef688-094f-4423-b483-87633cc65b4b',\n",
       "   'cache-control': 'no-cache, no-store',\n",
       "   'strict-transport-security': 'max-age=31536000; includeSubDomains',\n",
       "   'vary': 'accept-encoding',\n",
       "   'content-type': 'text/xml;charset=UTF-8',\n",
       "   'content-length': '5980',\n",
       "   'date': 'Sun, 17 Dec 2023 21:25:04 GMT',\n",
       "   'server': 'AmazonEC2'},\n",
       "  'RetryAttempts': 0}}"
      ]
     },
     "execution_count": 45,
     "metadata": {},
     "output_type": "execute_result"
    }
   ],
   "source": [
    "# https://boto3.amazonaws.com/v1/documentation/api/latest/guide/migrationec2.html#launching-new-instances\n",
    "import boto3\n",
    "ec2 = boto3.client('ec2')\n",
    "\n",
    "#https://stackoverflow.com/questions/48631642/is-possible-to-use-run-instances-from-instance-template\n",
    "lt_specifics = {\n",
    "    'LaunchTemplateName': launch_template_name\n",
    "}\n",
    "\n",
    "instance = ec2.run_instances(\n",
    "    LaunchTemplate = lt_specifics, MinCount=1, MaxCount=1\n",
    ")\n",
    "\n",
    "instance"
   ]
  },
  {
   "cell_type": "markdown",
   "metadata": {},
   "source": [
    "Next, I will pull the instance ID out of the response and store it in the IAC variables database for potential later use:"
   ]
  },
  {
   "cell_type": "code",
   "execution_count": 46,
   "metadata": {},
   "outputs": [
    {
     "data": {
      "text/html": [
       "<div>\n",
       "<style scoped>\n",
       "    .dataframe tbody tr th:only-of-type {\n",
       "        vertical-align: middle;\n",
       "    }\n",
       "\n",
       "    .dataframe tbody tr th {\n",
       "        vertical-align: top;\n",
       "    }\n",
       "\n",
       "    .dataframe thead th {\n",
       "        text-align: right;\n",
       "    }\n",
       "</style>\n",
       "<table border=\"1\" class=\"dataframe\">\n",
       "  <thead>\n",
       "    <tr style=\"text-align: right;\">\n",
       "      <th></th>\n",
       "      <th>field</th>\n",
       "      <th>value</th>\n",
       "    </tr>\n",
       "  </thead>\n",
       "  <tbody>\n",
       "    <tr>\n",
       "      <th>0</th>\n",
       "      <td>VpcId</td>\n",
       "      <td>vpc-09227df9104712079</td>\n",
       "    </tr>\n",
       "    <tr>\n",
       "      <th>1</th>\n",
       "      <td>public_subnet_id</td>\n",
       "      <td>subnet-097eeb8c19ed55f79</td>\n",
       "    </tr>\n",
       "    <tr>\n",
       "      <th>2</th>\n",
       "      <td>private_subnet_id</td>\n",
       "      <td>subnet-0cacf4f9a5a4c0f9c</td>\n",
       "    </tr>\n",
       "    <tr>\n",
       "      <th>3</th>\n",
       "      <td>nat_gateway</td>\n",
       "      <td>nat-03a9451b9ad3f3bc5</td>\n",
       "    </tr>\n",
       "    <tr>\n",
       "      <th>4</th>\n",
       "      <td>internet_gateway_id</td>\n",
       "      <td>igw-0bce767c5b3cf79a4</td>\n",
       "    </tr>\n",
       "    <tr>\n",
       "      <th>5</th>\n",
       "      <td>natgw_eip</td>\n",
       "      <td>eipalloc-0c90677192f18ecda</td>\n",
       "    </tr>\n",
       "    <tr>\n",
       "      <th>6</th>\n",
       "      <td>public_route_table</td>\n",
       "      <td>rtb-0ea6c45dba6b8b2d6</td>\n",
       "    </tr>\n",
       "    <tr>\n",
       "      <th>7</th>\n",
       "      <td>public_security_group_id</td>\n",
       "      <td>sg-06ea16a07eb29c3cb</td>\n",
       "    </tr>\n",
       "    <tr>\n",
       "      <th>8</th>\n",
       "      <td>private_security_group_id</td>\n",
       "      <td>sg-0ae14877a4a05a090</td>\n",
       "    </tr>\n",
       "    <tr>\n",
       "      <th>9</th>\n",
       "      <td>kms_key_id</td>\n",
       "      <td>mrk-f1c124f211fa4432a346cabf82e4a8c3</td>\n",
       "    </tr>\n",
       "    <tr>\n",
       "      <th>10</th>\n",
       "      <td>launch_template_name</td>\n",
       "      <td>e90_bastion_launch_template</td>\n",
       "    </tr>\n",
       "    <tr>\n",
       "      <th>11</th>\n",
       "      <td>bastion_instance_id</td>\n",
       "      <td>i-0b44fc72aa9be56ba</td>\n",
       "    </tr>\n",
       "  </tbody>\n",
       "</table>\n",
       "</div>"
      ],
      "text/plain": [
       "                        field                                 value\n",
       "0                       VpcId                 vpc-09227df9104712079\n",
       "1            public_subnet_id              subnet-097eeb8c19ed55f79\n",
       "2           private_subnet_id              subnet-0cacf4f9a5a4c0f9c\n",
       "3                 nat_gateway                 nat-03a9451b9ad3f3bc5\n",
       "4         internet_gateway_id                 igw-0bce767c5b3cf79a4\n",
       "5                   natgw_eip            eipalloc-0c90677192f18ecda\n",
       "6          public_route_table                 rtb-0ea6c45dba6b8b2d6\n",
       "7    public_security_group_id                  sg-06ea16a07eb29c3cb\n",
       "8   private_security_group_id                  sg-0ae14877a4a05a090\n",
       "9                  kms_key_id  mrk-f1c124f211fa4432a346cabf82e4a8c3\n",
       "10       launch_template_name           e90_bastion_launch_template\n",
       "11        bastion_instance_id                   i-0b44fc72aa9be56ba"
      ]
     },
     "execution_count": 46,
     "metadata": {},
     "output_type": "execute_result"
    }
   ],
   "source": [
    "bastion_instance_id = instance['Instances'][0]['InstanceId']\n",
    "commit_record(field_name='bastion_instance_id', field_value=bastion_instance_id)\n",
    "read_db_results()"
   ]
  },
  {
   "cell_type": "markdown",
   "metadata": {},
   "source": [
    "# Storage - EFS Design Decision\n",
    "\n",
    "When I first began examining potential solutions to storing health data, I became very interested in being able to leverage the extensibility of FHIR processing that exists within AWS HealthLake. While this may ultimately still be possible, I became concerned about the fact that HealthLake is not a VPC centric application. Unfortunately, healthcare and life sciences - the target sectors for this project - are stringently regulated and so it makes the most sense to store files within a VPC for maximum secirutiy. However, this situation is not the end of the project. Delta lake is an open sourced technology that operates as a file based database and can robustly handle diverse data formats. Furthermore, Spark can readily be installed on any instance, or group of instances, to facilitate scalable processing of data. A creation token for the EFS volume is created using the token_hex function. The creation token will be saved in the configs database to better handle idempotency the way this was designed to:"
   ]
  },
  {
   "cell_type": "code",
   "execution_count": 47,
   "metadata": {},
   "outputs": [
    {
     "data": {
      "text/plain": [
       "'1b83d528aff812ca246b792c60591d22'"
      ]
     },
     "execution_count": 47,
     "metadata": {},
     "output_type": "execute_result"
    }
   ],
   "source": [
    "# https://docs.python.org/3/library/secrets.html\n",
    "from secrets import token_hex\n",
    "efs_creation_token = token_hex(16)\n",
    "efs_creation_token"
   ]
  },
  {
   "cell_type": "code",
   "execution_count": 48,
   "metadata": {},
   "outputs": [
    {
     "data": {
      "text/html": [
       "<div>\n",
       "<style scoped>\n",
       "    .dataframe tbody tr th:only-of-type {\n",
       "        vertical-align: middle;\n",
       "    }\n",
       "\n",
       "    .dataframe tbody tr th {\n",
       "        vertical-align: top;\n",
       "    }\n",
       "\n",
       "    .dataframe thead th {\n",
       "        text-align: right;\n",
       "    }\n",
       "</style>\n",
       "<table border=\"1\" class=\"dataframe\">\n",
       "  <thead>\n",
       "    <tr style=\"text-align: right;\">\n",
       "      <th></th>\n",
       "      <th>field</th>\n",
       "      <th>value</th>\n",
       "    </tr>\n",
       "  </thead>\n",
       "  <tbody>\n",
       "    <tr>\n",
       "      <th>0</th>\n",
       "      <td>VpcId</td>\n",
       "      <td>vpc-09227df9104712079</td>\n",
       "    </tr>\n",
       "    <tr>\n",
       "      <th>1</th>\n",
       "      <td>public_subnet_id</td>\n",
       "      <td>subnet-097eeb8c19ed55f79</td>\n",
       "    </tr>\n",
       "    <tr>\n",
       "      <th>2</th>\n",
       "      <td>private_subnet_id</td>\n",
       "      <td>subnet-0cacf4f9a5a4c0f9c</td>\n",
       "    </tr>\n",
       "    <tr>\n",
       "      <th>3</th>\n",
       "      <td>nat_gateway</td>\n",
       "      <td>nat-03a9451b9ad3f3bc5</td>\n",
       "    </tr>\n",
       "    <tr>\n",
       "      <th>4</th>\n",
       "      <td>internet_gateway_id</td>\n",
       "      <td>igw-0bce767c5b3cf79a4</td>\n",
       "    </tr>\n",
       "    <tr>\n",
       "      <th>5</th>\n",
       "      <td>natgw_eip</td>\n",
       "      <td>eipalloc-0c90677192f18ecda</td>\n",
       "    </tr>\n",
       "    <tr>\n",
       "      <th>6</th>\n",
       "      <td>public_route_table</td>\n",
       "      <td>rtb-0ea6c45dba6b8b2d6</td>\n",
       "    </tr>\n",
       "    <tr>\n",
       "      <th>7</th>\n",
       "      <td>public_security_group_id</td>\n",
       "      <td>sg-06ea16a07eb29c3cb</td>\n",
       "    </tr>\n",
       "    <tr>\n",
       "      <th>8</th>\n",
       "      <td>private_security_group_id</td>\n",
       "      <td>sg-0ae14877a4a05a090</td>\n",
       "    </tr>\n",
       "    <tr>\n",
       "      <th>9</th>\n",
       "      <td>kms_key_id</td>\n",
       "      <td>mrk-f1c124f211fa4432a346cabf82e4a8c3</td>\n",
       "    </tr>\n",
       "    <tr>\n",
       "      <th>10</th>\n",
       "      <td>launch_template_name</td>\n",
       "      <td>e90_bastion_launch_template</td>\n",
       "    </tr>\n",
       "    <tr>\n",
       "      <th>11</th>\n",
       "      <td>bastion_instance_id</td>\n",
       "      <td>i-0b44fc72aa9be56ba</td>\n",
       "    </tr>\n",
       "    <tr>\n",
       "      <th>12</th>\n",
       "      <td>efs_creation_token</td>\n",
       "      <td>1b83d528aff812ca246b792c60591d22</td>\n",
       "    </tr>\n",
       "  </tbody>\n",
       "</table>\n",
       "</div>"
      ],
      "text/plain": [
       "                        field                                 value\n",
       "0                       VpcId                 vpc-09227df9104712079\n",
       "1            public_subnet_id              subnet-097eeb8c19ed55f79\n",
       "2           private_subnet_id              subnet-0cacf4f9a5a4c0f9c\n",
       "3                 nat_gateway                 nat-03a9451b9ad3f3bc5\n",
       "4         internet_gateway_id                 igw-0bce767c5b3cf79a4\n",
       "5                   natgw_eip            eipalloc-0c90677192f18ecda\n",
       "6          public_route_table                 rtb-0ea6c45dba6b8b2d6\n",
       "7    public_security_group_id                  sg-06ea16a07eb29c3cb\n",
       "8   private_security_group_id                  sg-0ae14877a4a05a090\n",
       "9                  kms_key_id  mrk-f1c124f211fa4432a346cabf82e4a8c3\n",
       "10       launch_template_name           e90_bastion_launch_template\n",
       "11        bastion_instance_id                   i-0b44fc72aa9be56ba\n",
       "12         efs_creation_token      1b83d528aff812ca246b792c60591d22"
      ]
     },
     "execution_count": 48,
     "metadata": {},
     "output_type": "execute_result"
    }
   ],
   "source": [
    "commit_record(field_name='efs_creation_token', field_value=efs_creation_token)\n",
    "read_db_results()"
   ]
  },
  {
   "cell_type": "markdown",
   "metadata": {},
   "source": [
    "The name of the availability zone where the EFS will be mounted will need to be extracted from our data:"
   ]
  },
  {
   "cell_type": "code",
   "execution_count": 49,
   "metadata": {},
   "outputs": [
    {
     "data": {
      "text/plain": [
       "'us-east-1b'"
      ]
     },
     "execution_count": 49,
     "metadata": {},
     "output_type": "execute_result"
    }
   ],
   "source": [
    "response = ec2.describe_subnets()\n",
    "for i in response['Subnets']:\n",
    "    if i['VpcId']==VpcId and i['Tags'][0]['Value'] == 'e90-fp-private':\n",
    "        private_az_name =i['AvailabilityZone']\n",
    "private_az_name"
   ]
  },
  {
   "cell_type": "code",
   "execution_count": 50,
   "metadata": {},
   "outputs": [
    {
     "data": {
      "text/html": [
       "<div>\n",
       "<style scoped>\n",
       "    .dataframe tbody tr th:only-of-type {\n",
       "        vertical-align: middle;\n",
       "    }\n",
       "\n",
       "    .dataframe tbody tr th {\n",
       "        vertical-align: top;\n",
       "    }\n",
       "\n",
       "    .dataframe thead th {\n",
       "        text-align: right;\n",
       "    }\n",
       "</style>\n",
       "<table border=\"1\" class=\"dataframe\">\n",
       "  <thead>\n",
       "    <tr style=\"text-align: right;\">\n",
       "      <th></th>\n",
       "      <th>field</th>\n",
       "      <th>value</th>\n",
       "    </tr>\n",
       "  </thead>\n",
       "  <tbody>\n",
       "    <tr>\n",
       "      <th>0</th>\n",
       "      <td>VpcId</td>\n",
       "      <td>vpc-09227df9104712079</td>\n",
       "    </tr>\n",
       "    <tr>\n",
       "      <th>1</th>\n",
       "      <td>public_subnet_id</td>\n",
       "      <td>subnet-097eeb8c19ed55f79</td>\n",
       "    </tr>\n",
       "    <tr>\n",
       "      <th>2</th>\n",
       "      <td>private_subnet_id</td>\n",
       "      <td>subnet-0cacf4f9a5a4c0f9c</td>\n",
       "    </tr>\n",
       "    <tr>\n",
       "      <th>3</th>\n",
       "      <td>nat_gateway</td>\n",
       "      <td>nat-03a9451b9ad3f3bc5</td>\n",
       "    </tr>\n",
       "    <tr>\n",
       "      <th>4</th>\n",
       "      <td>internet_gateway_id</td>\n",
       "      <td>igw-0bce767c5b3cf79a4</td>\n",
       "    </tr>\n",
       "    <tr>\n",
       "      <th>5</th>\n",
       "      <td>natgw_eip</td>\n",
       "      <td>eipalloc-0c90677192f18ecda</td>\n",
       "    </tr>\n",
       "    <tr>\n",
       "      <th>6</th>\n",
       "      <td>public_route_table</td>\n",
       "      <td>rtb-0ea6c45dba6b8b2d6</td>\n",
       "    </tr>\n",
       "    <tr>\n",
       "      <th>7</th>\n",
       "      <td>public_security_group_id</td>\n",
       "      <td>sg-06ea16a07eb29c3cb</td>\n",
       "    </tr>\n",
       "    <tr>\n",
       "      <th>8</th>\n",
       "      <td>private_security_group_id</td>\n",
       "      <td>sg-0ae14877a4a05a090</td>\n",
       "    </tr>\n",
       "    <tr>\n",
       "      <th>9</th>\n",
       "      <td>kms_key_id</td>\n",
       "      <td>mrk-f1c124f211fa4432a346cabf82e4a8c3</td>\n",
       "    </tr>\n",
       "    <tr>\n",
       "      <th>10</th>\n",
       "      <td>launch_template_name</td>\n",
       "      <td>e90_bastion_launch_template</td>\n",
       "    </tr>\n",
       "    <tr>\n",
       "      <th>11</th>\n",
       "      <td>bastion_instance_id</td>\n",
       "      <td>i-0b44fc72aa9be56ba</td>\n",
       "    </tr>\n",
       "    <tr>\n",
       "      <th>12</th>\n",
       "      <td>efs_creation_token</td>\n",
       "      <td>1b83d528aff812ca246b792c60591d22</td>\n",
       "    </tr>\n",
       "    <tr>\n",
       "      <th>13</th>\n",
       "      <td>private_az_name</td>\n",
       "      <td>us-east-1b</td>\n",
       "    </tr>\n",
       "  </tbody>\n",
       "</table>\n",
       "</div>"
      ],
      "text/plain": [
       "                        field                                 value\n",
       "0                       VpcId                 vpc-09227df9104712079\n",
       "1            public_subnet_id              subnet-097eeb8c19ed55f79\n",
       "2           private_subnet_id              subnet-0cacf4f9a5a4c0f9c\n",
       "3                 nat_gateway                 nat-03a9451b9ad3f3bc5\n",
       "4         internet_gateway_id                 igw-0bce767c5b3cf79a4\n",
       "5                   natgw_eip            eipalloc-0c90677192f18ecda\n",
       "6          public_route_table                 rtb-0ea6c45dba6b8b2d6\n",
       "7    public_security_group_id                  sg-06ea16a07eb29c3cb\n",
       "8   private_security_group_id                  sg-0ae14877a4a05a090\n",
       "9                  kms_key_id  mrk-f1c124f211fa4432a346cabf82e4a8c3\n",
       "10       launch_template_name           e90_bastion_launch_template\n",
       "11        bastion_instance_id                   i-0b44fc72aa9be56ba\n",
       "12         efs_creation_token      1b83d528aff812ca246b792c60591d22\n",
       "13            private_az_name                            us-east-1b"
      ]
     },
     "execution_count": 50,
     "metadata": {},
     "output_type": "execute_result"
    }
   ],
   "source": [
    "commit_record(field_name='private_az_name', field_value=private_az_name)\n",
    "read_db_results()"
   ]
  },
  {
   "cell_type": "markdown",
   "metadata": {},
   "source": [
    "The elastic file system is created below using a bursting methodology. It will scale as needed based on the amount of disk space it has and incoming data. I need to extract the proper references to this efs for the IAC database for use with the ec2 launch template that will be built next for the modeling environment:"
   ]
  },
  {
   "cell_type": "code",
   "execution_count": 51,
   "metadata": {},
   "outputs": [
    {
     "data": {
      "text/plain": [
       "{'ResponseMetadata': {'RequestId': 'd761c099-8532-46af-b7ea-9b2182de7dae',\n",
       "  'HTTPStatusCode': 201,\n",
       "  'HTTPHeaders': {'x-amzn-requestid': 'd761c099-8532-46af-b7ea-9b2182de7dae',\n",
       "   'content-type': 'application/json',\n",
       "   'content-length': '809',\n",
       "   'date': 'Sun, 17 Dec 2023 21:25:52 GMT'},\n",
       "  'RetryAttempts': 0},\n",
       " 'OwnerId': '505296053618',\n",
       " 'CreationToken': '1b83d528aff812ca246b792c60591d22',\n",
       " 'FileSystemId': 'fs-03f1e2807bbd0033a',\n",
       " 'FileSystemArn': 'arn:aws:elasticfilesystem:us-east-1:505296053618:file-system/fs-03f1e2807bbd0033a',\n",
       " 'CreationTime': datetime.datetime(2023, 12, 17, 16, 25, 52, tzinfo=tzlocal()),\n",
       " 'LifeCycleState': 'creating',\n",
       " 'Name': 'efs_private_e90',\n",
       " 'NumberOfMountTargets': 0,\n",
       " 'SizeInBytes': {'Value': 0,\n",
       "  'ValueInIA': 0,\n",
       "  'ValueInStandard': 0,\n",
       "  'ValueInArchive': 0},\n",
       " 'PerformanceMode': 'generalPurpose',\n",
       " 'Encrypted': True,\n",
       " 'KmsKeyId': 'arn:aws:kms:us-east-1:505296053618:key/mrk-f1c124f211fa4432a346cabf82e4a8c3',\n",
       " 'ThroughputMode': 'bursting',\n",
       " 'AvailabilityZoneName': 'us-east-1b',\n",
       " 'AvailabilityZoneId': 'use1-az6',\n",
       " 'Tags': [{'Key': 'Name', 'Value': 'efs_private_e90'}],\n",
       " 'FileSystemProtection': {'ReplicationOverwriteProtection': 'ENABLED'}}"
      ]
     },
     "execution_count": 51,
     "metadata": {},
     "output_type": "execute_result"
    }
   ],
   "source": [
    "# https://boto3.amazonaws.com/v1/documentation/api/latest/reference/services/efs/client/create_file_system.html\n",
    "client = boto3.client(\"efs\")\n",
    "response = client.create_file_system(\n",
    "    CreationToken=efs_creation_token,\n",
    "    PerformanceMode='generalPurpose',\n",
    "    Encrypted=True,\n",
    "    KmsKeyId=kms_key_id,\n",
    "    ThroughputMode='bursting',\n",
    "    AvailabilityZoneName=private_az_name,\n",
    "    Backup=True,\n",
    "    Tags=[\n",
    "        {\n",
    "            'Key': 'Name',\n",
    "            'Value': 'efs_private_e90'\n",
    "        },\n",
    "    ]\n",
    ")\n",
    "response"
   ]
  },
  {
   "cell_type": "markdown",
   "metadata": {},
   "source": [
    "To mount the file system to the subnet, I will need to create a mount target. The SubnetId and FileSystemId from the EFS are required. I need to persist the file system ID in the IAC database now:"
   ]
  },
  {
   "cell_type": "code",
   "execution_count": 52,
   "metadata": {},
   "outputs": [
    {
     "data": {
      "text/html": [
       "<div>\n",
       "<style scoped>\n",
       "    .dataframe tbody tr th:only-of-type {\n",
       "        vertical-align: middle;\n",
       "    }\n",
       "\n",
       "    .dataframe tbody tr th {\n",
       "        vertical-align: top;\n",
       "    }\n",
       "\n",
       "    .dataframe thead th {\n",
       "        text-align: right;\n",
       "    }\n",
       "</style>\n",
       "<table border=\"1\" class=\"dataframe\">\n",
       "  <thead>\n",
       "    <tr style=\"text-align: right;\">\n",
       "      <th></th>\n",
       "      <th>field</th>\n",
       "      <th>value</th>\n",
       "    </tr>\n",
       "  </thead>\n",
       "  <tbody>\n",
       "    <tr>\n",
       "      <th>0</th>\n",
       "      <td>VpcId</td>\n",
       "      <td>vpc-09227df9104712079</td>\n",
       "    </tr>\n",
       "    <tr>\n",
       "      <th>1</th>\n",
       "      <td>public_subnet_id</td>\n",
       "      <td>subnet-097eeb8c19ed55f79</td>\n",
       "    </tr>\n",
       "    <tr>\n",
       "      <th>2</th>\n",
       "      <td>private_subnet_id</td>\n",
       "      <td>subnet-0cacf4f9a5a4c0f9c</td>\n",
       "    </tr>\n",
       "    <tr>\n",
       "      <th>3</th>\n",
       "      <td>nat_gateway</td>\n",
       "      <td>nat-03a9451b9ad3f3bc5</td>\n",
       "    </tr>\n",
       "    <tr>\n",
       "      <th>4</th>\n",
       "      <td>internet_gateway_id</td>\n",
       "      <td>igw-0bce767c5b3cf79a4</td>\n",
       "    </tr>\n",
       "    <tr>\n",
       "      <th>5</th>\n",
       "      <td>natgw_eip</td>\n",
       "      <td>eipalloc-0c90677192f18ecda</td>\n",
       "    </tr>\n",
       "    <tr>\n",
       "      <th>6</th>\n",
       "      <td>public_route_table</td>\n",
       "      <td>rtb-0ea6c45dba6b8b2d6</td>\n",
       "    </tr>\n",
       "    <tr>\n",
       "      <th>7</th>\n",
       "      <td>public_security_group_id</td>\n",
       "      <td>sg-06ea16a07eb29c3cb</td>\n",
       "    </tr>\n",
       "    <tr>\n",
       "      <th>8</th>\n",
       "      <td>private_security_group_id</td>\n",
       "      <td>sg-0ae14877a4a05a090</td>\n",
       "    </tr>\n",
       "    <tr>\n",
       "      <th>9</th>\n",
       "      <td>kms_key_id</td>\n",
       "      <td>mrk-f1c124f211fa4432a346cabf82e4a8c3</td>\n",
       "    </tr>\n",
       "    <tr>\n",
       "      <th>10</th>\n",
       "      <td>launch_template_name</td>\n",
       "      <td>e90_bastion_launch_template</td>\n",
       "    </tr>\n",
       "    <tr>\n",
       "      <th>11</th>\n",
       "      <td>bastion_instance_id</td>\n",
       "      <td>i-0b44fc72aa9be56ba</td>\n",
       "    </tr>\n",
       "    <tr>\n",
       "      <th>12</th>\n",
       "      <td>efs_creation_token</td>\n",
       "      <td>1b83d528aff812ca246b792c60591d22</td>\n",
       "    </tr>\n",
       "    <tr>\n",
       "      <th>13</th>\n",
       "      <td>private_az_name</td>\n",
       "      <td>us-east-1b</td>\n",
       "    </tr>\n",
       "    <tr>\n",
       "      <th>14</th>\n",
       "      <td>efs_file_system_id</td>\n",
       "      <td>fs-03f1e2807bbd0033a</td>\n",
       "    </tr>\n",
       "  </tbody>\n",
       "</table>\n",
       "</div>"
      ],
      "text/plain": [
       "                        field                                 value\n",
       "0                       VpcId                 vpc-09227df9104712079\n",
       "1            public_subnet_id              subnet-097eeb8c19ed55f79\n",
       "2           private_subnet_id              subnet-0cacf4f9a5a4c0f9c\n",
       "3                 nat_gateway                 nat-03a9451b9ad3f3bc5\n",
       "4         internet_gateway_id                 igw-0bce767c5b3cf79a4\n",
       "5                   natgw_eip            eipalloc-0c90677192f18ecda\n",
       "6          public_route_table                 rtb-0ea6c45dba6b8b2d6\n",
       "7    public_security_group_id                  sg-06ea16a07eb29c3cb\n",
       "8   private_security_group_id                  sg-0ae14877a4a05a090\n",
       "9                  kms_key_id  mrk-f1c124f211fa4432a346cabf82e4a8c3\n",
       "10       launch_template_name           e90_bastion_launch_template\n",
       "11        bastion_instance_id                   i-0b44fc72aa9be56ba\n",
       "12         efs_creation_token      1b83d528aff812ca246b792c60591d22\n",
       "13            private_az_name                            us-east-1b\n",
       "14         efs_file_system_id                  fs-03f1e2807bbd0033a"
      ]
     },
     "execution_count": 52,
     "metadata": {},
     "output_type": "execute_result"
    }
   ],
   "source": [
    "efs_file_system_id = response['FileSystemId']\n",
    "commit_record(field_name='efs_file_system_id', field_value=efs_file_system_id)\n",
    "read_db_results()"
   ]
  },
  {
   "cell_type": "markdown",
   "metadata": {},
   "source": [
    "Below, a mount target for EFS is created:"
   ]
  },
  {
   "cell_type": "code",
   "execution_count": 53,
   "metadata": {},
   "outputs": [],
   "source": [
    "# https://boto3.amazonaws.com/v1/documentation/api/latest/reference/services/efs/client/create_mount_target.html\n",
    "response = client.create_mount_target(\n",
    "    FileSystemId=efs_file_system_id,\n",
    "    SubnetId=private_subnet_id, \n",
    ")"
   ]
  },
  {
   "cell_type": "code",
   "execution_count": 54,
   "metadata": {},
   "outputs": [
    {
     "data": {
      "text/html": [
       "<div>\n",
       "<style scoped>\n",
       "    .dataframe tbody tr th:only-of-type {\n",
       "        vertical-align: middle;\n",
       "    }\n",
       "\n",
       "    .dataframe tbody tr th {\n",
       "        vertical-align: top;\n",
       "    }\n",
       "\n",
       "    .dataframe thead th {\n",
       "        text-align: right;\n",
       "    }\n",
       "</style>\n",
       "<table border=\"1\" class=\"dataframe\">\n",
       "  <thead>\n",
       "    <tr style=\"text-align: right;\">\n",
       "      <th></th>\n",
       "      <th>field</th>\n",
       "      <th>value</th>\n",
       "    </tr>\n",
       "  </thead>\n",
       "  <tbody>\n",
       "    <tr>\n",
       "      <th>0</th>\n",
       "      <td>VpcId</td>\n",
       "      <td>vpc-09227df9104712079</td>\n",
       "    </tr>\n",
       "    <tr>\n",
       "      <th>1</th>\n",
       "      <td>public_subnet_id</td>\n",
       "      <td>subnet-097eeb8c19ed55f79</td>\n",
       "    </tr>\n",
       "    <tr>\n",
       "      <th>2</th>\n",
       "      <td>private_subnet_id</td>\n",
       "      <td>subnet-0cacf4f9a5a4c0f9c</td>\n",
       "    </tr>\n",
       "    <tr>\n",
       "      <th>3</th>\n",
       "      <td>nat_gateway</td>\n",
       "      <td>nat-03a9451b9ad3f3bc5</td>\n",
       "    </tr>\n",
       "    <tr>\n",
       "      <th>4</th>\n",
       "      <td>internet_gateway_id</td>\n",
       "      <td>igw-0bce767c5b3cf79a4</td>\n",
       "    </tr>\n",
       "    <tr>\n",
       "      <th>5</th>\n",
       "      <td>natgw_eip</td>\n",
       "      <td>eipalloc-0c90677192f18ecda</td>\n",
       "    </tr>\n",
       "    <tr>\n",
       "      <th>6</th>\n",
       "      <td>public_route_table</td>\n",
       "      <td>rtb-0ea6c45dba6b8b2d6</td>\n",
       "    </tr>\n",
       "    <tr>\n",
       "      <th>7</th>\n",
       "      <td>public_security_group_id</td>\n",
       "      <td>sg-06ea16a07eb29c3cb</td>\n",
       "    </tr>\n",
       "    <tr>\n",
       "      <th>8</th>\n",
       "      <td>private_security_group_id</td>\n",
       "      <td>sg-0ae14877a4a05a090</td>\n",
       "    </tr>\n",
       "    <tr>\n",
       "      <th>9</th>\n",
       "      <td>kms_key_id</td>\n",
       "      <td>mrk-f1c124f211fa4432a346cabf82e4a8c3</td>\n",
       "    </tr>\n",
       "    <tr>\n",
       "      <th>10</th>\n",
       "      <td>launch_template_name</td>\n",
       "      <td>e90_bastion_launch_template</td>\n",
       "    </tr>\n",
       "    <tr>\n",
       "      <th>11</th>\n",
       "      <td>bastion_instance_id</td>\n",
       "      <td>i-0b44fc72aa9be56ba</td>\n",
       "    </tr>\n",
       "    <tr>\n",
       "      <th>12</th>\n",
       "      <td>efs_creation_token</td>\n",
       "      <td>1b83d528aff812ca246b792c60591d22</td>\n",
       "    </tr>\n",
       "    <tr>\n",
       "      <th>13</th>\n",
       "      <td>private_az_name</td>\n",
       "      <td>us-east-1b</td>\n",
       "    </tr>\n",
       "    <tr>\n",
       "      <th>14</th>\n",
       "      <td>efs_file_system_id</td>\n",
       "      <td>fs-03f1e2807bbd0033a</td>\n",
       "    </tr>\n",
       "    <tr>\n",
       "      <th>15</th>\n",
       "      <td>efs_mount_target_id</td>\n",
       "      <td>fsmt-082f9620b96bd76a3</td>\n",
       "    </tr>\n",
       "  </tbody>\n",
       "</table>\n",
       "</div>"
      ],
      "text/plain": [
       "                        field                                 value\n",
       "0                       VpcId                 vpc-09227df9104712079\n",
       "1            public_subnet_id              subnet-097eeb8c19ed55f79\n",
       "2           private_subnet_id              subnet-0cacf4f9a5a4c0f9c\n",
       "3                 nat_gateway                 nat-03a9451b9ad3f3bc5\n",
       "4         internet_gateway_id                 igw-0bce767c5b3cf79a4\n",
       "5                   natgw_eip            eipalloc-0c90677192f18ecda\n",
       "6          public_route_table                 rtb-0ea6c45dba6b8b2d6\n",
       "7    public_security_group_id                  sg-06ea16a07eb29c3cb\n",
       "8   private_security_group_id                  sg-0ae14877a4a05a090\n",
       "9                  kms_key_id  mrk-f1c124f211fa4432a346cabf82e4a8c3\n",
       "10       launch_template_name           e90_bastion_launch_template\n",
       "11        bastion_instance_id                   i-0b44fc72aa9be56ba\n",
       "12         efs_creation_token      1b83d528aff812ca246b792c60591d22\n",
       "13            private_az_name                            us-east-1b\n",
       "14         efs_file_system_id                  fs-03f1e2807bbd0033a\n",
       "15        efs_mount_target_id                fsmt-082f9620b96bd76a3"
      ]
     },
     "execution_count": 54,
     "metadata": {},
     "output_type": "execute_result"
    }
   ],
   "source": [
    "efs_mount_target_id = response['MountTargetId']\n",
    "commit_record(field_name='efs_mount_target_id', field_value=efs_mount_target_id)\n",
    "read_db_results()"
   ]
  },
  {
   "cell_type": "markdown",
   "metadata": {},
   "source": [
    "## Create computing cluster launch template\n",
    "\n",
    "Next, the ec2 launch template for the computing cluster will be created. A typical data scientist configuring this type of capability as a \"one off\" on an ec-2 or local machine can spend a considerable amount of bespoke effort even with ready made scripts. By using a launch template, all of these steps can be executed reliably - particularly once all of the steps in the template are well tested.\n",
    "\n",
    "In general, it is typically unwise to install too many packages on the base operating system. Doing so can result in package conflicts and instability on the vm. Below, I utilize Python's f-string utility to assemble a multi-line terminal command for the launch template, as follows:\n",
    "\n",
    "(1) entries will be created in the bashrc file to ensure that Pyspark by default opens with a jupyter notebook command;\n",
    "\n",
    "(2) install efs utilities to enable the efs drive to be mounted;\n",
    "\n",
    "(3) make a new folder where scripts from GitHub can be cloned and used - this will set the stage for cloning a repository of anaconda environments quite readily once the machine is in use;\n",
    "\n",
    "\n",
    "Given the short available time, I was not able to fully research a silent install for Anaconda Navigator for creating conda environments. There are some steps that will require additional research to identify the right shell script commands. Once I do figure that out, I will be revisiting this template to do the following:\n",
    "\n",
    "(4) install anaconda navigator to provide environment virtualization software by installing Anaconda Navigator in silent mode: https://docs.anaconda.com/free/anaconda/install/silent-mode/#\n",
    "\n",
    "cd ../home/ec2-user\n",
    "\n",
    "wget https://repo.anaconda.com/archive/Anaconda3-2023.09-0-Linux-x86_64.sh -O ~/anaconda.sh \n",
    "\n",
    "bash anaconda.sh -b -p $HOME/anaconda \n",
    "\n",
    "eval \"$(/home/ec2-user/anaconda/bin/conda shell.bash hook)\"      <-- this works but is not durable after a reboot\n",
    "\n",
    "conda env -create \n",
    "\n",
    "(6) Build a preliminary conda environment - conda dependency\n",
    "\n",
    "conda env create -f -n e90_computing_cluster python matplotlib numpy pyspark jupyter IPython pip nbconvert \n",
    "\n",
    "\n",
    "For now, the below string is built based on what can be accomplished right now given the limited time left:"
   ]
  },
  {
   "cell_type": "code",
   "execution_count": 55,
   "metadata": {},
   "outputs": [
    {
     "name": "stdout",
     "output_type": "stream",
     "text": [
      "Encoded string: CgplY2hvICdleHBvcnQgUFlTUEFSS19EUklWRVJfUFlUSE9OPWp1cHl0ZXInID4+IH4vLmJhc2hyYyAKZWNobyAnZXhwb3J0IFBZU1BBUktfRFJJVkVSX09QVFM9Im5vdGVib29rIicgPj4gfi8uYmFzaHJjIAplY2hvICdleHBvcnQgUFlTUEFSS19EUklWRVI9cHl0aG9uMycgPj4gfi8uYmFzaHJjIAoKc3VkbyB5dW0gLXkgdXBkYXRlCnN1ZG8geXVtIC15IGluc3RhbGwgZ2l0CnN1ZG8geXVtIGluc3RhbGwgLXkgYW1hem9uLWVmcy11dGlscwpjZCAvCnN1ZG8gbWtkaXIgL21udC9lZnMKc3VkbyBta2RpciAvbW50L2Vmcy9lOTBfZmluYWxfZWZzCnN1ZG8gbW91bnQgLXQgZWZzIC1vIHRscyAnZnMtMDNmMWUyODA3YmJkMDAzM2E6Jy8gL21udC9lZnMvZTkwX2ZpbmFsX2VmcwpzdWRvIG1rZGlyIC9tbnQvZWZzL2U5MF9maW5hbF9lZnMvZ2l0aHViCgo=\n"
     ]
    }
   ],
   "source": [
    "# discussed needing to use base64 to encode\n",
    "# https://docs.aws.amazon.com/batch/latest/userguide/launch-templates.html\n",
    "\n",
    "import base64 \n",
    "usr_data = f\"\"\"\n",
    "\n",
    "echo 'export PYSPARK_DRIVER_PYTHON=jupyter' >> ~/.bashrc \n",
    "echo 'export PYSPARK_DRIVER_OPTS=\"notebook\"' >> ~/.bashrc \n",
    "echo 'export PYSPARK_DRIVER=python3' >> ~/.bashrc \n",
    "\n",
    "sudo yum -y update\n",
    "sudo yum -y install git\n",
    "sudo yum install -y amazon-efs-utils\n",
    "cd /\n",
    "sudo mkdir /mnt/efs\n",
    "sudo mkdir /mnt/efs/e90_final_efs\n",
    "sudo mount -t efs -o tls '{efs_file_system_id}':/ /mnt/efs/e90_final_efs\n",
    "sudo mkdir /mnt/efs/e90_final_efs/github\n",
    "\n",
    "\"\"\"\n",
    "\n",
    "# https://www.geeksforgeeks.org/encoding-and-decoding-base64-strings-in-python/\n",
    "usr_data = usr_data.encode(\"ascii\") \n",
    "  \n",
    "base64_bytes = base64.b64encode(usr_data) \n",
    "base64_string = base64_bytes.decode(\"ascii\") \n",
    "  \n",
    "print(f\"Encoded string: {base64_string}\") "
   ]
  },
  {
   "cell_type": "code",
   "execution_count": 56,
   "metadata": {},
   "outputs": [
    {
     "data": {
      "text/plain": [
       "{'LaunchTemplate': {'LaunchTemplateId': 'lt-019e6498e8d5f273f',\n",
       "  'LaunchTemplateName': 'comp_clus_lt',\n",
       "  'CreateTime': datetime.datetime(2023, 12, 17, 21, 27, 36, tzinfo=tzutc()),\n",
       "  'CreatedBy': 'arn:aws:iam::505296053618:user/python-user',\n",
       "  'DefaultVersionNumber': 1,\n",
       "  'LatestVersionNumber': 1},\n",
       " 'ResponseMetadata': {'RequestId': '34910377-5c96-4750-9a40-0b17c5a9a8c7',\n",
       "  'HTTPStatusCode': 200,\n",
       "  'HTTPHeaders': {'x-amzn-requestid': '34910377-5c96-4750-9a40-0b17c5a9a8c7',\n",
       "   'cache-control': 'no-cache, no-store',\n",
       "   'strict-transport-security': 'max-age=31536000; includeSubDomains',\n",
       "   'vary': 'accept-encoding',\n",
       "   'content-type': 'text/xml;charset=UTF-8',\n",
       "   'transfer-encoding': 'chunked',\n",
       "   'date': 'Sun, 17 Dec 2023 21:27:36 GMT',\n",
       "   'server': 'AmazonEC2'},\n",
       "  'RetryAttempts': 0}}"
      ]
     },
     "execution_count": 56,
     "metadata": {},
     "output_type": "execute_result"
    }
   ],
   "source": [
    "# https://boto3.amazonaws.com/v1/documentation/api/latest/reference/services/ec2/client/create_launch_template.html\n",
    "private_launch_template_name = 'comp_clus_lt'\n",
    "response = ec2.create_launch_template(\n",
    "    LaunchTemplateName=private_launch_template_name,\n",
    "    LaunchTemplateData={\n",
    "        'NetworkInterfaces': [\n",
    "            {\n",
    "                'DeviceIndex': 0,\n",
    "                'AssociatePublicIpAddress': True,\n",
    "                'DeleteOnTermination': True,\n",
    "                'Description': 'private_launch_template_network_eni',\n",
    "                'Groups': [\n",
    "                    private_security_group_id,\n",
    "                ],\n",
    "                'SubnetId': private_subnet_id,\n",
    "            },\n",
    "        ],\n",
    "        'KeyName': 'csci90key',\n",
    "        'ImageId':'ami-0759f51a90924c166',\n",
    "        'InstanceType': 't2.xlarge',\n",
    "        'UserData': base64_string,\n",
    "        'TagSpecifications': [\n",
    "            {\n",
    "                'ResourceType': 'instance',\n",
    "                'Tags': [\n",
    "                    {\n",
    "                        'Key': 'Name',\n",
    "                        'Value': 'e90_computing_cluster'\n",
    "                    },\n",
    "                ]\n",
    "            },\n",
    "        ],\n",
    "    }\n",
    ")\n",
    "response"
   ]
  },
  {
   "cell_type": "markdown",
   "metadata": {},
   "source": [
    "Put the new launch template reference into the db:"
   ]
  },
  {
   "cell_type": "code",
   "execution_count": 57,
   "metadata": {},
   "outputs": [
    {
     "data": {
      "text/html": [
       "<div>\n",
       "<style scoped>\n",
       "    .dataframe tbody tr th:only-of-type {\n",
       "        vertical-align: middle;\n",
       "    }\n",
       "\n",
       "    .dataframe tbody tr th {\n",
       "        vertical-align: top;\n",
       "    }\n",
       "\n",
       "    .dataframe thead th {\n",
       "        text-align: right;\n",
       "    }\n",
       "</style>\n",
       "<table border=\"1\" class=\"dataframe\">\n",
       "  <thead>\n",
       "    <tr style=\"text-align: right;\">\n",
       "      <th></th>\n",
       "      <th>field</th>\n",
       "      <th>value</th>\n",
       "    </tr>\n",
       "  </thead>\n",
       "  <tbody>\n",
       "    <tr>\n",
       "      <th>0</th>\n",
       "      <td>VpcId</td>\n",
       "      <td>vpc-09227df9104712079</td>\n",
       "    </tr>\n",
       "    <tr>\n",
       "      <th>1</th>\n",
       "      <td>public_subnet_id</td>\n",
       "      <td>subnet-097eeb8c19ed55f79</td>\n",
       "    </tr>\n",
       "    <tr>\n",
       "      <th>2</th>\n",
       "      <td>private_subnet_id</td>\n",
       "      <td>subnet-0cacf4f9a5a4c0f9c</td>\n",
       "    </tr>\n",
       "    <tr>\n",
       "      <th>3</th>\n",
       "      <td>nat_gateway</td>\n",
       "      <td>nat-03a9451b9ad3f3bc5</td>\n",
       "    </tr>\n",
       "    <tr>\n",
       "      <th>4</th>\n",
       "      <td>internet_gateway_id</td>\n",
       "      <td>igw-0bce767c5b3cf79a4</td>\n",
       "    </tr>\n",
       "    <tr>\n",
       "      <th>5</th>\n",
       "      <td>natgw_eip</td>\n",
       "      <td>eipalloc-0c90677192f18ecda</td>\n",
       "    </tr>\n",
       "    <tr>\n",
       "      <th>6</th>\n",
       "      <td>public_route_table</td>\n",
       "      <td>rtb-0ea6c45dba6b8b2d6</td>\n",
       "    </tr>\n",
       "    <tr>\n",
       "      <th>7</th>\n",
       "      <td>public_security_group_id</td>\n",
       "      <td>sg-06ea16a07eb29c3cb</td>\n",
       "    </tr>\n",
       "    <tr>\n",
       "      <th>8</th>\n",
       "      <td>private_security_group_id</td>\n",
       "      <td>sg-0ae14877a4a05a090</td>\n",
       "    </tr>\n",
       "    <tr>\n",
       "      <th>9</th>\n",
       "      <td>kms_key_id</td>\n",
       "      <td>mrk-f1c124f211fa4432a346cabf82e4a8c3</td>\n",
       "    </tr>\n",
       "    <tr>\n",
       "      <th>10</th>\n",
       "      <td>launch_template_name</td>\n",
       "      <td>e90_bastion_launch_template</td>\n",
       "    </tr>\n",
       "    <tr>\n",
       "      <th>11</th>\n",
       "      <td>bastion_instance_id</td>\n",
       "      <td>i-0b44fc72aa9be56ba</td>\n",
       "    </tr>\n",
       "    <tr>\n",
       "      <th>12</th>\n",
       "      <td>efs_creation_token</td>\n",
       "      <td>1b83d528aff812ca246b792c60591d22</td>\n",
       "    </tr>\n",
       "    <tr>\n",
       "      <th>13</th>\n",
       "      <td>private_az_name</td>\n",
       "      <td>us-east-1b</td>\n",
       "    </tr>\n",
       "    <tr>\n",
       "      <th>14</th>\n",
       "      <td>efs_file_system_id</td>\n",
       "      <td>fs-03f1e2807bbd0033a</td>\n",
       "    </tr>\n",
       "    <tr>\n",
       "      <th>15</th>\n",
       "      <td>efs_mount_target_id</td>\n",
       "      <td>fsmt-082f9620b96bd76a3</td>\n",
       "    </tr>\n",
       "    <tr>\n",
       "      <th>16</th>\n",
       "      <td>private_launch_template_name</td>\n",
       "      <td>comp_clus_lt</td>\n",
       "    </tr>\n",
       "  </tbody>\n",
       "</table>\n",
       "</div>"
      ],
      "text/plain": [
       "                           field                                 value\n",
       "0                          VpcId                 vpc-09227df9104712079\n",
       "1               public_subnet_id              subnet-097eeb8c19ed55f79\n",
       "2              private_subnet_id              subnet-0cacf4f9a5a4c0f9c\n",
       "3                    nat_gateway                 nat-03a9451b9ad3f3bc5\n",
       "4            internet_gateway_id                 igw-0bce767c5b3cf79a4\n",
       "5                      natgw_eip            eipalloc-0c90677192f18ecda\n",
       "6             public_route_table                 rtb-0ea6c45dba6b8b2d6\n",
       "7       public_security_group_id                  sg-06ea16a07eb29c3cb\n",
       "8      private_security_group_id                  sg-0ae14877a4a05a090\n",
       "9                     kms_key_id  mrk-f1c124f211fa4432a346cabf82e4a8c3\n",
       "10          launch_template_name           e90_bastion_launch_template\n",
       "11           bastion_instance_id                   i-0b44fc72aa9be56ba\n",
       "12            efs_creation_token      1b83d528aff812ca246b792c60591d22\n",
       "13               private_az_name                            us-east-1b\n",
       "14            efs_file_system_id                  fs-03f1e2807bbd0033a\n",
       "15           efs_mount_target_id                fsmt-082f9620b96bd76a3\n",
       "16  private_launch_template_name                          comp_clus_lt"
      ]
     },
     "execution_count": 57,
     "metadata": {},
     "output_type": "execute_result"
    }
   ],
   "source": [
    "commit_record(field_name='private_launch_template_name', field_value=private_launch_template_name)\n",
    "read_db_results()"
   ]
  },
  {
   "cell_type": "markdown",
   "metadata": {},
   "source": [
    "A much larger standard root volume will be needed to install all of the requisite computing software. According to stackoverflow, in order to do this I will need to specify a BlockDeviceMappings at launch time. Notably, working on this IAC template provides a scalable mechanism to deploy spark clusters very efficiently:"
   ]
  },
  {
   "cell_type": "code",
   "execution_count": 58,
   "metadata": {},
   "outputs": [
    {
     "data": {
      "text/plain": [
       "{'Groups': [],\n",
       " 'Instances': [{'AmiLaunchIndex': 0,\n",
       "   'ImageId': 'ami-0759f51a90924c166',\n",
       "   'InstanceId': 'i-0c197d81ed7f18ae4',\n",
       "   'InstanceType': 't2.xlarge',\n",
       "   'KeyName': 'csci90key',\n",
       "   'LaunchTime': datetime.datetime(2023, 12, 17, 21, 28, 7, tzinfo=tzutc()),\n",
       "   'Monitoring': {'State': 'disabled'},\n",
       "   'Placement': {'AvailabilityZone': 'us-east-1b',\n",
       "    'GroupName': '',\n",
       "    'Tenancy': 'default'},\n",
       "   'PrivateDnsName': 'ip-10-0-2-41.ec2.internal',\n",
       "   'PrivateIpAddress': '10.0.2.41',\n",
       "   'ProductCodes': [],\n",
       "   'PublicDnsName': '',\n",
       "   'State': {'Code': 0, 'Name': 'pending'},\n",
       "   'StateTransitionReason': '',\n",
       "   'SubnetId': 'subnet-0cacf4f9a5a4c0f9c',\n",
       "   'VpcId': 'vpc-09227df9104712079',\n",
       "   'Architecture': 'x86_64',\n",
       "   'BlockDeviceMappings': [],\n",
       "   'ClientToken': 'adc3ac84-e7cd-4cbc-8faf-b76b37da8478',\n",
       "   'EbsOptimized': False,\n",
       "   'EnaSupport': True,\n",
       "   'Hypervisor': 'xen',\n",
       "   'NetworkInterfaces': [{'Attachment': {'AttachTime': datetime.datetime(2023, 12, 17, 21, 28, 7, tzinfo=tzutc()),\n",
       "      'AttachmentId': 'eni-attach-021c2cd0e75847e66',\n",
       "      'DeleteOnTermination': True,\n",
       "      'DeviceIndex': 0,\n",
       "      'Status': 'attaching',\n",
       "      'NetworkCardIndex': 0},\n",
       "     'Description': 'private_launch_template_network_eni',\n",
       "     'Groups': [{'GroupName': 'private-sg-e90-fp',\n",
       "       'GroupId': 'sg-0ae14877a4a05a090'}],\n",
       "     'Ipv6Addresses': [],\n",
       "     'MacAddress': '0e:1d:c4:63:88:3f',\n",
       "     'NetworkInterfaceId': 'eni-0569f82b5e28ab311',\n",
       "     'OwnerId': '505296053618',\n",
       "     'PrivateIpAddress': '10.0.2.41',\n",
       "     'PrivateIpAddresses': [{'Primary': True,\n",
       "       'PrivateIpAddress': '10.0.2.41'}],\n",
       "     'SourceDestCheck': True,\n",
       "     'Status': 'in-use',\n",
       "     'SubnetId': 'subnet-0cacf4f9a5a4c0f9c',\n",
       "     'VpcId': 'vpc-09227df9104712079',\n",
       "     'InterfaceType': 'interface'}],\n",
       "   'RootDeviceName': '/dev/xvda',\n",
       "   'RootDeviceType': 'ebs',\n",
       "   'SecurityGroups': [{'GroupName': 'private-sg-e90-fp',\n",
       "     'GroupId': 'sg-0ae14877a4a05a090'}],\n",
       "   'SourceDestCheck': True,\n",
       "   'StateReason': {'Code': 'pending', 'Message': 'pending'},\n",
       "   'Tags': [{'Key': 'Name', 'Value': 'e90_computing_cluster'},\n",
       "    {'Key': 'aws:ec2launchtemplate:version', 'Value': '1'},\n",
       "    {'Key': 'aws:ec2launchtemplate:id', 'Value': 'lt-019e6498e8d5f273f'}],\n",
       "   'VirtualizationType': 'hvm',\n",
       "   'CpuOptions': {'CoreCount': 4, 'ThreadsPerCore': 1},\n",
       "   'CapacityReservationSpecification': {'CapacityReservationPreference': 'open'},\n",
       "   'MetadataOptions': {'State': 'pending',\n",
       "    'HttpTokens': 'required',\n",
       "    'HttpPutResponseHopLimit': 2,\n",
       "    'HttpEndpoint': 'enabled',\n",
       "    'HttpProtocolIpv6': 'disabled',\n",
       "    'InstanceMetadataTags': 'disabled'},\n",
       "   'EnclaveOptions': {'Enabled': False},\n",
       "   'BootMode': 'uefi-preferred',\n",
       "   'PrivateDnsNameOptions': {'HostnameType': 'ip-name',\n",
       "    'EnableResourceNameDnsARecord': False,\n",
       "    'EnableResourceNameDnsAAAARecord': False},\n",
       "   'MaintenanceOptions': {'AutoRecovery': 'default'},\n",
       "   'CurrentInstanceBootMode': 'legacy-bios'}],\n",
       " 'OwnerId': '505296053618',\n",
       " 'ReservationId': 'r-0e752b9f0f03b7307',\n",
       " 'ResponseMetadata': {'RequestId': '13c57a40-1eb4-4322-a329-250e79319c14',\n",
       "  'HTTPStatusCode': 200,\n",
       "  'HTTPHeaders': {'x-amzn-requestid': '13c57a40-1eb4-4322-a329-250e79319c14',\n",
       "   'cache-control': 'no-cache, no-store',\n",
       "   'strict-transport-security': 'max-age=31536000; includeSubDomains',\n",
       "   'vary': 'accept-encoding',\n",
       "   'content-type': 'text/xml;charset=UTF-8',\n",
       "   'content-length': '5986',\n",
       "   'date': 'Sun, 17 Dec 2023 21:28:07 GMT',\n",
       "   'server': 'AmazonEC2'},\n",
       "  'RetryAttempts': 0}}"
      ]
     },
     "execution_count": 58,
     "metadata": {},
     "output_type": "execute_result"
    }
   ],
   "source": [
    " # https://boto3.amazonaws.com/v1/documentation/api/latest/guide/migrationec2.html#launching-new-instances\n",
    "import boto3\n",
    "ec2 = boto3.client('ec2')\n",
    "\n",
    "#https://stackoverflow.com/questions/48631642/is-possible-to-use-run-instances-from-instance-template\n",
    "lt_specifics = {\n",
    "    'LaunchTemplateName': private_launch_template_name\n",
    "}\n",
    "\n",
    "BlockDeviceMappings=[\n",
    "        {\n",
    "            \"DeviceName\": \"/dev/xvda\",\n",
    "            'Ebs': {\n",
    "                'DeleteOnTermination': True,\n",
    "                'VolumeSize': 500,\n",
    "                'VolumeType': 'standard',\n",
    "                'KmsKeyId': kms_key_id,\n",
    "                'Encrypted': True\n",
    "            }\n",
    "        },\n",
    "    ]\n",
    "\n",
    "instance = ec2.run_instances(\n",
    "    LaunchTemplate = lt_specifics, MinCount=1, MaxCount=1,BlockDeviceMappings=BlockDeviceMappings\n",
    ")\n",
    "\n",
    "instance"
   ]
  },
  {
   "cell_type": "markdown",
   "metadata": {},
   "source": [
    "Commit the new instance record to the database:"
   ]
  },
  {
   "cell_type": "code",
   "execution_count": 59,
   "metadata": {},
   "outputs": [
    {
     "data": {
      "text/html": [
       "<div>\n",
       "<style scoped>\n",
       "    .dataframe tbody tr th:only-of-type {\n",
       "        vertical-align: middle;\n",
       "    }\n",
       "\n",
       "    .dataframe tbody tr th {\n",
       "        vertical-align: top;\n",
       "    }\n",
       "\n",
       "    .dataframe thead th {\n",
       "        text-align: right;\n",
       "    }\n",
       "</style>\n",
       "<table border=\"1\" class=\"dataframe\">\n",
       "  <thead>\n",
       "    <tr style=\"text-align: right;\">\n",
       "      <th></th>\n",
       "      <th>field</th>\n",
       "      <th>value</th>\n",
       "    </tr>\n",
       "  </thead>\n",
       "  <tbody>\n",
       "    <tr>\n",
       "      <th>0</th>\n",
       "      <td>VpcId</td>\n",
       "      <td>vpc-09227df9104712079</td>\n",
       "    </tr>\n",
       "    <tr>\n",
       "      <th>1</th>\n",
       "      <td>public_subnet_id</td>\n",
       "      <td>subnet-097eeb8c19ed55f79</td>\n",
       "    </tr>\n",
       "    <tr>\n",
       "      <th>2</th>\n",
       "      <td>private_subnet_id</td>\n",
       "      <td>subnet-0cacf4f9a5a4c0f9c</td>\n",
       "    </tr>\n",
       "    <tr>\n",
       "      <th>3</th>\n",
       "      <td>nat_gateway</td>\n",
       "      <td>nat-03a9451b9ad3f3bc5</td>\n",
       "    </tr>\n",
       "    <tr>\n",
       "      <th>4</th>\n",
       "      <td>internet_gateway_id</td>\n",
       "      <td>igw-0bce767c5b3cf79a4</td>\n",
       "    </tr>\n",
       "    <tr>\n",
       "      <th>5</th>\n",
       "      <td>natgw_eip</td>\n",
       "      <td>eipalloc-0c90677192f18ecda</td>\n",
       "    </tr>\n",
       "    <tr>\n",
       "      <th>6</th>\n",
       "      <td>public_route_table</td>\n",
       "      <td>rtb-0ea6c45dba6b8b2d6</td>\n",
       "    </tr>\n",
       "    <tr>\n",
       "      <th>7</th>\n",
       "      <td>public_security_group_id</td>\n",
       "      <td>sg-06ea16a07eb29c3cb</td>\n",
       "    </tr>\n",
       "    <tr>\n",
       "      <th>8</th>\n",
       "      <td>private_security_group_id</td>\n",
       "      <td>sg-0ae14877a4a05a090</td>\n",
       "    </tr>\n",
       "    <tr>\n",
       "      <th>9</th>\n",
       "      <td>kms_key_id</td>\n",
       "      <td>mrk-f1c124f211fa4432a346cabf82e4a8c3</td>\n",
       "    </tr>\n",
       "    <tr>\n",
       "      <th>10</th>\n",
       "      <td>launch_template_name</td>\n",
       "      <td>e90_bastion_launch_template</td>\n",
       "    </tr>\n",
       "    <tr>\n",
       "      <th>11</th>\n",
       "      <td>bastion_instance_id</td>\n",
       "      <td>i-0b44fc72aa9be56ba</td>\n",
       "    </tr>\n",
       "    <tr>\n",
       "      <th>12</th>\n",
       "      <td>efs_creation_token</td>\n",
       "      <td>1b83d528aff812ca246b792c60591d22</td>\n",
       "    </tr>\n",
       "    <tr>\n",
       "      <th>13</th>\n",
       "      <td>private_az_name</td>\n",
       "      <td>us-east-1b</td>\n",
       "    </tr>\n",
       "    <tr>\n",
       "      <th>14</th>\n",
       "      <td>efs_file_system_id</td>\n",
       "      <td>fs-03f1e2807bbd0033a</td>\n",
       "    </tr>\n",
       "    <tr>\n",
       "      <th>15</th>\n",
       "      <td>efs_mount_target_id</td>\n",
       "      <td>fsmt-082f9620b96bd76a3</td>\n",
       "    </tr>\n",
       "    <tr>\n",
       "      <th>16</th>\n",
       "      <td>private_launch_template_name</td>\n",
       "      <td>comp_clus_lt</td>\n",
       "    </tr>\n",
       "    <tr>\n",
       "      <th>17</th>\n",
       "      <td>computing_instance</td>\n",
       "      <td>i-0c197d81ed7f18ae4</td>\n",
       "    </tr>\n",
       "  </tbody>\n",
       "</table>\n",
       "</div>"
      ],
      "text/plain": [
       "                           field                                 value\n",
       "0                          VpcId                 vpc-09227df9104712079\n",
       "1               public_subnet_id              subnet-097eeb8c19ed55f79\n",
       "2              private_subnet_id              subnet-0cacf4f9a5a4c0f9c\n",
       "3                    nat_gateway                 nat-03a9451b9ad3f3bc5\n",
       "4            internet_gateway_id                 igw-0bce767c5b3cf79a4\n",
       "5                      natgw_eip            eipalloc-0c90677192f18ecda\n",
       "6             public_route_table                 rtb-0ea6c45dba6b8b2d6\n",
       "7       public_security_group_id                  sg-06ea16a07eb29c3cb\n",
       "8      private_security_group_id                  sg-0ae14877a4a05a090\n",
       "9                     kms_key_id  mrk-f1c124f211fa4432a346cabf82e4a8c3\n",
       "10          launch_template_name           e90_bastion_launch_template\n",
       "11           bastion_instance_id                   i-0b44fc72aa9be56ba\n",
       "12            efs_creation_token      1b83d528aff812ca246b792c60591d22\n",
       "13               private_az_name                            us-east-1b\n",
       "14            efs_file_system_id                  fs-03f1e2807bbd0033a\n",
       "15           efs_mount_target_id                fsmt-082f9620b96bd76a3\n",
       "16  private_launch_template_name                          comp_clus_lt\n",
       "17            computing_instance                   i-0c197d81ed7f18ae4"
      ]
     },
     "execution_count": 59,
     "metadata": {},
     "output_type": "execute_result"
    }
   ],
   "source": [
    "commit_record(field_name='computing_instance',field_value=instance['Instances'][0]['InstanceId'] )\n",
    "read_db_results()"
   ]
  },
  {
   "cell_type": "markdown",
   "metadata": {},
   "source": [
    "# *LONG PAUSE FOR INSTANCE STARTUP*"
   ]
  },
  {
   "cell_type": "code",
   "execution_count": null,
   "metadata": {},
   "outputs": [],
   "source": []
  },
  {
   "cell_type": "markdown",
   "metadata": {},
   "source": [
    "# Using Visual Studio Code With AWS\n",
    "\n",
    "During the course of the project, I learned how to utilize the AWS extension within Visual Studio Code to examine the resources and configurations I have deployed within my AWS account. The AWS Explorer is a GUI that has nested dropdown lists for resources and common AWS services. I found this utility very useful for providing a visual option during the development process for examining the results of running various commands. In contrast, without this feature, it is necessary to write code to capture the responses back from AWS to list out resources and services within the account. The AWS extension includes a convenient link on the left hand ribbon. All of this turns an otherwise time consuming and iterative process of code development and checking the environment into a substantially simpler exercise. In short, this is yet another time saving reason to employ Visual Studio Code instead of either regular Jupyter Notebook or the AWS GUI (as is common in either domain of data science and IT Helpdesk respectively). "
   ]
  },
  {
   "cell_type": "code",
   "execution_count": 3,
   "metadata": {},
   "outputs": [
    {
     "data": {
      "image/png": "[encoded data removed]",
      "text/plain": [
       "<IPython.core.display.Image object>"
      ]
     },
     "execution_count": 3,
     "metadata": {},
     "output_type": "execute_result"
    }
   ],
   "source": [
    "display.Image(\"aws_gui.png\")"
   ]
  },
  {
   "cell_type": "markdown",
   "metadata": {},
   "source": [
    "### "
   ]
  },
  {
   "cell_type": "markdown",
   "metadata": {},
   "source": [
    "# Using Visual Studio Code Remotely (FUTURE WORK)\n",
    "\n",
    "Once the environment has been successfully deployed and tested, I can now seamlessly connect remotely to it and utilize the computing resources within the Visual Studio IDE to perform the core steps in the machine learning operations (ML Ops) life cycle. "
   ]
  },
  {
   "cell_type": "code",
   "execution_count": null,
   "metadata": {},
   "outputs": [],
   "source": []
  },
  {
   "cell_type": "markdown",
   "metadata": {},
   "source": [
    "# Environment tear down\n",
    "\n",
    "With the below code, the entire environment created for the project will be destroyed. When undertaken programmatically, environment destruction can be easily timestamped and photographed for compliance record keeping purposes."
   ]
  },
  {
   "cell_type": "markdown",
   "metadata": {},
   "source": [
    "According to the AWS documentation for delete_vpc method of the ec2 client, deleting a VPC programmatically works the same way is it would if I were to approach it from the AWS gui console on the aws web site. Specifically, the documentation states:\n",
    "\n",
    "\"EC2.Client.delete_vpc(**kwargs)\\\n",
    "*Deletes the specified VPC. You must detach or delete all gateways and resources that are associated with the VPC before you can delete it. For example, you must terminate all instances running in the VPC, delete all security groups associated with the VPC (except the default one), delete all route tables associated with the VPC (except the default one), and so on. When you delete the VPC, it deletes the VPC’s default security group, network ACL, and route table.\"*\n",
    "\n",
    "https://boto3.amazonaws.com/v1/documentation/api/latest/reference/services/ec2/client/delete_vpc.html\n",
    "\n",
    "The key takeaway here is that I can completely tear the environment down in a single block of commands if I want to. In order to do that, the work will simply need to be performed *in the right order* so that the teardown can occur without any manual intervention. Specifically, these requirements indicate the following order of operations:\n",
    "\n",
    "(1) terminate all instances running in the VPC; \n",
    "(2) delete all security groups associated with the VPC except the default security group;\n",
    "(3) delete all route tables associated with the VPC except the default route table;\n",
    "(4) and so on... indicating the VPC is the last thing to be deleted\n",
    "\n",
    "While project cleanup is typically handled as an afterthought, in a highly regulated compliance environment - in which data destruction must be not only assured but documentable - being able to reliably run a teardown command in which there is design level knowledge that the environment will be destroyed has substantial value. Furthermore, by performing this task within a Jupyter notebook, I can also take advantage of our ability to knit the document into a PDF as a permanent project artifact for submission to a project manager to close out a project. \n",
    "\n",
    "Turnkey compliance in this fashion also potentially reduces approval barriers because the non-routine nature of environment management is overcome. In this way, setting up an entire cloud becomes as simple as a conda environment in a data science project in which each environment is not only bespoke but assumed to be isolated and expendable after the conclusion of a project. Results should be reproducible after a teardown as well.\n",
    "\n",
    "The below blocks of code were rearranged through an iterative testing to identify the sequence and requirements to ensure that teardown was entirely programmatic and did not necessitate any use of the AWS Console GUI. "
   ]
  },
  {
   "cell_type": "code",
   "execution_count": 60,
   "metadata": {},
   "outputs": [
    {
     "data": {
      "text/html": [
       "<div>\n",
       "<style scoped>\n",
       "    .dataframe tbody tr th:only-of-type {\n",
       "        vertical-align: middle;\n",
       "    }\n",
       "\n",
       "    .dataframe tbody tr th {\n",
       "        vertical-align: top;\n",
       "    }\n",
       "\n",
       "    .dataframe thead th {\n",
       "        text-align: right;\n",
       "    }\n",
       "</style>\n",
       "<table border=\"1\" class=\"dataframe\">\n",
       "  <thead>\n",
       "    <tr style=\"text-align: right;\">\n",
       "      <th></th>\n",
       "      <th>field</th>\n",
       "      <th>value</th>\n",
       "    </tr>\n",
       "  </thead>\n",
       "  <tbody>\n",
       "    <tr>\n",
       "      <th>0</th>\n",
       "      <td>VpcId</td>\n",
       "      <td>vpc-09227df9104712079</td>\n",
       "    </tr>\n",
       "    <tr>\n",
       "      <th>1</th>\n",
       "      <td>public_subnet_id</td>\n",
       "      <td>subnet-097eeb8c19ed55f79</td>\n",
       "    </tr>\n",
       "    <tr>\n",
       "      <th>2</th>\n",
       "      <td>private_subnet_id</td>\n",
       "      <td>subnet-0cacf4f9a5a4c0f9c</td>\n",
       "    </tr>\n",
       "    <tr>\n",
       "      <th>3</th>\n",
       "      <td>nat_gateway</td>\n",
       "      <td>nat-03a9451b9ad3f3bc5</td>\n",
       "    </tr>\n",
       "    <tr>\n",
       "      <th>4</th>\n",
       "      <td>internet_gateway_id</td>\n",
       "      <td>igw-0bce767c5b3cf79a4</td>\n",
       "    </tr>\n",
       "    <tr>\n",
       "      <th>5</th>\n",
       "      <td>natgw_eip</td>\n",
       "      <td>eipalloc-0c90677192f18ecda</td>\n",
       "    </tr>\n",
       "    <tr>\n",
       "      <th>6</th>\n",
       "      <td>public_route_table</td>\n",
       "      <td>rtb-0ea6c45dba6b8b2d6</td>\n",
       "    </tr>\n",
       "    <tr>\n",
       "      <th>7</th>\n",
       "      <td>public_security_group_id</td>\n",
       "      <td>sg-06ea16a07eb29c3cb</td>\n",
       "    </tr>\n",
       "    <tr>\n",
       "      <th>8</th>\n",
       "      <td>private_security_group_id</td>\n",
       "      <td>sg-0ae14877a4a05a090</td>\n",
       "    </tr>\n",
       "    <tr>\n",
       "      <th>9</th>\n",
       "      <td>kms_key_id</td>\n",
       "      <td>mrk-f1c124f211fa4432a346cabf82e4a8c3</td>\n",
       "    </tr>\n",
       "    <tr>\n",
       "      <th>10</th>\n",
       "      <td>launch_template_name</td>\n",
       "      <td>e90_bastion_launch_template</td>\n",
       "    </tr>\n",
       "    <tr>\n",
       "      <th>11</th>\n",
       "      <td>bastion_instance_id</td>\n",
       "      <td>i-0b44fc72aa9be56ba</td>\n",
       "    </tr>\n",
       "    <tr>\n",
       "      <th>12</th>\n",
       "      <td>efs_creation_token</td>\n",
       "      <td>1b83d528aff812ca246b792c60591d22</td>\n",
       "    </tr>\n",
       "    <tr>\n",
       "      <th>13</th>\n",
       "      <td>private_az_name</td>\n",
       "      <td>us-east-1b</td>\n",
       "    </tr>\n",
       "    <tr>\n",
       "      <th>14</th>\n",
       "      <td>efs_file_system_id</td>\n",
       "      <td>fs-03f1e2807bbd0033a</td>\n",
       "    </tr>\n",
       "    <tr>\n",
       "      <th>15</th>\n",
       "      <td>efs_mount_target_id</td>\n",
       "      <td>fsmt-082f9620b96bd76a3</td>\n",
       "    </tr>\n",
       "    <tr>\n",
       "      <th>16</th>\n",
       "      <td>private_launch_template_name</td>\n",
       "      <td>comp_clus_lt</td>\n",
       "    </tr>\n",
       "    <tr>\n",
       "      <th>17</th>\n",
       "      <td>computing_instance</td>\n",
       "      <td>i-0c197d81ed7f18ae4</td>\n",
       "    </tr>\n",
       "  </tbody>\n",
       "</table>\n",
       "</div>"
      ],
      "text/plain": [
       "                           field                                 value\n",
       "0                          VpcId                 vpc-09227df9104712079\n",
       "1               public_subnet_id              subnet-097eeb8c19ed55f79\n",
       "2              private_subnet_id              subnet-0cacf4f9a5a4c0f9c\n",
       "3                    nat_gateway                 nat-03a9451b9ad3f3bc5\n",
       "4            internet_gateway_id                 igw-0bce767c5b3cf79a4\n",
       "5                      natgw_eip            eipalloc-0c90677192f18ecda\n",
       "6             public_route_table                 rtb-0ea6c45dba6b8b2d6\n",
       "7       public_security_group_id                  sg-06ea16a07eb29c3cb\n",
       "8      private_security_group_id                  sg-0ae14877a4a05a090\n",
       "9                     kms_key_id  mrk-f1c124f211fa4432a346cabf82e4a8c3\n",
       "10          launch_template_name           e90_bastion_launch_template\n",
       "11           bastion_instance_id                   i-0b44fc72aa9be56ba\n",
       "12            efs_creation_token      1b83d528aff812ca246b792c60591d22\n",
       "13               private_az_name                            us-east-1b\n",
       "14            efs_file_system_id                  fs-03f1e2807bbd0033a\n",
       "15           efs_mount_target_id                fsmt-082f9620b96bd76a3\n",
       "16  private_launch_template_name                          comp_clus_lt\n",
       "17            computing_instance                   i-0c197d81ed7f18ae4"
      ]
     },
     "execution_count": 60,
     "metadata": {},
     "output_type": "execute_result"
    }
   ],
   "source": [
    "read_db_results() # this is our list of items to delete"
   ]
  },
  {
   "cell_type": "code",
   "execution_count": 61,
   "metadata": {},
   "outputs": [],
   "source": [
    "restore_global_iac_variables() # start by restoring IAC variables since this will be run presumably after the environnment is used"
   ]
  },
  {
   "cell_type": "code",
   "execution_count": 62,
   "metadata": {},
   "outputs": [
    {
     "data": {
      "text/plain": [
       "'vpc-09227df9104712079'"
      ]
     },
     "execution_count": 62,
     "metadata": {},
     "output_type": "execute_result"
    }
   ],
   "source": [
    "VpcId # unit test - confirms above works"
   ]
  },
  {
   "cell_type": "markdown",
   "metadata": {},
   "source": [
    "### Terminate all instances\n",
    "\n",
    "Before beginning the teardown of the entire network, I'll terminate all running instances:"
   ]
  },
  {
   "cell_type": "code",
   "execution_count": 63,
   "metadata": {},
   "outputs": [
    {
     "data": {
      "text/plain": [
       "{'TerminatingInstances': [{'CurrentState': {'Code': 32,\n",
       "    'Name': 'shutting-down'},\n",
       "   'InstanceId': 'i-0c197d81ed7f18ae4',\n",
       "   'PreviousState': {'Code': 16, 'Name': 'running'}},\n",
       "  {'CurrentState': {'Code': 32, 'Name': 'shutting-down'},\n",
       "   'InstanceId': 'i-0b44fc72aa9be56ba',\n",
       "   'PreviousState': {'Code': 16, 'Name': 'running'}}],\n",
       " 'ResponseMetadata': {'RequestId': '9aae78af-85c4-4f35-9ed0-5c27ea86d395',\n",
       "  'HTTPStatusCode': 200,\n",
       "  'HTTPHeaders': {'x-amzn-requestid': '9aae78af-85c4-4f35-9ed0-5c27ea86d395',\n",
       "   'cache-control': 'no-cache, no-store',\n",
       "   'strict-transport-security': 'max-age=31536000; includeSubDomains',\n",
       "   'content-type': 'text/xml;charset=UTF-8',\n",
       "   'content-length': '938',\n",
       "   'date': 'Sun, 17 Dec 2023 21:29:55 GMT',\n",
       "   'server': 'AmazonEC2'},\n",
       "  'RetryAttempts': 0}}"
      ]
     },
     "execution_count": 63,
     "metadata": {},
     "output_type": "execute_result"
    }
   ],
   "source": [
    "# https://boto3.amazonaws.com/v1/documentation/api/latest/reference/services/ec2/client/terminate_instances.html\n",
    "\n",
    "client = boto3.client(\"ec2\")\n",
    "response = client.terminate_instances(\n",
    "    InstanceIds=[\n",
    "        computing_instance, bastion_instance_id\n",
    "    ],\n",
    "    DryRun=False\n",
    ")\n",
    "response"
   ]
  },
  {
   "cell_type": "markdown",
   "metadata": {},
   "source": [
    "Delete the efs mount target:"
   ]
  },
  {
   "cell_type": "code",
   "execution_count": 64,
   "metadata": {},
   "outputs": [
    {
     "data": {
      "text/plain": [
       "{'ResponseMetadata': {'RequestId': '68614b86-fb9a-431f-ada0-612bf77704ce',\n",
       "  'HTTPStatusCode': 204,\n",
       "  'HTTPHeaders': {'x-amzn-requestid': '68614b86-fb9a-431f-ada0-612bf77704ce',\n",
       "   'content-type': 'application/json',\n",
       "   'date': 'Sun, 17 Dec 2023 21:30:16 GMT'},\n",
       "  'RetryAttempts': 0}}"
      ]
     },
     "execution_count": 64,
     "metadata": {},
     "output_type": "execute_result"
    }
   ],
   "source": [
    "client = boto3.client(\"efs\")\n",
    "response = client.delete_mount_target(\n",
    "    MountTargetId=efs_mount_target_id\n",
    ")\n",
    "response"
   ]
  },
  {
   "cell_type": "markdown",
   "metadata": {},
   "source": [
    "Delete the efs file system - this example assumes you want to do that. If this is where project long term artifacts are stored, do not do that:"
   ]
  },
  {
   "cell_type": "code",
   "execution_count": 65,
   "metadata": {},
   "outputs": [
    {
     "data": {
      "text/plain": [
       "{'ResponseMetadata': {'RequestId': 'e11750fc-5002-4073-b311-8b70ebe2b9e7',\n",
       "  'HTTPStatusCode': 204,\n",
       "  'HTTPHeaders': {'x-amzn-requestid': 'e11750fc-5002-4073-b311-8b70ebe2b9e7',\n",
       "   'content-type': 'application/json',\n",
       "   'date': 'Sun, 17 Dec 2023 21:30:38 GMT'},\n",
       "  'RetryAttempts': 0}}"
      ]
     },
     "execution_count": 65,
     "metadata": {},
     "output_type": "execute_result"
    }
   ],
   "source": [
    "# https://boto3.amazonaws.com/v1/documentation/api/latest/reference/services/efs/client/delete_file_system.html\n",
    "response = client.delete_file_system(\n",
    "    FileSystemId=efs_file_system_id\n",
    ")\n",
    "response"
   ]
  },
  {
   "cell_type": "markdown",
   "metadata": {},
   "source": [
    "Delete the public bastion instance launch template:"
   ]
  },
  {
   "cell_type": "code",
   "execution_count": 66,
   "metadata": {},
   "outputs": [
    {
     "data": {
      "text/plain": [
       "{'LaunchTemplate': {'LaunchTemplateId': 'lt-0d2246882b82491a1',\n",
       "  'LaunchTemplateName': 'e90_bastion_launch_template',\n",
       "  'CreateTime': datetime.datetime(2023, 12, 17, 21, 24, 37, tzinfo=tzutc()),\n",
       "  'CreatedBy': 'arn:aws:iam::505296053618:user/python-user',\n",
       "  'DefaultVersionNumber': 1,\n",
       "  'LatestVersionNumber': 1},\n",
       " 'ResponseMetadata': {'RequestId': 'cca0fb40-2af1-4fd4-882a-ccf86412a5ca',\n",
       "  'HTTPStatusCode': 200,\n",
       "  'HTTPHeaders': {'x-amzn-requestid': 'cca0fb40-2af1-4fd4-882a-ccf86412a5ca',\n",
       "   'cache-control': 'no-cache, no-store',\n",
       "   'strict-transport-security': 'max-age=31536000; includeSubDomains',\n",
       "   'vary': 'accept-encoding',\n",
       "   'content-type': 'text/xml;charset=UTF-8',\n",
       "   'transfer-encoding': 'chunked',\n",
       "   'date': 'Sun, 17 Dec 2023 21:30:45 GMT',\n",
       "   'server': 'AmazonEC2'},\n",
       "  'RetryAttempts': 0}}"
      ]
     },
     "execution_count": 66,
     "metadata": {},
     "output_type": "execute_result"
    }
   ],
   "source": [
    "# https://boto3.amazonaws.com/v1/documentation/api/latest/reference/services/ec2/client/delete_launch_template.html\n",
    "response = ec2.delete_launch_template(\n",
    "    DryRun=False,\n",
    "    LaunchTemplateName='e90_bastion_launch_template'\n",
    ")\n",
    "response"
   ]
  },
  {
   "cell_type": "markdown",
   "metadata": {},
   "source": [
    "Delete the launch template for the computing cluster:"
   ]
  },
  {
   "cell_type": "code",
   "execution_count": 67,
   "metadata": {},
   "outputs": [
    {
     "data": {
      "text/plain": [
       "{'LaunchTemplate': {'LaunchTemplateId': 'lt-019e6498e8d5f273f',\n",
       "  'LaunchTemplateName': 'comp_clus_lt',\n",
       "  'CreateTime': datetime.datetime(2023, 12, 17, 21, 27, 36, tzinfo=tzutc()),\n",
       "  'CreatedBy': 'arn:aws:iam::505296053618:user/python-user',\n",
       "  'DefaultVersionNumber': 1,\n",
       "  'LatestVersionNumber': 1},\n",
       " 'ResponseMetadata': {'RequestId': '83f4ac67-cd23-4908-b63c-d7a6e32d0a25',\n",
       "  'HTTPStatusCode': 200,\n",
       "  'HTTPHeaders': {'x-amzn-requestid': '83f4ac67-cd23-4908-b63c-d7a6e32d0a25',\n",
       "   'cache-control': 'no-cache, no-store',\n",
       "   'strict-transport-security': 'max-age=31536000; includeSubDomains',\n",
       "   'vary': 'accept-encoding',\n",
       "   'content-type': 'text/xml;charset=UTF-8',\n",
       "   'transfer-encoding': 'chunked',\n",
       "   'date': 'Sun, 17 Dec 2023 21:30:49 GMT',\n",
       "   'server': 'AmazonEC2'},\n",
       "  'RetryAttempts': 0}}"
      ]
     },
     "execution_count": 67,
     "metadata": {},
     "output_type": "execute_result"
    }
   ],
   "source": [
    "# https://boto3.amazonaws.com/v1/documentation/api/latest/reference/services/ec2/client/delete_launch_template.html\n",
    "response = ec2.delete_launch_template(\n",
    "    DryRun=False,\n",
    "    LaunchTemplateName='comp_clus_lt'\n",
    ")\n",
    "response"
   ]
  },
  {
   "cell_type": "markdown",
   "metadata": {},
   "source": [
    "### Delete security groups\n",
    "\n",
    "First, the bastion host security group will be deleted. Note that this cannot be deleted while the bastion host instance is in the process of terminating - so some waiting is required but not more than 2 or 3 minutes:"
   ]
  },
  {
   "cell_type": "code",
   "execution_count": 68,
   "metadata": {},
   "outputs": [
    {
     "data": {
      "text/plain": [
       "{'ResponseMetadata': {'RequestId': '7249162d-71d2-40db-b672-6e12c8d36a58',\n",
       "  'HTTPStatusCode': 200,\n",
       "  'HTTPHeaders': {'x-amzn-requestid': '7249162d-71d2-40db-b672-6e12c8d36a58',\n",
       "   'cache-control': 'no-cache, no-store',\n",
       "   'strict-transport-security': 'max-age=31536000; includeSubDomains',\n",
       "   'content-type': 'text/xml;charset=UTF-8',\n",
       "   'content-length': '239',\n",
       "   'date': 'Sun, 17 Dec 2023 21:30:52 GMT',\n",
       "   'server': 'AmazonEC2'},\n",
       "  'RetryAttempts': 0}}"
      ]
     },
     "execution_count": 68,
     "metadata": {},
     "output_type": "execute_result"
    }
   ],
   "source": [
    "# https://boto3.amazonaws.com/v1/documentation/api/latest/reference/services/ec2/client/delete_security_group.html\n",
    "response = ec2.delete_security_group(\n",
    "    GroupId=public_security_group_id,\n",
    "    DryRun=False\n",
    ")\n",
    "response"
   ]
  },
  {
   "cell_type": "markdown",
   "metadata": {},
   "source": [
    "Next, the private subnet computing cluster security group will be deleted:"
   ]
  },
  {
   "cell_type": "code",
   "execution_count": 69,
   "metadata": {},
   "outputs": [
    {
     "data": {
      "text/plain": [
       "{'ResponseMetadata': {'RequestId': '369ca32e-2a0a-4b2b-b9b1-0c992f6eca45',\n",
       "  'HTTPStatusCode': 200,\n",
       "  'HTTPHeaders': {'x-amzn-requestid': '369ca32e-2a0a-4b2b-b9b1-0c992f6eca45',\n",
       "   'cache-control': 'no-cache, no-store',\n",
       "   'strict-transport-security': 'max-age=31536000; includeSubDomains',\n",
       "   'content-type': 'text/xml;charset=UTF-8',\n",
       "   'content-length': '239',\n",
       "   'date': 'Sun, 17 Dec 2023 21:30:57 GMT',\n",
       "   'server': 'AmazonEC2'},\n",
       "  'RetryAttempts': 0}}"
      ]
     },
     "execution_count": 69,
     "metadata": {},
     "output_type": "execute_result"
    }
   ],
   "source": [
    "# https://boto3.amazonaws.com/v1/documentation/api/latest/reference/services/ec2/client/delete_security_group.html\n",
    "response = ec2.delete_security_group(\n",
    "    GroupId=private_security_group_id,\n",
    "    DryRun=False\n",
    ")\n",
    "response"
   ]
  },
  {
   "cell_type": "markdown",
   "metadata": {},
   "source": [
    "## Network teardown\n",
    "\n",
    "Performing the teardown on this section requires removing the elastic IP addresses first before the route tables. Then route tables can be purged. At first, when I attempted to do this, I thought that I should disassociate and / or delete the elastic IP address directly. However, since I attached the elastic IP address to my NAT gateway, I needed to delete this. It turns out that deleting the NAT gateway automatically releases the elastic IP address. However, I had to improve the script above to release all of the elastic IP addresses I had used in current and prior runs before I could delete the internet gateway:"
   ]
  },
  {
   "cell_type": "markdown",
   "metadata": {},
   "source": [
    "### Delete NAT gateway:"
   ]
  },
  {
   "cell_type": "code",
   "execution_count": 70,
   "metadata": {},
   "outputs": [
    {
     "data": {
      "text/plain": [
       "{'NatGatewayId': 'nat-03a9451b9ad3f3bc5',\n",
       " 'ResponseMetadata': {'RequestId': '8f43274b-9cd9-414d-9ccb-941cf8f1a9df',\n",
       "  'HTTPStatusCode': 200,\n",
       "  'HTTPHeaders': {'x-amzn-requestid': '8f43274b-9cd9-414d-9ccb-941cf8f1a9df',\n",
       "   'cache-control': 'no-cache, no-store',\n",
       "   'strict-transport-security': 'max-age=31536000; includeSubDomains',\n",
       "   'vary': 'accept-encoding',\n",
       "   'content-type': 'text/xml;charset=UTF-8',\n",
       "   'transfer-encoding': 'chunked',\n",
       "   'date': 'Sun, 17 Dec 2023 21:31:31 GMT',\n",
       "   'server': 'AmazonEC2'},\n",
       "  'RetryAttempts': 0}}"
      ]
     },
     "execution_count": 70,
     "metadata": {},
     "output_type": "execute_result"
    }
   ],
   "source": [
    "# https://boto3.amazonaws.com/v1/documentation/api/latest/reference/services/ec2/client/delete_nat_gateway.html#EC2.Client.delete_nat_gateway\n",
    "response = ec2.delete_nat_gateway(DryRun=False, \n",
    "                                  NatGatewayId=nat_gateway)\n",
    "response"
   ]
  },
  {
   "cell_type": "markdown",
   "metadata": {},
   "source": [
    "The NAT gateway elastic IP is released:"
   ]
  },
  {
   "cell_type": "code",
   "execution_count": 72,
   "metadata": {},
   "outputs": [
    {
     "data": {
      "text/plain": [
       "{'ResponseMetadata': {'RequestId': '74873841-0395-4cf7-a78d-431d09055962',\n",
       "  'HTTPStatusCode': 200,\n",
       "  'HTTPHeaders': {'x-amzn-requestid': '74873841-0395-4cf7-a78d-431d09055962',\n",
       "   'cache-control': 'no-cache, no-store',\n",
       "   'strict-transport-security': 'max-age=31536000; includeSubDomains',\n",
       "   'content-type': 'text/xml;charset=UTF-8',\n",
       "   'content-length': '229',\n",
       "   'date': 'Sun, 17 Dec 2023 21:32:38 GMT',\n",
       "   'server': 'AmazonEC2'},\n",
       "  'RetryAttempts': 0}}"
      ]
     },
     "execution_count": 72,
     "metadata": {},
     "output_type": "execute_result"
    }
   ],
   "source": [
    "# https://boto3.amazonaws.com/v1/documentation/api/latest/reference/services/ec2/client/release_address.html\n",
    "response = ec2.release_address(\n",
    "    AllocationId=natgw_eip,\n",
    "    DryRun=False\n",
    ")\n",
    "response"
   ]
  },
  {
   "cell_type": "markdown",
   "metadata": {},
   "source": [
    "All remaining elastic IP addresses are released:"
   ]
  },
  {
   "cell_type": "code",
   "execution_count": 73,
   "metadata": {},
   "outputs": [
    {
     "data": {
      "text/plain": [
       "{'Addresses': [],\n",
       " 'ResponseMetadata': {'RequestId': '45f29e20-b17a-4f2b-b331-911b59bafafe',\n",
       "  'HTTPStatusCode': 200,\n",
       "  'HTTPHeaders': {'x-amzn-requestid': '45f29e20-b17a-4f2b-b331-911b59bafafe',\n",
       "   'cache-control': 'no-cache, no-store',\n",
       "   'strict-transport-security': 'max-age=31536000; includeSubDomains',\n",
       "   'content-type': 'text/xml;charset=UTF-8',\n",
       "   'content-length': '228',\n",
       "   'date': 'Sun, 17 Dec 2023 21:32:42 GMT',\n",
       "   'server': 'AmazonEC2'},\n",
       "  'RetryAttempts': 0}}"
      ]
     },
     "execution_count": 73,
     "metadata": {},
     "output_type": "execute_result"
    }
   ],
   "source": [
    "response = ec2.describe_addresses(\n",
    "   \n",
    "    DryRun=False\n",
    ")\n",
    "response"
   ]
  },
  {
   "cell_type": "code",
   "execution_count": 74,
   "metadata": {},
   "outputs": [],
   "source": [
    "for i in response['Addresses']:\n",
    "    # https://boto3.amazonaws.com/v1/documentation/api/latest/reference/services/ec2/client/release_address.html\n",
    "    response = ec2.release_address(\n",
    "        AllocationId=i['AllocationId']\n",
    "    )\n",
    "    print(response)"
   ]
  },
  {
   "cell_type": "markdown",
   "metadata": {},
   "source": [
    "### Delete internet gateway:"
   ]
  },
  {
   "cell_type": "markdown",
   "metadata": {},
   "source": [
    "Next, I'll delete the internet gateway. According to the documentation, I need to first detach the internet gateway from the VPC before I can delete it:"
   ]
  },
  {
   "cell_type": "code",
   "execution_count": 75,
   "metadata": {},
   "outputs": [
    {
     "data": {
      "text/plain": [
       "{'ResponseMetadata': {'RequestId': '40072fa3-0e93-4bc6-b43e-e641f1f0f4fe',\n",
       "  'HTTPStatusCode': 200,\n",
       "  'HTTPHeaders': {'x-amzn-requestid': '40072fa3-0e93-4bc6-b43e-e641f1f0f4fe',\n",
       "   'cache-control': 'no-cache, no-store',\n",
       "   'strict-transport-security': 'max-age=31536000; includeSubDomains',\n",
       "   'content-type': 'text/xml;charset=UTF-8',\n",
       "   'content-length': '243',\n",
       "   'date': 'Sun, 17 Dec 2023 21:32:57 GMT',\n",
       "   'server': 'AmazonEC2'},\n",
       "  'RetryAttempts': 0}}"
      ]
     },
     "execution_count": 75,
     "metadata": {},
     "output_type": "execute_result"
    }
   ],
   "source": [
    "# https://boto3.amazonaws.com/v1/documentation/api/latest/reference/services/ec2/vpc/detach_internet_gateway.html\n",
    "response = ec2.detach_internet_gateway(\n",
    "    DryRun=False,\n",
    "    InternetGatewayId=internet_gateway_id,\n",
    "    VpcId = VpcId\n",
    ")\n",
    "response"
   ]
  },
  {
   "cell_type": "code",
   "execution_count": 76,
   "metadata": {},
   "outputs": [
    {
     "data": {
      "text/plain": [
       "{'ResponseMetadata': {'RequestId': '64ef9a8f-1328-499e-ab86-8a929fa29c10',\n",
       "  'HTTPStatusCode': 200,\n",
       "  'HTTPHeaders': {'x-amzn-requestid': '64ef9a8f-1328-499e-ab86-8a929fa29c10',\n",
       "   'cache-control': 'no-cache, no-store',\n",
       "   'strict-transport-security': 'max-age=31536000; includeSubDomains',\n",
       "   'content-type': 'text/xml;charset=UTF-8',\n",
       "   'content-length': '243',\n",
       "   'date': 'Sun, 17 Dec 2023 21:33:00 GMT',\n",
       "   'server': 'AmazonEC2'},\n",
       "  'RetryAttempts': 0}}"
      ]
     },
     "execution_count": 76,
     "metadata": {},
     "output_type": "execute_result"
    }
   ],
   "source": [
    "# https://boto3.amazonaws.com/v1/documentation/api/latest/reference/services/ec2/client/delete_internet_gateway.html\n",
    "response = ec2.delete_internet_gateway(DryRun=False, InternetGatewayId=internet_gateway_id)\n",
    "response"
   ]
  },
  {
   "cell_type": "markdown",
   "metadata": {},
   "source": [
    "### Delete Route Tables"
   ]
  },
  {
   "cell_type": "markdown",
   "metadata": {},
   "source": [
    "The only route table that needs to specifically be deleted is the one for the public subnet for the bastion host. The reason for this is that the private subnet was the route table that went with the default VPC route table - which will be deleted along with the VPC when it is deleted. To accomplish this, the association ID for the public route table for this project needs to be programmatically retrieved and then used to disassociate the route table from the subnet before deleting it."
   ]
  },
  {
   "cell_type": "code",
   "execution_count": 77,
   "metadata": {},
   "outputs": [],
   "source": [
    "response = ec2.describe_route_tables()"
   ]
  },
  {
   "cell_type": "code",
   "execution_count": 78,
   "metadata": {},
   "outputs": [
    {
     "data": {
      "text/html": [
       "<div>\n",
       "<style scoped>\n",
       "    .dataframe tbody tr th:only-of-type {\n",
       "        vertical-align: middle;\n",
       "    }\n",
       "\n",
       "    .dataframe tbody tr th {\n",
       "        vertical-align: top;\n",
       "    }\n",
       "\n",
       "    .dataframe thead th {\n",
       "        text-align: right;\n",
       "    }\n",
       "</style>\n",
       "<table border=\"1\" class=\"dataframe\">\n",
       "  <thead>\n",
       "    <tr style=\"text-align: right;\">\n",
       "      <th></th>\n",
       "      <th>field</th>\n",
       "      <th>value</th>\n",
       "    </tr>\n",
       "  </thead>\n",
       "  <tbody>\n",
       "    <tr>\n",
       "      <th>0</th>\n",
       "      <td>VpcId</td>\n",
       "      <td>vpc-09227df9104712079</td>\n",
       "    </tr>\n",
       "    <tr>\n",
       "      <th>1</th>\n",
       "      <td>public_subnet_id</td>\n",
       "      <td>subnet-097eeb8c19ed55f79</td>\n",
       "    </tr>\n",
       "    <tr>\n",
       "      <th>2</th>\n",
       "      <td>private_subnet_id</td>\n",
       "      <td>subnet-0cacf4f9a5a4c0f9c</td>\n",
       "    </tr>\n",
       "    <tr>\n",
       "      <th>3</th>\n",
       "      <td>nat_gateway</td>\n",
       "      <td>nat-03a9451b9ad3f3bc5</td>\n",
       "    </tr>\n",
       "    <tr>\n",
       "      <th>4</th>\n",
       "      <td>internet_gateway_id</td>\n",
       "      <td>igw-0bce767c5b3cf79a4</td>\n",
       "    </tr>\n",
       "    <tr>\n",
       "      <th>5</th>\n",
       "      <td>natgw_eip</td>\n",
       "      <td>eipalloc-0c90677192f18ecda</td>\n",
       "    </tr>\n",
       "    <tr>\n",
       "      <th>6</th>\n",
       "      <td>public_route_table</td>\n",
       "      <td>rtb-0ea6c45dba6b8b2d6</td>\n",
       "    </tr>\n",
       "    <tr>\n",
       "      <th>7</th>\n",
       "      <td>public_security_group_id</td>\n",
       "      <td>sg-06ea16a07eb29c3cb</td>\n",
       "    </tr>\n",
       "    <tr>\n",
       "      <th>8</th>\n",
       "      <td>private_security_group_id</td>\n",
       "      <td>sg-0ae14877a4a05a090</td>\n",
       "    </tr>\n",
       "    <tr>\n",
       "      <th>9</th>\n",
       "      <td>kms_key_id</td>\n",
       "      <td>mrk-f1c124f211fa4432a346cabf82e4a8c3</td>\n",
       "    </tr>\n",
       "    <tr>\n",
       "      <th>10</th>\n",
       "      <td>launch_template_name</td>\n",
       "      <td>e90_bastion_launch_template</td>\n",
       "    </tr>\n",
       "    <tr>\n",
       "      <th>11</th>\n",
       "      <td>bastion_instance_id</td>\n",
       "      <td>i-0b44fc72aa9be56ba</td>\n",
       "    </tr>\n",
       "    <tr>\n",
       "      <th>12</th>\n",
       "      <td>efs_creation_token</td>\n",
       "      <td>1b83d528aff812ca246b792c60591d22</td>\n",
       "    </tr>\n",
       "    <tr>\n",
       "      <th>13</th>\n",
       "      <td>private_az_name</td>\n",
       "      <td>us-east-1b</td>\n",
       "    </tr>\n",
       "    <tr>\n",
       "      <th>14</th>\n",
       "      <td>efs_file_system_id</td>\n",
       "      <td>fs-03f1e2807bbd0033a</td>\n",
       "    </tr>\n",
       "    <tr>\n",
       "      <th>15</th>\n",
       "      <td>efs_mount_target_id</td>\n",
       "      <td>fsmt-082f9620b96bd76a3</td>\n",
       "    </tr>\n",
       "    <tr>\n",
       "      <th>16</th>\n",
       "      <td>private_launch_template_name</td>\n",
       "      <td>comp_clus_lt</td>\n",
       "    </tr>\n",
       "    <tr>\n",
       "      <th>17</th>\n",
       "      <td>computing_instance</td>\n",
       "      <td>i-0c197d81ed7f18ae4</td>\n",
       "    </tr>\n",
       "  </tbody>\n",
       "</table>\n",
       "</div>"
      ],
      "text/plain": [
       "                           field                                 value\n",
       "0                          VpcId                 vpc-09227df9104712079\n",
       "1               public_subnet_id              subnet-097eeb8c19ed55f79\n",
       "2              private_subnet_id              subnet-0cacf4f9a5a4c0f9c\n",
       "3                    nat_gateway                 nat-03a9451b9ad3f3bc5\n",
       "4            internet_gateway_id                 igw-0bce767c5b3cf79a4\n",
       "5                      natgw_eip            eipalloc-0c90677192f18ecda\n",
       "6             public_route_table                 rtb-0ea6c45dba6b8b2d6\n",
       "7       public_security_group_id                  sg-06ea16a07eb29c3cb\n",
       "8      private_security_group_id                  sg-0ae14877a4a05a090\n",
       "9                     kms_key_id  mrk-f1c124f211fa4432a346cabf82e4a8c3\n",
       "10          launch_template_name           e90_bastion_launch_template\n",
       "11           bastion_instance_id                   i-0b44fc72aa9be56ba\n",
       "12            efs_creation_token      1b83d528aff812ca246b792c60591d22\n",
       "13               private_az_name                            us-east-1b\n",
       "14            efs_file_system_id                  fs-03f1e2807bbd0033a\n",
       "15           efs_mount_target_id                fsmt-082f9620b96bd76a3\n",
       "16  private_launch_template_name                          comp_clus_lt\n",
       "17            computing_instance                   i-0c197d81ed7f18ae4"
      ]
     },
     "execution_count": 78,
     "metadata": {},
     "output_type": "execute_result"
    }
   ],
   "source": [
    "read_db_results()"
   ]
  },
  {
   "cell_type": "code",
   "execution_count": 79,
   "metadata": {},
   "outputs": [
    {
     "name": "stdout",
     "output_type": "stream",
     "text": [
      "{'ResponseMetadata': {'RequestId': 'e9846b1f-fb60-4a30-a142-32148eff81f2', 'HTTPStatusCode': 200, 'HTTPHeaders': {'x-amzn-requestid': 'e9846b1f-fb60-4a30-a142-32148eff81f2', 'cache-control': 'no-cache, no-store', 'strict-transport-security': 'max-age=31536000; includeSubDomains', 'content-type': 'text/xml;charset=UTF-8', 'content-length': '330', 'date': 'Sun, 17 Dec 2023 21:33:26 GMT', 'server': 'AmazonEC2'}, 'RetryAttempts': 0}}\n"
     ]
    }
   ],
   "source": [
    "# https://boto3.amazonaws.com/v1/documentation/api/latest/reference/services/ec2/client/disassociate_route_table.html\n",
    "for i in range(len(response['RouteTables'])):\n",
    "    #print(response['RouteTables'][i]['Associations'][0]['RouteTableId'])\n",
    "    if response['RouteTables'][i]['Associations'][0]['RouteTableId'] == public_route_table:\n",
    "        rt_tble_assoc_tmp = response['RouteTables'][i]['Associations'][0]['RouteTableAssociationId']\n",
    "        resp = ec2.disassociate_route_table(DryRun=False, AssociationId=rt_tble_assoc_tmp)\n",
    "        print(resp)"
   ]
  },
  {
   "cell_type": "markdown",
   "metadata": {},
   "source": [
    "Next, I delete the public route table for the VPC since this is the only route table with an explicit association:"
   ]
  },
  {
   "cell_type": "code",
   "execution_count": 80,
   "metadata": {},
   "outputs": [
    {
     "data": {
      "text/plain": [
       "{'ResponseMetadata': {'RequestId': 'fbf53a88-ace1-434f-8f8a-9906bc857563',\n",
       "  'HTTPStatusCode': 200,\n",
       "  'HTTPHeaders': {'x-amzn-requestid': 'fbf53a88-ace1-434f-8f8a-9906bc857563',\n",
       "   'cache-control': 'no-cache, no-store',\n",
       "   'strict-transport-security': 'max-age=31536000; includeSubDomains',\n",
       "   'content-type': 'text/xml;charset=UTF-8',\n",
       "   'content-length': '233',\n",
       "   'date': 'Sun, 17 Dec 2023 21:33:30 GMT',\n",
       "   'server': 'AmazonEC2'},\n",
       "  'RetryAttempts': 0}}"
      ]
     },
     "execution_count": 80,
     "metadata": {},
     "output_type": "execute_result"
    }
   ],
   "source": [
    "# https://boto3.amazonaws.com/v1/documentation/api/latest/reference/services/ec2/client/delete_route_table.html\n",
    "response = ec2.delete_route_table(\n",
    "    DryRun=False,\n",
    "    RouteTableId=public_route_table\t\n",
    ")\n",
    "response"
   ]
  },
  {
   "cell_type": "markdown",
   "metadata": {},
   "source": [
    "The below will conditionally delete all of the subnets built for this project within the VPC for this project:"
   ]
  },
  {
   "cell_type": "code",
   "execution_count": 81,
   "metadata": {},
   "outputs": [
    {
     "data": {
      "text/plain": [
       "{'Subnets': [{'AvailabilityZone': 'us-east-1a',\n",
       "   'AvailabilityZoneId': 'use1-az4',\n",
       "   'AvailableIpAddressCount': 4091,\n",
       "   'CidrBlock': '172.31.16.0/20',\n",
       "   'DefaultForAz': True,\n",
       "   'MapPublicIpOnLaunch': True,\n",
       "   'MapCustomerOwnedIpOnLaunch': False,\n",
       "   'State': 'available',\n",
       "   'SubnetId': 'subnet-0766dbcad272e1fa7',\n",
       "   'VpcId': 'vpc-024db06ce583b88e9',\n",
       "   'OwnerId': '505296053618',\n",
       "   'AssignIpv6AddressOnCreation': False,\n",
       "   'Ipv6CidrBlockAssociationSet': [],\n",
       "   'Tags': [{'Key': 'Name', 'Value': 'Default_Subnet'}],\n",
       "   'SubnetArn': 'arn:aws:ec2:us-east-1:505296053618:subnet/subnet-0766dbcad272e1fa7',\n",
       "   'EnableDns64': False,\n",
       "   'Ipv6Native': False,\n",
       "   'PrivateDnsNameOptionsOnLaunch': {'HostnameType': 'ip-name',\n",
       "    'EnableResourceNameDnsARecord': False,\n",
       "    'EnableResourceNameDnsAAAARecord': False}},\n",
       "  {'AvailabilityZone': 'us-east-1a',\n",
       "   'AvailabilityZoneId': 'use1-az4',\n",
       "   'AvailableIpAddressCount': 251,\n",
       "   'CidrBlock': '10.0.1.0/24',\n",
       "   'DefaultForAz': False,\n",
       "   'MapPublicIpOnLaunch': False,\n",
       "   'MapCustomerOwnedIpOnLaunch': False,\n",
       "   'State': 'available',\n",
       "   'SubnetId': 'subnet-097eeb8c19ed55f79',\n",
       "   'VpcId': 'vpc-09227df9104712079',\n",
       "   'OwnerId': '505296053618',\n",
       "   'AssignIpv6AddressOnCreation': False,\n",
       "   'Ipv6CidrBlockAssociationSet': [],\n",
       "   'Tags': [{'Key': 'Name', 'Value': 'e90_final_public'}],\n",
       "   'SubnetArn': 'arn:aws:ec2:us-east-1:505296053618:subnet/subnet-097eeb8c19ed55f79',\n",
       "   'EnableDns64': False,\n",
       "   'Ipv6Native': False,\n",
       "   'PrivateDnsNameOptionsOnLaunch': {'HostnameType': 'ip-name',\n",
       "    'EnableResourceNameDnsARecord': False,\n",
       "    'EnableResourceNameDnsAAAARecord': False}},\n",
       "  {'AvailabilityZone': 'us-east-1b',\n",
       "   'AvailabilityZoneId': 'use1-az6',\n",
       "   'AvailableIpAddressCount': 251,\n",
       "   'CidrBlock': '10.0.2.0/24',\n",
       "   'DefaultForAz': False,\n",
       "   'MapPublicIpOnLaunch': False,\n",
       "   'MapCustomerOwnedIpOnLaunch': False,\n",
       "   'State': 'available',\n",
       "   'SubnetId': 'subnet-0cacf4f9a5a4c0f9c',\n",
       "   'VpcId': 'vpc-09227df9104712079',\n",
       "   'OwnerId': '505296053618',\n",
       "   'AssignIpv6AddressOnCreation': False,\n",
       "   'Ipv6CidrBlockAssociationSet': [],\n",
       "   'Tags': [{'Key': 'Name', 'Value': 'e90-fp-private'}],\n",
       "   'SubnetArn': 'arn:aws:ec2:us-east-1:505296053618:subnet/subnet-0cacf4f9a5a4c0f9c',\n",
       "   'EnableDns64': False,\n",
       "   'Ipv6Native': False,\n",
       "   'PrivateDnsNameOptionsOnLaunch': {'HostnameType': 'ip-name',\n",
       "    'EnableResourceNameDnsARecord': False,\n",
       "    'EnableResourceNameDnsAAAARecord': False}}],\n",
       " 'ResponseMetadata': {'RequestId': '317e9efe-bb2f-48f5-8b52-a7faa8c9ad6d',\n",
       "  'HTTPStatusCode': 200,\n",
       "  'HTTPHeaders': {'x-amzn-requestid': '317e9efe-bb2f-48f5-8b52-a7faa8c9ad6d',\n",
       "   'cache-control': 'no-cache, no-store',\n",
       "   'strict-transport-security': 'max-age=31536000; includeSubDomains',\n",
       "   'vary': 'accept-encoding',\n",
       "   'content-type': 'text/xml;charset=UTF-8',\n",
       "   'content-length': '4555',\n",
       "   'date': 'Sun, 17 Dec 2023 21:33:42 GMT',\n",
       "   'server': 'AmazonEC2'},\n",
       "  'RetryAttempts': 0}}"
      ]
     },
     "execution_count": 81,
     "metadata": {},
     "output_type": "execute_result"
    }
   ],
   "source": [
    "# https://boto3.amazonaws.com/v1/documentation/api/latest/reference/services/ec2/client/delete_subnet.html\n",
    "response = ec2.describe_subnets()\n",
    "for s_net in range(len(response['Subnets'])):\n",
    "    if response['Subnets'][s_net]['VpcId'] == VpcId:\n",
    "        sn_id = response['Subnets'][s_net]['SubnetId']\n",
    "        ec2.delete_subnet(SubnetId=sn_id)\n",
    "        \n",
    "response"
   ]
  },
  {
   "cell_type": "markdown",
   "metadata": {},
   "source": [
    "Last, I delete the VPC to conclude the teardown of the VPC centric part of the architecture:"
   ]
  },
  {
   "cell_type": "code",
   "execution_count": 82,
   "metadata": {},
   "outputs": [
    {
     "data": {
      "text/plain": [
       "{'ResponseMetadata': {'RequestId': 'f61adcef-23c9-45b3-9957-b28624673540',\n",
       "  'HTTPStatusCode': 200,\n",
       "  'HTTPHeaders': {'x-amzn-requestid': 'f61adcef-23c9-45b3-9957-b28624673540',\n",
       "   'cache-control': 'no-cache, no-store',\n",
       "   'strict-transport-security': 'max-age=31536000; includeSubDomains',\n",
       "   'content-type': 'text/xml;charset=UTF-8',\n",
       "   'content-length': '219',\n",
       "   'date': 'Sun, 17 Dec 2023 21:33:51 GMT',\n",
       "   'server': 'AmazonEC2'},\n",
       "  'RetryAttempts': 0}}"
      ]
     },
     "execution_count": 82,
     "metadata": {},
     "output_type": "execute_result"
    }
   ],
   "source": [
    "# https://boto3.amazonaws.com/v1/documentation/api/latest/reference/services/ec2/client/delete_vpc.html\n",
    "ec2.delete_vpc(VpcId=VpcId)"
   ]
  },
  {
   "cell_type": "markdown",
   "metadata": {},
   "source": [
    "Delete KMS encryption keys:"
   ]
  },
  {
   "cell_type": "code",
   "execution_count": 83,
   "metadata": {},
   "outputs": [
    {
     "data": {
      "text/plain": [
       "{'KeyId': 'arn:aws:kms:us-east-1:505296053618:key/mrk-f1c124f211fa4432a346cabf82e4a8c3',\n",
       " 'DeletionDate': datetime.datetime(2023, 12, 24, 16, 34, 12, 277000, tzinfo=tzlocal()),\n",
       " 'KeyState': 'PendingDeletion',\n",
       " 'PendingWindowInDays': 7,\n",
       " 'ResponseMetadata': {'RequestId': 'baebd5b2-b82b-4d62-b333-72260b36363d',\n",
       "  'HTTPStatusCode': 200,\n",
       "  'HTTPHeaders': {'x-amzn-requestid': 'baebd5b2-b82b-4d62-b333-72260b36363d',\n",
       "   'cache-control': 'no-cache, no-store, must-revalidate, private',\n",
       "   'expires': '0',\n",
       "   'pragma': 'no-cache',\n",
       "   'date': 'Sun, 17 Dec 2023 21:34:12 GMT',\n",
       "   'content-type': 'application/x-amz-json-1.1',\n",
       "   'content-length': '172',\n",
       "   'connection': 'keep-alive'},\n",
       "  'RetryAttempts': 0}}"
      ]
     },
     "execution_count": 83,
     "metadata": {},
     "output_type": "execute_result"
    }
   ],
   "source": [
    "# https://boto3.amazonaws.com/v1/documentation/api/latest/reference/services/kms/client/schedule_key_deletion.html#\n",
    "client = boto3.client(\"kms\")\n",
    "\n",
    "response = client.schedule_key_deletion(\n",
    "    KeyId=kms_key_id\n",
    ",\n",
    "PendingWindowInDays=7\n",
    ")\n",
    "response"
   ]
  },
  {
   "cell_type": "markdown",
   "metadata": {},
   "source": [
    "### Delete IAC database\n",
    "\n",
    "Since the IAC sqlite database used for this project no longer contains useful configuration references after the project is completed, I delete it below:"
   ]
  },
  {
   "cell_type": "code",
   "execution_count": 84,
   "metadata": {},
   "outputs": [],
   "source": [
    "import os\n",
    "os.remove('configs.db')"
   ]
  },
  {
   "cell_type": "markdown",
   "metadata": {},
   "source": [
    "# Print Report\n",
    "\n",
    "The terminus of a typical data science modeling project is to print a Jupyter notebook report out in a PDF to memorialize the results, as well as better ensure the reproducibilty of the entire process (typically be rerunning the workbook once more all the way through). In this case, the use of this typical method oriented towards scientific reproducibility of results from the data science community provides superior transparency and quality assurance for industrial infrastructure as code applications. Furthermore, unlike a typical code base, a Jupyter notebook is meant to be filled with text (via markdown) to provide the thought process of the author right along side the code, and the results of running that code in Jupyter notebook cells - which are persisted in this type of printout:"
   ]
  },
  {
   "cell_type": "code",
   "execution_count": 85,
   "metadata": {},
   "outputs": [
    {
     "data": {
      "text/plain": [
       "['Proposal.pdf',\n",
       " 'Final Project Assignment.pdf',\n",
       " '.~lock.Adam Brzozowski E90 Final Project.pptx#',\n",
       " 'CSCI E-90 Final Project.pdf',\n",
       " 'Adam Brzozowski E90 Final Project.pptx',\n",
       " 'generic_aws_cli_env.yml',\n",
       " 'aws_gui.png',\n",
       " 'CSCI E-90 Final Project.ipynb',\n",
       " 'junkyard.ipynb',\n",
       " 'CSCI E90 Final Project Proposal - Adam Brzozowski.docx']"
      ]
     },
     "execution_count": 85,
     "metadata": {},
     "output_type": "execute_result"
    }
   ],
   "source": [
    "import os\n",
    "os.listdir()"
   ]
  },
  {
   "cell_type": "markdown",
   "metadata": {},
   "source": [
    "Below are some Linux commands you may need to install the requisite libraries on your system. These are for debian based Linux distros but you can find more details for your respective operating system. Furthermore, if you are unsure how to get this to work, you can try running the nbconvert command and following the prompts to identify the missing dependencies -vpotentially easier than an open ended search. "
   ]
  },
  {
   "cell_type": "code",
   "execution_count": null,
   "metadata": {},
   "outputs": [],
   "source": [
    "!sudo apt-get install texlive"
   ]
  },
  {
   "cell_type": "code",
   "execution_count": null,
   "metadata": {},
   "outputs": [],
   "source": [
    "!sudo apt-get install pandoc"
   ]
  },
  {
   "cell_type": "code",
   "execution_count": null,
   "metadata": {},
   "outputs": [],
   "source": [
    "!sudo apt-get install texlive-xetex texlive-fonts-recommended texlive-plain-generic"
   ]
  },
  {
   "cell_type": "code",
   "execution_count": 86,
   "metadata": {},
   "outputs": [
    {
     "name": "stdout",
     "output_type": "stream",
     "text": [
      "[NbConvertApp] Converting notebook CSCI E-90 Final Project.ipynb to pdf\n",
      "[NbConvertApp] Support files will be in CSCI E-90 Final Project_files/\n",
      "[NbConvertApp] Making directory ./CSCI E-90 Final Project_files\n",
      "[NbConvertApp] Writing 216199 bytes to notebook.tex\n",
      "[NbConvertApp] Building PDF\n",
      "[NbConvertApp] Running xelatex 3 times: ['xelatex', 'notebook.tex', '-quiet']\n",
      "[NbConvertApp] Running bibtex 1 time: ['bibtex', 'notebook']\n",
      "[NbConvertApp] WARNING | bibtex had problems, most likely because there were no citations\n",
      "[NbConvertApp] PDF successfully created\n",
      "[NbConvertApp] Writing 478468 bytes to CSCI E-90 Final Project.pdf\n"
     ]
    }
   ],
   "source": [
    "!jupyter nbconvert 'CSCI E-90 Final Project.ipynb' --to pdf"
   ]
  },
  {
   "cell_type": "markdown",
   "metadata": {},
   "source": [
    "# Future work\n",
    "\n",
    "The approach of creating a data scientist friendly, repeatable way of calling up and tearing down useful data science infrastructure on the AWS cloud shows data scientists that infrastructure can be treated as a programming task along with modeling and data analysis. A typical data scientist will develop their own patterns for doing data science to increase the speed and effectiveness of doing their job. With the completion of this project, I have built a repeatable way to deploy a secure private cloud for performing data science tasks. There are a few obvious avenues through which I can build on this for future work;\n",
    "\n",
    "(1) Develop a refactored methodology that abstracts this entire process into something more like the CDK - except with customized Python classes and methods that provide templates that precisely match my typical use cases. Even if the end product doesn't exactly match everyone else's use cases, this work may serve as a useful model for curriculuar oriented materials in training programs. Right now, a big barrier to an IAC first approach is the perceived difficulty (despite being easier) because this approach involves code. Demonstrating how easy this is, and how much less time and effort it takes, can be further enhanced with dedicated training materials;\n",
    "\n",
    "(2) Develop an accompanying refactored Jupyter notebook that thoroughly explains all of the custom developed AWS SDK classes as part of a holistic effort to build up a GitHub repository and possibly a PyPi / Anaconda library to support ease of use for others;\n",
    "\n",
    "(3) Continue to develop use cases and requirements through engagement within the healthcare and other sectors in pursuit of greater programmatic abstraction around pattern use cases;\n",
    "\n",
    "(4) Showcase and highlight seamless use of the cloud in more data science contexts to continue to socialize the idea that data scientists should backward integrate with infrastructure and security teams by leveraging meaningful programming expertise in conjunction with skils training in these areas;\n",
    "\n",
    "(5) Develop and incorporate ways to effectively evaluate each pattern scenario systematically with automated security analysis for rapid commissioning"
   ]
  },
  {
   "cell_type": "markdown",
   "metadata": {},
   "source": [
    "# References\n",
    "\n",
    "In order to make use of the capabilities of a fully functional IDE, while simultaneously having all of the advantages of the cloud, it's necessary to connect via SSH to the ec2 computing cluster from Visual Studio. This demo shows how that can be accomplished:\n",
    "https://medium.com/@christyjacob4/using-vscode-remotely-on-an-ec2-instance-7822c4032cff\n",
    "\n",
    "\n",
    "This next demo shows how to connect from a bastion instance to a private instance after setting up an environment using a Terraform script:\n",
    "https://towardsdatascience.com/connecting-to-an-ec2-instance-in-a-private-subnet-on-aws-38a3b86f58fb\n",
    "\n",
    "\n",
    "[\"Werner Vogels on the AWS Cloud Development Kit (AWS CDK)\"](https://www.youtube.com/embed/AYYTrDaEwLs)\n",
    "\n",
    "One of the key inspirations for this notebook is this talk by Werner Vogels - CTO of Amazon Web Services (AWS). In the talk, he provides a compelling vision of how infrastructure as code needed to grow beyond declarative syntaxes like yaml into libraries for core programming languages - thereby providing typical control flow type functionality for deploying infrastructure."
   ]
  },
  {
   "cell_type": "code",
   "execution_count": null,
   "metadata": {},
   "outputs": [
    {
     "data": {
      "text/html": [
       "\"<iframe width=\"400\" height=\"250\" src=\"https://www.youtube.com/embed/AYYTrDaEwLs\" title=\"Werner Vogels on the AWS Cloud Development Kit (AWS CDK)\" frameborder=\"0\" allow=\"accelerometer; autoplay; clipboard-write; encrypted-media; gyroscope; picture-in-picture; web-share\" allowfullscreen></iframe>\""
      ],
      "text/plain": [
       "<IPython.core.display.HTML object>"
      ]
     },
     "execution_count": 24,
     "metadata": {},
     "output_type": "execute_result"
    }
   ],
   "source": [
    "display.HTML('\"<iframe width=\"400\" height=\"250\" src=\"https://www.youtube.com/embed/AYYTrDaEwLs\" title=\"Werner Vogels on the AWS Cloud Development Kit (AWS CDK)\" frameborder=\"0\" allow=\"accelerometer; autoplay; clipboard-write; encrypted-media; gyroscope; picture-in-picture; web-share\" allowfullscreen></iframe>\"')"
   ]
  },
  {
   "cell_type": "markdown",
   "metadata": {},
   "source": [
    "Additionally, I found this [example](https://www.youtube.com/watch?v=lOH4YnaVyvA) - which makes use of a higher level framework called the AWS CDK - inspiring and compelling for a future in which data scientists roll their own infrastructure as well:"
   ]
  },
  {
   "cell_type": "code",
   "execution_count": 67,
   "metadata": {},
   "outputs": [
    {
     "name": "stderr",
     "output_type": "stream",
     "text": [
      "/home/adam/anaconda3/envs/generic_aws_cli_env/lib/python3.12/site-packages/IPython/core/display.py:431: UserWarning: Consider using IPython.display.IFrame instead\n",
      "  warnings.warn(\"Consider using IPython.display.IFrame instead\")\n"
     ]
    },
    {
     "data": {
      "text/html": [
       "<iframe width=\"400\" height=\"250\" src=\"https://www.youtube.com/embed/lOH4YnaVyvA\" title=\"CSCIE-90 AWS-CDK Short Presentation\" frameborder=\"0\" allow=\"accelerometer; autoplay; clipboard-write; encrypted-media; gyroscope; picture-in-picture; web-share\" allowfullscreen></iframe>"
      ],
      "text/plain": [
       "<IPython.core.display.HTML object>"
      ]
     },
     "execution_count": 67,
     "metadata": {},
     "output_type": "execute_result"
    }
   ],
   "source": [
    "display.HTML('<iframe width=\"400\" height=\"250\" src=\"https://www.youtube.com/embed/lOH4YnaVyvA\" title=\"CSCIE-90 AWS-CDK Short Presentation\" frameborder=\"0\" allow=\"accelerometer; autoplay; clipboard-write; encrypted-media; gyroscope; picture-in-picture; web-share\" allowfullscreen></iframe>')"
   ]
  },
  {
   "cell_type": "markdown",
   "metadata": {},
   "source": [
    "*AWS whitepaper on HIPPA / HITECH architecture:*\n",
    "\n",
    "Amazon Web Services has a [whitepaper](https://docs.aws.amazon.com/pdfs/whitepapers/latest/architecting-hipaa-security-and-compliance-on-aws/architecting-hipaa-security-and-compliance-on-aws.pdf) on the topic of architecting HIPAA compliance."
   ]
  },
  {
   "cell_type": "markdown",
   "metadata": {},
   "source": [
    "\"Advanced\" Sagemaker notebook demo - which turns out to be ec2 plus a few more handy features:\n",
    "https://youtu.be/X5CLunIzj3U"
   ]
  },
  {
   "cell_type": "code",
   "execution_count": null,
   "metadata": {},
   "outputs": [],
   "source": []
  }
 ],
 "metadata": {
  "kernelspec": {
   "display_name": "generic_python_311",
   "language": "python",
   "name": "python3"
  },
  "language_info": {
   "codemirror_mode": {
    "name": "ipython",
    "version": 3
   },
   "file_extension": ".py",
   "mimetype": "text/x-python",
   "name": "python",
   "nbconvert_exporter": "python",
   "pygments_lexer": "ipython3",
   "version": "3.12.0"
  }
 },
 "nbformat": 4,
 "nbformat_minor": 2
}
