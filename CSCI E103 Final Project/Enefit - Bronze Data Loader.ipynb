{
 "cells": [
  {
   "cell_type": "markdown",
   "metadata": {
    "application/vnd.databricks.v1+cell": {
     "cellMetadata": {
      "byteLimit": 2048000,
      "rowLimit": 10000
     },
     "inputWidgets": {},
     "nuid": "75125a44-4848-4c0f-99bc-7271c6fd874a",
     "showTitle": false,
     "title": ""
    }
   },
   "source": [
    "\n",
    "\n",
    "\n",
    "\n",
    "%md\n",
    "\n",
    "### <img style=\"float: left; padding-right: 10px; width: 45px\" src=\"https://upload.wikimedia.org/wikipedia/en/8/89/ExtensionFlag.png\"> CSCI E-103 Data Engineering for Analytics to Solve Business Challenges\n",
    "\n",
    "# Final Project | Group 6 | Energy Prediction Dataset\n",
    "\n",
    "**Student Name: Adam Brzozowski, Sam Ippisch, Stefan Mcneil, Gordon Hew, Brandon Hong, Noura Almansoori**\n",
    "\n",
    "**Harvard University**<br/>\n",
    "**Fall 2023**<br/>\n",
    "**Instructors**: Eric Gieseke ALM, Chief Executive Officer and Founder, Pago Capital | Anindita Mahapatra ALM, Solutions Architect, Databricks\\\n",
    "**Teaching Fellows** Ramdas Murali | Sriharsha Tikkireddy\n",
    "\n",
    "\n",
    "<hr style=\"height:2pt\">\n",
    "\n",
    "#### Bronze Data Loader"
   ]
  },
  {
   "cell_type": "markdown",
   "metadata": {
    "application/vnd.databricks.v1+cell": {
     "cellMetadata": {
      "byteLimit": 2048000,
      "rowLimit": 10000
     },
     "inputWidgets": {},
     "nuid": "de1fc5d9-535c-457a-8e00-4970bbeb08cb",
     "showTitle": false,
     "title": ""
    }
   },
   "source": [
    "\n",
    "## Summary\n",
    "\n",
    "This job scans through the Enefit data directory for CSV files and loads them into a corresponding bronze table"
   ]
  },
  {
   "cell_type": "code",
   "execution_count": 0,
   "metadata": {
    "application/vnd.databricks.v1+cell": {
     "cellMetadata": {
      "byteLimit": 2048000,
      "rowLimit": 10000
     },
     "inputWidgets": {},
     "nuid": "29c48318-9146-402f-9df7-e7f05fe031ff",
     "showTitle": false,
     "title": ""
    }
   },
   "outputs": [],
   "source": [
    "import re\n",
    "import json, pprint\n",
    "\n",
    "from pyspark.sql import functions as F\n",
    "from pyspark.sql.types import StringType"
   ]
  },
  {
   "cell_type": "code",
   "execution_count": 0,
   "metadata": {
    "application/vnd.databricks.v1+cell": {
     "cellMetadata": {
      "byteLimit": 2048000,
      "rowLimit": 10000
     },
     "inputWidgets": {},
     "nuid": "0f8edbe1-d830-46ba-bc2f-3875f1cc12ea",
     "showTitle": false,
     "title": ""
    }
   },
   "outputs": [],
   "source": [
    "dbutils.widgets.removeAll()\n",
    "\n",
    "dbutils.widgets.text(\"schema\", \"fa2023_group06_enefit_train\")\n",
    "dbutils.widgets.text(\"data_block_ids_to_load\", \"400\")\n",
    "dbutils.widgets.dropdown(\"dataset\", \"train\", [\"train\", \"test\"])\n",
    "dbutils.widgets.text(\"data_files_path\", \"/mnt/data/2023-kaggle-final/energy-prediction/\")"
   ]
  },
  {
   "cell_type": "code",
   "execution_count": 0,
   "metadata": {
    "application/vnd.databricks.v1+cell": {
     "cellMetadata": {
      "byteLimit": 2048000,
      "rowLimit": 10000
     },
     "inputWidgets": {},
     "nuid": "32760ad7-535b-4c49-a8c5-1b5a4168e289",
     "showTitle": false,
     "title": ""
    }
   },
   "outputs": [],
   "source": [
    "databaseName = dbutils.widgets.get(\"schema\")\n",
    "raw_data_path = dbutils.widgets.get(\"data_files_path\")\n",
    "dataset = dbutils.widgets.get(\"dataset\")"
   ]
  },
  {
   "cell_type": "code",
   "execution_count": 0,
   "metadata": {
    "application/vnd.databricks.v1+cell": {
     "cellMetadata": {
      "byteLimit": 2048000,
      "rowLimit": 10000
     },
     "inputWidgets": {},
     "nuid": "bce055e2-13d2-41cb-8648-4cbbfd7edd33",
     "showTitle": false,
     "title": ""
    }
   },
   "outputs": [
    {
     "output_type": "stream",
     "name": "stdout",
     "output_type": "stream",
     "text": [
      "databaseName fa2023_group06_enefit_train_ghew\nUserDir /Users/gordonhew@gmail.com/data\nuserName gordonhew@gmail.com\n"
     ]
    }
   ],
   "source": [
    "userName = spark.sql(\"SELECT CURRENT_USER\").collect()[0]['current_user()']\n",
    "userName0 = userName.split(\"@\")[0]\n",
    "userName0 = re.sub('[!#$%&\\'*+-/=?^`{}|\\.]+', '_', userName0)\n",
    "userName1 = userName.split(\"@\")[1]\n",
    "userName = f'{userName0}@{userName1}'\n",
    "dbutils.fs.mkdirs(f\"/Users/{userName}/data\")\n",
    "userDir = f\"/Users/{userName}/data\"\n",
    "\n",
    "dataStore = \"/FileStore/group_06/\" + databaseName\n",
    "\n",
    "job_run_dict = json.loads(dbutils.notebook.entry_point.getDbutils().notebook().getContext().toJson())\n",
    "run_id = job_run_dict['currentRunId']\n",
    "\n",
    "if run_id is not None:\n",
    "  run_id = run_id['id']\n",
    "\n",
    "job_group = job_run_dict['jobGroup']\n",
    "\n",
    "print('databaseName ' + databaseName)\n",
    "print('UserDir ' + userDir)\n",
    "print('userName '+ userName)"
   ]
  },
  {
   "cell_type": "code",
   "execution_count": 0,
   "metadata": {
    "application/vnd.databricks.v1+cell": {
     "cellMetadata": {
      "byteLimit": 2048000,
      "rowLimit": 10000
     },
     "inputWidgets": {},
     "nuid": "4449d2ab-da36-4c66-8dd9-96b67aaecdec",
     "showTitle": false,
     "title": ""
    }
   },
   "outputs": [
    {
     "output_type": "stream",
     "name": "stdout",
     "output_type": "stream",
     "text": [
      "using database fa2023_group06_enefit_train_ghew\n"
     ]
    }
   ],
   "source": [
    "spark.sql(f\"CREATE DATABASE IF NOT EXISTS {databaseName}\")\n",
    "spark.sql(f\"use {databaseName}\")\n",
    "print('using database', databaseName)"
   ]
  },
  {
   "cell_type": "code",
   "execution_count": 0,
   "metadata": {
    "application/vnd.databricks.v1+cell": {
     "cellMetadata": {
      "byteLimit": 2048000,
      "implicitDf": true,
      "rowLimit": 10000
     },
     "inputWidgets": {},
     "nuid": "2a20d586-f865-4214-bb5b-ce0f517544bb",
     "showTitle": false,
     "title": ""
    }
   },
   "outputs": [
    {
     "output_type": "display_data",
     "data": {
      "text/html": [
       "<style scoped>\n",
       "  .table-result-container {\n",
       "    max-height: 300px;\n",
       "    overflow: auto;\n",
       "  }\n",
       "  table, th, td {\n",
       "    border: 1px solid black;\n",
       "    border-collapse: collapse;\n",
       "  }\n",
       "  th, td {\n",
       "    padding: 5px;\n",
       "  }\n",
       "  th {\n",
       "    text-align: left;\n",
       "  }\n",
       "</style><div class='table-result-container'><table class='table-result'><thead style='background-color: white'><tr></tr></thead><tbody></tbody></table></div>"
      ]
     },
     "metadata": {
      "application/vnd.databricks.v1+output": {
       "addedWidgets": {},
       "aggData": [],
       "aggError": "",
       "aggOverflow": false,
       "aggSchema": [],
       "aggSeriesLimitReached": false,
       "aggType": "",
       "arguments": {},
       "columnCustomDisplayInfos": {},
       "data": [],
       "datasetInfos": [],
       "dbfsResultPath": null,
       "isJsonSchema": true,
       "metadata": {
        "dataframeName": null
       },
       "overflow": false,
       "plotOptions": {
        "customPlotOptions": {},
        "displayType": "table",
        "pivotAggregation": null,
        "pivotColumns": null,
        "xColumns": null,
        "yColumns": null
       },
       "removedWidgets": [],
       "schema": [],
       "type": "table"
      }
     },
     "output_type": "display_data"
    }
   ],
   "source": [
    "%sql\n",
    "\n",
    "CREATE TABLE IF NOT EXISTS bronze_loading_checkpoint (\n",
    "  DATA_BLOCK_ID INT NOT NULL,\n",
    "  LOAD_TIMESTAMP TIMESTAMP NOT NULL\n",
    ");"
   ]
  },
  {
   "cell_type": "code",
   "execution_count": 0,
   "metadata": {
    "application/vnd.databricks.v1+cell": {
     "cellMetadata": {
      "byteLimit": 2048000,
      "rowLimit": 10000
     },
     "inputWidgets": {},
     "nuid": "da3a1555-f2ed-48be-972f-4644dce86024",
     "showTitle": false,
     "title": ""
    }
   },
   "outputs": [
    {
     "output_type": "stream",
     "name": "stdout",
     "output_type": "stream",
     "text": [
      "Last loaded block data id into bronze tables 0\nLoading up to data block id 100\n"
     ]
    }
   ],
   "source": [
    "\n",
    "blocks_to_load = int(dbutils.widgets.get(\"data_block_ids_to_load\"))\n",
    "\n",
    "bronze_loading_checkpoint = spark.sql(\"SELECT data_block_id FROM bronze_loading_checkpoint\").take(1)\n",
    "\n",
    "if len(bronze_loading_checkpoint) == 0:\n",
    "  last_loaded_block = 0\n",
    "else:\n",
    "  last_loaded_block = bronze_loading_checkpoint[0].data_block_id\n",
    "\n",
    "print('Last loaded block data id into bronze tables', last_loaded_block)\n",
    "\n",
    "max_data_block_id = last_loaded_block + blocks_to_load\n",
    "print('Loading up to data block id', max_data_block_id)"
   ]
  },
  {
   "cell_type": "code",
   "execution_count": 0,
   "metadata": {
    "application/vnd.databricks.v1+cell": {
     "cellMetadata": {
      "byteLimit": 2048000,
      "rowLimit": 10000
     },
     "inputWidgets": {},
     "nuid": "39a0630d-4f89-4693-a7dc-72d2569c310d",
     "showTitle": false,
     "title": ""
    }
   },
   "outputs": [],
   "source": [
    "def create_bronze_tables(data_path, last_loaded_block_id, max_data_block_id):\n",
    "  files = dbutils.fs.ls(data_path)\n",
    "\n",
    "  csv_ext = '.csv'\n",
    "\n",
    "  max_loaded_data_block_id = last_loaded_block_id\n",
    "\n",
    "  for file in files:\n",
    "    if (file.name[len(file.name) - len(csv_ext):] == csv_ext):\n",
    "      print('reading file', file.name)\n",
    "\n",
    "      table_name = 'bronze_' + file.name[:len(file.name) - len(csv_ext)]\n",
    "      data_df = spark.read.format(\"csv\").load(file.path, header=True, inferSchema=True)\n",
    "\n",
    "      data_df = data_df.withColumn(\"file_path\", F.lit(file.path)) \\\n",
    "        .withColumn(\"file_name\", F.lit(file.name)) \\\n",
    "        .withColumn(\"file_size\", F.lit(file.size)) \\\n",
    "        .withColumn(\"file_modification_time\", F.lit(file.modificationTime)) \\\n",
    "        .withColumn(\"run_id\", F.lit(run_id).cast(StringType())) \\\n",
    "        .withColumn(\"job_group\", F.lit(job_group)) \\\n",
    "        .withColumn(\"process_timestamp\", F.current_timestamp())\n",
    "\n",
    "      if 'data_block_id' in data_df.columns and max_data_block_id > 0:\n",
    "        data_df = data_df.filter((data_df.data_block_id < max_data_block_id) & (data_df.data_block_id > last_loaded_block_id))\n",
    "\n",
    "\n",
    "        # assumes last loaded is the highest\n",
    "        if len(data_df.tail(1)) > 0:\n",
    "          last_loaded_data_block_id = data_df.tail(1)[0].data_block_id        \n",
    "          max_loaded_data_block_id = last_loaded_data_block_id if last_loaded_data_block_id > max_loaded_data_block_id else max_loaded_data_block_id\n",
    "          \n",
    "          data_df.write.mode('append') \\\n",
    "            .partitionBy(\"data_block_id\") \\\n",
    "            .saveAsTable(table_name)\n",
    "\n",
    "          print('saving', table_name)\n",
    "        else:\n",
    "          print('no new data to load from', file.name)\n",
    "      else:\n",
    "        # reference tables \n",
    "        data_df.write.mode('overwrite').saveAsTable(table_name)\n",
    "        print('saving', table_name)\n",
    "        \n",
    "  spark.sql(\"INSERT OVERWRITE bronze_loading_checkpoint VALUES (\" + str(max_loaded_data_block_id) + \", CURRENT_TIMESTAMP())\")"
   ]
  },
  {
   "cell_type": "code",
   "execution_count": 0,
   "metadata": {
    "application/vnd.databricks.v1+cell": {
     "cellMetadata": {
      "byteLimit": 2048000,
      "rowLimit": 10000
     },
     "inputWidgets": {},
     "nuid": "b02c004b-9295-403d-ad79-2d19bddb6016",
     "showTitle": false,
     "title": ""
    }
   },
   "outputs": [
    {
     "output_type": "stream",
     "name": "stdout",
     "output_type": "stream",
     "text": [
      "saving bronze_client\nsaving bronze_electricity_prices\nsaving bronze_forecast_weather\nsaving bronze_gas_prices\nsaving bronze_historical_weather\nsaving bronze_train\nsaving bronze_weather_station_to_county_mapping\n"
     ]
    }
   ],
   "source": [
    "create_bronze_tables(raw_data_path, last_loaded_block, max_data_block_id)"
   ]
  },
  {
   "cell_type": "code",
   "execution_count": 0,
   "metadata": {
    "application/vnd.databricks.v1+cell": {
     "cellMetadata": {
      "byteLimit": 2048000,
      "implicitDf": true,
      "rowLimit": 10000
     },
     "inputWidgets": {},
     "nuid": "4ef75c03-13d9-480a-be66-920379f0bfe6",
     "showTitle": false,
     "title": ""
    }
   },
   "outputs": [
    {
     "output_type": "display_data",
     "data": {
      "text/html": [
       "<style scoped>\n",
       "  .table-result-container {\n",
       "    max-height: 300px;\n",
       "    overflow: auto;\n",
       "  }\n",
       "  table, th, td {\n",
       "    border: 1px solid black;\n",
       "    border-collapse: collapse;\n",
       "  }\n",
       "  th, td {\n",
       "    padding: 5px;\n",
       "  }\n",
       "  th {\n",
       "    text-align: left;\n",
       "  }\n",
       "</style><div class='table-result-container'><table class='table-result'><thead style='background-color: white'><tr><th>DATA_BLOCK_ID</th><th>LOAD_TIMESTAMP</th></tr></thead><tbody><tr><td>99</td><td>2023-12-08T04:18:11.105Z</td></tr></tbody></table></div>"
      ]
     },
     "metadata": {
      "application/vnd.databricks.v1+output": {
       "addedWidgets": {},
       "aggData": [],
       "aggError": "",
       "aggOverflow": false,
       "aggSchema": [],
       "aggSeriesLimitReached": false,
       "aggType": "",
       "arguments": {},
       "columnCustomDisplayInfos": {},
       "data": [
        [
         99,
         "2023-12-08T04:18:11.105Z"
        ]
       ],
       "datasetInfos": [],
       "dbfsResultPath": null,
       "isJsonSchema": true,
       "metadata": {
        "dataframeName": "_sqldf",
        "executionCount": 9
       },
       "overflow": false,
       "plotOptions": {
        "customPlotOptions": {},
        "displayType": "table",
        "pivotAggregation": null,
        "pivotColumns": null,
        "xColumns": null,
        "yColumns": null
       },
       "removedWidgets": [],
       "schema": [
        {
         "metadata": "{}",
         "name": "DATA_BLOCK_ID",
         "type": "\"integer\""
        },
        {
         "metadata": "{}",
         "name": "LOAD_TIMESTAMP",
         "type": "\"timestamp\""
        }
       ],
       "type": "table"
      }
     },
     "output_type": "display_data"
    }
   ],
   "source": [
    "%sql\n",
    "SELECT * FROM bronze_loading_checkpoint"
   ]
  }
 ],
 "metadata": {
  "application/vnd.databricks.v1+notebook": {
   "dashboards": [],
   "language": "python",
   "notebookMetadata": {
    "mostRecentlyExecutedCommandWithImplicitDF": {
     "commandId": 1179881668951994,
     "dataframes": [
      "_sqldf"
     ]
    },
    "pythonIndentUnit": 2,
    "widgetLayout": []
   },
   "notebookName": "Enefit - Bronze Data Loader",
   "widgets": {
    "data_block_ids_to_load": {
     "currentValue": "100",
     "nuid": "c031ffec-a625-4918-93be-fc3d0e70f5c2",
     "widgetInfo": {
      "widgetType": "text",
      "defaultValue": "400",
      "label": null,
      "name": "data_block_ids_to_load",
      "options": {
       "widgetType": "text",
       "autoCreated": null,
       "validationRegex": null
      }
     }
    },
    "data_files_path": {
     "currentValue": "/mnt/data/2023-kaggle-final/energy-prediction/",
     "nuid": "2c0926eb-a809-45c7-b936-3b2a5c620882",
     "widgetInfo": {
      "widgetType": "text",
      "defaultValue": "/mnt/data/2023-kaggle-final/energy-prediction/",
      "label": null,
      "name": "data_files_path",
      "options": {
       "widgetType": "text",
       "autoCreated": null,
       "validationRegex": null
      }
     }
    },
    "dataset": {
     "currentValue": "train",
     "nuid": "c8107659-b0cf-442a-90e9-e560f8cc8f79",
     "widgetInfo": {
      "widgetType": "dropdown",
      "defaultValue": "train",
      "label": null,
      "name": "dataset",
      "options": {
       "widgetType": "dropdown",
       "autoCreated": null,
       "choices": [
        "train",
        "test"
       ]
      }
     }
    },
    "schema": {
     "currentValue": "fa2023_group06_enefit_train_ghew",
     "nuid": "15c693b3-9d23-47bb-a9f2-6e7d68a16577",
     "widgetInfo": {
      "widgetType": "text",
      "defaultValue": "fa2023_group06_enefit_train",
      "label": null,
      "name": "schema",
      "options": {
       "widgetType": "text",
       "autoCreated": null,
       "validationRegex": null
      }
     }
    }
   }
  }
 },
 "nbformat": 4,
 "nbformat_minor": 0
}
