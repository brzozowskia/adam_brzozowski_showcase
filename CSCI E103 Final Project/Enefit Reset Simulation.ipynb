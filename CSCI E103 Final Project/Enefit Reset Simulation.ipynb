{
 "cells": [
  {
   "cell_type": "code",
   "execution_count": 0,
   "metadata": {
    "application/vnd.databricks.v1+cell": {
     "cellMetadata": {
      "byteLimit": 2048000,
      "rowLimit": 10000
     },
     "inputWidgets": {},
     "nuid": "11b8a714-c4da-418d-8664-8a4592ba0cb4",
     "showTitle": false,
     "title": ""
    }
   },
   "outputs": [],
   "source": [
    "import re"
   ]
  },
  {
   "cell_type": "code",
   "execution_count": 0,
   "metadata": {
    "application/vnd.databricks.v1+cell": {
     "cellMetadata": {
      "byteLimit": 2048000,
      "rowLimit": 10000
     },
     "inputWidgets": {},
     "nuid": "3f1cadff-c926-4e5f-94c7-4e7071cb95ec",
     "showTitle": false,
     "title": ""
    }
   },
   "outputs": [],
   "source": [
    "dbutils.widgets.removeAll()\n",
    "\n",
    "dbutils.widgets.text(\"train_schema\", \"fa2023_group06_enefit_train\")\n",
    "dbutils.widgets.text(\"test_schema\", \"fa2023_group06_enefit_test\")"
   ]
  },
  {
   "cell_type": "code",
   "execution_count": 0,
   "metadata": {
    "application/vnd.databricks.v1+cell": {
     "cellMetadata": {
      "byteLimit": 2048000,
      "rowLimit": 10000
     },
     "inputWidgets": {},
     "nuid": "01bc49f0-f704-447b-92c1-62f952ada1fa",
     "showTitle": false,
     "title": ""
    }
   },
   "outputs": [
    {
     "output_type": "stream",
     "name": "stdout",
     "output_type": "stream",
     "text": [
      "using database fa2023_group06_enefit_train_ghew\n"
     ]
    }
   ],
   "source": [
    "train_schema = dbutils.widgets.get(\"train_schema\")\n",
    "spark.sql(f\"use {train_schema}\")\n",
    "print('using database', train_schema)"
   ]
  },
  {
   "cell_type": "code",
   "execution_count": 0,
   "metadata": {
    "application/vnd.databricks.v1+cell": {
     "cellMetadata": {
      "byteLimit": 2048000,
      "implicitDf": true,
      "rowLimit": 10000
     },
     "inputWidgets": {},
     "nuid": "50c5ea7e-a23f-47c4-bfb1-489c0be40fbf",
     "showTitle": false,
     "title": ""
    }
   },
   "outputs": [
    {
     "output_type": "display_data",
     "data": {
      "text/html": [
       "<style scoped>\n",
       "  .table-result-container {\n",
       "    max-height: 300px;\n",
       "    overflow: auto;\n",
       "  }\n",
       "  table, th, td {\n",
       "    border: 1px solid black;\n",
       "    border-collapse: collapse;\n",
       "  }\n",
       "  th, td {\n",
       "    padding: 5px;\n",
       "  }\n",
       "  th {\n",
       "    text-align: left;\n",
       "  }\n",
       "</style><div class='table-result-container'><table class='table-result'><thead style='background-color: white'><tr></tr></thead><tbody></tbody></table></div>"
      ]
     },
     "metadata": {
      "application/vnd.databricks.v1+output": {
       "addedWidgets": {},
       "aggData": [],
       "aggError": "",
       "aggOverflow": false,
       "aggSchema": [],
       "aggSeriesLimitReached": false,
       "aggType": "",
       "arguments": {},
       "columnCustomDisplayInfos": {},
       "data": [],
       "datasetInfos": [],
       "dbfsResultPath": null,
       "isJsonSchema": true,
       "metadata": {
        "dataframeName": null
       },
       "overflow": false,
       "plotOptions": {
        "customPlotOptions": {},
        "displayType": "table",
        "pivotAggregation": null,
        "pivotColumns": null,
        "xColumns": null,
        "yColumns": null
       },
       "removedWidgets": [],
       "schema": [],
       "type": "table"
      }
     },
     "output_type": "display_data"
    }
   ],
   "source": [
    "%sql\n",
    "DROP TABLE IF EXISTS gold_all_features;\n",
    "DROP TABLE IF EXISTS gold_consumption_production_aggregate;\n",
    "DROP TABLE IF EXISTS gold_electricity_aggregate;\n",
    "DROP TABLE IF EXISTS gold_gas_prices_aggregate;\n",
    "DROP TABLE IF EXISTS gold_energy_prices_aggregate;\n",
    "DROP TABLE IF EXISTS gold_train;\n",
    "\n",
    "DROP TABLE IF EXISTS silver_client;\n",
    "DROP TABLE IF EXISTS silver_electricity_prices;\n",
    "DROP TABLE IF EXISTS silver_forecast_weather;\n",
    "DROP TABLE IF EXISTS silver_gas_prices;\n",
    "DROP TABLE IF EXISTS silver_historical_weather;\n",
    "DROP TABLE IF EXISTS silver_loading_checkpoint;\n",
    "DROP TABLE IF EXISTS silver_train;\n",
    "DROP TABLE IF EXISTS silver_weather_station_to_county_mapping;\n",
    "\n",
    "DROP TABLE IF EXISTS bronze_client;\n",
    "DROP TABLE IF EXISTS bronze_electricity_prices;\n",
    "DROP TABLE IF EXISTS bronze_forecast_weather;\n",
    "DROP TABLE IF EXISTS bronze_gas_prices;\n",
    "DROP TABLE IF EXISTS bronze_historical_weather;\n",
    "DROP TABLE IF EXISTS bronze_loading_checkpoint;\n",
    "DROP TABLE IF EXISTS bronze_train;\n",
    "DROP TABLE IF EXISTS bronze_weather_station_to_county_mapping;"
   ]
  },
  {
   "cell_type": "code",
   "execution_count": 0,
   "metadata": {
    "application/vnd.databricks.v1+cell": {
     "cellMetadata": {
      "byteLimit": 2048000,
      "implicitDf": true,
      "rowLimit": 10000
     },
     "inputWidgets": {},
     "nuid": "5ae41e44-dc45-445e-bd99-eae7f3900ccd",
     "showTitle": false,
     "title": ""
    }
   },
   "outputs": [
    {
     "output_type": "stream",
     "name": "stdout",
     "output_type": "stream",
     "text": [
      "using database fa2023_group06_enefit_test_ghew\n"
     ]
    }
   ],
   "source": [
    "test_schema = dbutils.widgets.get(\"test_schema\")\n",
    "spark.sql(f\"use {test_schema}\")\n",
    "print('using database', test_schema)"
   ]
  },
  {
   "cell_type": "code",
   "execution_count": 0,
   "metadata": {
    "application/vnd.databricks.v1+cell": {
     "cellMetadata": {
      "byteLimit": 2048000,
      "implicitDf": true,
      "rowLimit": 10000
     },
     "inputWidgets": {},
     "nuid": "4c7f95e1-5131-485d-9464-524041ac1c0d",
     "showTitle": false,
     "title": ""
    }
   },
   "outputs": [
    {
     "output_type": "display_data",
     "data": {
      "text/html": [
       "<style scoped>\n",
       "  .table-result-container {\n",
       "    max-height: 300px;\n",
       "    overflow: auto;\n",
       "  }\n",
       "  table, th, td {\n",
       "    border: 1px solid black;\n",
       "    border-collapse: collapse;\n",
       "  }\n",
       "  th, td {\n",
       "    padding: 5px;\n",
       "  }\n",
       "  th {\n",
       "    text-align: left;\n",
       "  }\n",
       "</style><div class='table-result-container'><table class='table-result'><thead style='background-color: white'><tr></tr></thead><tbody></tbody></table></div>"
      ]
     },
     "metadata": {
      "application/vnd.databricks.v1+output": {
       "addedWidgets": {},
       "aggData": [],
       "aggError": "",
       "aggOverflow": false,
       "aggSchema": [],
       "aggSeriesLimitReached": false,
       "aggType": "",
       "arguments": {},
       "columnCustomDisplayInfos": {},
       "data": [],
       "datasetInfos": [],
       "dbfsResultPath": null,
       "isJsonSchema": true,
       "metadata": {
        "dataframeName": null
       },
       "overflow": false,
       "plotOptions": {
        "customPlotOptions": {},
        "displayType": "table",
        "pivotAggregation": null,
        "pivotColumns": null,
        "xColumns": null,
        "yColumns": null
       },
       "removedWidgets": [],
       "schema": [],
       "type": "table"
      }
     },
     "output_type": "display_data"
    }
   ],
   "source": [
    "%sql\n",
    "DROP TABLE IF EXISTS gold_all_features;\n",
    "DROP TABLE IF EXISTS gold_consumption_production_aggregate;\n",
    "DROP TABLE IF EXISTS gold_electricity_aggregate;\n",
    "DROP TABLE IF EXISTS gold_gas_prices_aggregate;\n",
    "DROP TABLE IF EXISTS gold_test;\n",
    "DROP TABLE IF EXISTS gold_energy_prices_aggregate;\n",
    "\n",
    "DROP TABLE IF EXISTS silver_client;\n",
    "DROP TABLE IF EXISTS silver_electricity_prices;\n",
    "DROP TABLE IF EXISTS silver_forecast_weather;\n",
    "DROP TABLE IF EXISTS silver_gas_prices;\n",
    "DROP TABLE IF EXISTS silver_historical_weather;\n",
    "DROP TABLE IF EXISTS silver_loading_checkpoint;\n",
    "DROP TABLE IF EXISTS silver_test;\n",
    "\n",
    "DROP TABLE IF EXISTS bronze_client;\n",
    "DROP TABLE IF EXISTS bronze_electricity_prices;\n",
    "DROP TABLE IF EXISTS bronze_forecast_weather;\n",
    "DROP TABLE IF EXISTS bronze_gas_prices;\n",
    "DROP TABLE IF EXISTS bronze_historical_weather;\n",
    "DROP TABLE IF EXISTS bronze_loading_checkpoint;\n",
    "DROP TABLE IF EXISTS bronze_test;\n",
    "DROP TABLE IF EXISTS bronze_revealed_targets;\n",
    "DROP TABLE IF EXISTS bronze_sample_submission;"
   ]
  },
  {
   "cell_type": "code",
   "execution_count": 0,
   "metadata": {
    "application/vnd.databricks.v1+cell": {
     "cellMetadata": {
      "byteLimit": 2048000,
      "rowLimit": 10000
     },
     "inputWidgets": {},
     "nuid": "eb4e4bf8-6f13-4743-ba61-5ee1106bf83c",
     "showTitle": false,
     "title": ""
    }
   },
   "outputs": [
    {
     "output_type": "stream",
     "name": "stdout",
     "output_type": "stream",
     "text": [
      "train_checkpoint_path /Users/gordonhew@gmail.com/data/final_project/fa2023_group06_enefit_train/_checkpoint/\ntest_checkpoint_path /Users/gordonhew@gmail.com/data/final_project/fa2023_group06_enefit_test/_checkpoint/\n"
     ]
    },
    {
     "output_type": "execute_result",
     "data": {
      "text/plain": [
       "True"
      ]
     },
     "execution_count": 16,
     "metadata": {},
     "output_type": "execute_result"
    }
   ],
   "source": [
    "# Remove checkpoint for streaming\n",
    "userName = spark.sql(\"SELECT CURRENT_USER\").collect()[0]['current_user()']\n",
    "userName0 = userName.split(\"@\")[0]\n",
    "userName0 = re.sub('[!#$%&\\'*+-/=?^`{}|\\.]+', '_', userName0)\n",
    "userName1 = userName.split(\"@\")[1]\n",
    "userName = f'{userName0}@{userName1}'\n",
    "userDir = f\"/Users/{userName}/data\"\n",
    "\n",
    "checkpoint_path = userDir + '/final_project/'+ train_schema +'/_checkpoint/'\n",
    "print('train_checkpoint_path', checkpoint_path)\n",
    "dbutils.fs.rm(checkpoint_path, True) \n",
    "\n",
    "checkpoint_path = userDir + '/final_project/'+ test_schema +'/_checkpoint/'\n",
    "print('test_checkpoint_path', checkpoint_path)\n",
    "dbutils.fs.rm(checkpoint_path, True) "
   ]
  },
  {
   "cell_type": "code",
   "execution_count": 0,
   "metadata": {
    "application/vnd.databricks.v1+cell": {
     "cellMetadata": {
      "byteLimit": 2048000,
      "rowLimit": 10000
     },
     "inputWidgets": {},
     "nuid": "319c237b-6ad5-4b64-a492-bc83b01a425e",
     "showTitle": false,
     "title": ""
    }
   },
   "outputs": [],
   "source": [
    "checkpoint_path = userDir + '/final_project/'+ train_schema +'/_checkpoint/'\n",
    "print('train_checkpoint_path', checkpoint_path)\n",
    "dbutils.fs.rm(checkpoint_path, True) \n"
   ]
  },
  {
   "cell_type": "code",
   "execution_count": 0,
   "metadata": {
    "application/vnd.databricks.v1+cell": {
     "cellMetadata": {
      "byteLimit": 2048000,
      "rowLimit": 10000
     },
     "inputWidgets": {},
     "nuid": "81e3cbfe-0582-4162-b8ad-a2c7cd2b9f43",
     "showTitle": false,
     "title": ""
    }
   },
   "outputs": [
    {
     "output_type": "stream",
     "name": "stdout",
     "output_type": "stream",
     "text": [
      "test_checkpoint_path /Users/gordonhew@gmail.com/data/final_project/fa2023_group06_enefit_test_ghew/_checkpoint/\n"
     ]
    },
    {
     "output_type": "execute_result",
     "data": {
      "text/plain": [
       "False"
      ]
     },
     "execution_count": 21,
     "metadata": {},
     "output_type": "execute_result"
    }
   ],
   "source": [
    "checkpoint_path = userDir + '/final_project/'+ test_schema +'/_checkpoint/'\n",
    "print('test_checkpoint_path', checkpoint_path)\n",
    "dbutils.fs.rm(checkpoint_path, True) "
   ]
  }
 ],
 "metadata": {
  "application/vnd.databricks.v1+notebook": {
   "dashboards": [],
   "language": "python",
   "notebookMetadata": {
    "mostRecentlyExecutedCommandWithImplicitDF": {
     "commandId": 226541123962961,
     "dataframes": [
      "_sqldf"
     ]
    },
    "pythonIndentUnit": 2
   },
   "notebookName": "Enefit Reset Simulation",
   "widgets": {
    "test_schema": {
     "currentValue": "fa2023_group06_enefit_test_ghew",
     "nuid": "8db6f8e3-a0ca-4d14-b5b4-7970df0279ec",
     "widgetInfo": {
      "widgetType": "text",
      "defaultValue": "fa2023_group06_enefit_test",
      "label": null,
      "name": "test_schema",
      "options": {
       "widgetType": "text",
       "autoCreated": null,
       "validationRegex": null
      }
     }
    },
    "train_schema": {
     "currentValue": "fa2023_group06_enefit_train_ghew",
     "nuid": "8f6c4f6f-6a20-4e0e-a4cd-dfbbd8fd8b93",
     "widgetInfo": {
      "widgetType": "text",
      "defaultValue": "fa2023_group06_enefit_train",
      "label": null,
      "name": "train_schema",
      "options": {
       "widgetType": "text",
       "autoCreated": null,
       "validationRegex": null
      }
     }
    }
   }
  }
 },
 "nbformat": 4,
 "nbformat_minor": 0
}
