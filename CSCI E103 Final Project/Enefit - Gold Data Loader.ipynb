{
 "cells": [
  {
   "cell_type": "code",
   "execution_count": 0,
   "metadata": {
    "application/vnd.databricks.v1+cell": {
     "cellMetadata": {
      "byteLimit": 2048000,
      "rowLimit": 10000
     },
     "inputWidgets": {},
     "nuid": "ccd19b3c-5ea8-4e86-87f4-5079776d10d6",
     "showTitle": false,
     "title": ""
    }
   },
   "outputs": [],
   "source": [
    "import re"
   ]
  },
  {
   "cell_type": "code",
   "execution_count": 0,
   "metadata": {
    "application/vnd.databricks.v1+cell": {
     "cellMetadata": {
      "byteLimit": 2048000,
      "rowLimit": 10000
     },
     "inputWidgets": {},
     "nuid": "f4df8f72-d8cb-4580-bda2-3138c9e4d2ee",
     "showTitle": false,
     "title": ""
    }
   },
   "outputs": [],
   "source": [
    "dbutils.widgets.removeAll()\n",
    "\n",
    "dbutils.widgets.text(\"schema\", \"fa2023_group06_enefit_train\")\n",
    "dbutils.widgets.dropdown(\"dataset\", \"train\", [\"train\", \"test\"])"
   ]
  },
  {
   "cell_type": "code",
   "execution_count": 0,
   "metadata": {
    "application/vnd.databricks.v1+cell": {
     "cellMetadata": {
      "byteLimit": 2048000,
      "rowLimit": 10000
     },
     "inputWidgets": {},
     "nuid": "13ad6d40-d1aa-4f8b-a490-63dc8e56d0c3",
     "showTitle": false,
     "title": ""
    }
   },
   "outputs": [],
   "source": [
    "databaseName = dbutils.widgets.get(\"schema\")\n",
    "dataset = dbutils.widgets.get(\"dataset\")"
   ]
  },
  {
   "cell_type": "code",
   "execution_count": 0,
   "metadata": {
    "application/vnd.databricks.v1+cell": {
     "cellMetadata": {
      "byteLimit": 2048000,
      "rowLimit": 10000
     },
     "inputWidgets": {},
     "nuid": "0357963e-2b7b-4eec-8916-6122cf3cf40c",
     "showTitle": false,
     "title": ""
    }
   },
   "outputs": [
    {
     "output_type": "stream",
     "name": "stdout",
     "output_type": "stream",
     "text": [
      "UserDir /Users/gordonhew@gmail.com/data\nuserName gordonhew@gmail.com\nUsing database fa2023_group06_enefit_test\n"
     ]
    }
   ],
   "source": [
    "userName = spark.sql(\"SELECT CURRENT_USER\").collect()[0]['current_user()']\n",
    "userName0 = userName.split(\"@\")[0]\n",
    "userName0 = re.sub('[!#$%&\\'*+-/=?^`{}|\\.]+', '_', userName0)\n",
    "userName1 = userName.split(\"@\")[1]\n",
    "userName = f'{userName0}@{userName1}'\n",
    "dbutils.fs.mkdirs(f\"/Users/{userName}/data\")\n",
    "userDir = f\"/Users/{userName}/data\"\n",
    "\n",
    "spark.sql(f\"use {databaseName}\")\n",
    "\n",
    "print('UserDir ' + userDir)\n",
    "print('userName '+ userName)\n",
    "print('Using database '+ databaseName)"
   ]
  },
  {
   "cell_type": "code",
   "execution_count": 0,
   "metadata": {
    "application/vnd.databricks.v1+cell": {
     "cellMetadata": {
      "byteLimit": 2048000,
      "rowLimit": 10000
     },
     "inputWidgets": {},
     "nuid": "d0b7cd12-acea-4364-ab8b-1784e91b68ef",
     "showTitle": false,
     "title": ""
    }
   },
   "outputs": [],
   "source": [
    "if dataset == 'train':\n",
    "  flattened_sql = \"\"\"\n",
    "  select \n",
    "  a.county as {dataset}_county,\n",
    "  a.is_business as {dataset}_is_business,\n",
    "  a.product_type as {dataset}_product_type,\n",
    "  a.target as {dataset}_target,\n",
    "  a.is_consumption as {dataset}_is_consumption, \n",
    "  a.datetime as {dataset}_datetime,\n",
    "  a.data_block_id as {dataset}_data_block_id,\n",
    "  a.row_id as {dataset}_row_id,\n",
    "  a.prediction_unit_id as {dataset}_prediction_unit_id,\n",
    "\n",
    "  b.forecast_date as gas_prices_forecast_date,\n",
    "  b.lowest_price_per_mwh as gas_prices_lowest_price_per_mwh,\n",
    "  b.highest_price_per_mwh as gas_prices_highest_price_per_mwh,\n",
    "  b.origin_date as gas_prices_origin_date,\n",
    "  b.data_block_id as gas_prices_data_block_id,\n",
    "\n",
    "  c.forecast_date as electric_prices_forecast_date,\n",
    "  c.euros_per_mwh as electric_prices_euros_per_mwh,\n",
    "  c.origin_date as electric_prices_origin_date,\n",
    "  c.data_block_id as electric_prices_data_block_id,\n",
    "\n",
    "  d.product_type as client_product_type,\n",
    "  d.county as client_county,\n",
    "  d.eic_count as client_eic_count,\n",
    "  d.installed_capacity as client_installed_capacity,\n",
    "  d.is_business as client_is_business,\n",
    "  d.date as client_date,\n",
    "  d.data_block_id as client_data_block_id\n",
    "\n",
    "  from silver_{dataset} as a\n",
    "  left join silver_gas_prices as b\n",
    "\n",
    "    on date(a.datetime) = dateadd(b.forecast_date , 1)\n",
    "\n",
    "  left join silver_electricity_prices\n",
    "    as c on date(a.datetime) = dateadd(c.forecast_date , 1)\n",
    "\n",
    "  left join silver_client d on d.product_type = a.product_type and d.county = a.county and d.is_business = a.is_business\n",
    "    and d.date =  dateadd(date(a.datetime), 0 )\n",
    "  \"\"\".format(dataset=dataset)\n",
    "\n",
    "  gold_all_features_df = spark.sql(flattened_sql)\n",
    "  gold_all_features_df.write.mode('overwrite').saveAsTable('gold_all_features')"
   ]
  },
  {
   "cell_type": "code",
   "execution_count": 0,
   "metadata": {
    "application/vnd.databricks.v1+cell": {
     "cellMetadata": {},
     "inputWidgets": {},
     "nuid": "8e5da799-0419-4482-8dd1-209a38ba68dc",
     "showTitle": false,
     "title": ""
    }
   },
   "outputs": [],
   "source": [
    "if dataset == \"train\":\n",
    "  spark.sql(\"SELECT * FROM gold_all_features LIMIT 10\")"
   ]
  },
  {
   "cell_type": "code",
   "execution_count": 0,
   "metadata": {
    "application/vnd.databricks.v1+cell": {
     "cellMetadata": {},
     "inputWidgets": {},
     "nuid": "f4798fc7-dc6a-4c88-bf9b-41b1d0cd5293",
     "showTitle": false,
     "title": ""
    }
   },
   "outputs": [],
   "source": [
    "if dataset == \"train\":\n",
    "  spark.sql(\"SELECT COUNT(1) FROM gold_all_features\")"
   ]
  },
  {
   "cell_type": "markdown",
   "metadata": {
    "application/vnd.databricks.v1+cell": {
     "cellMetadata": {
      "byteLimit": 2048000,
      "rowLimit": 10000
     },
     "inputWidgets": {},
     "nuid": "33dce5ae-f837-4ba3-b637-905827821302",
     "showTitle": false,
     "title": ""
    }
   },
   "source": [
    "## Creating/Merging/Upserting energy_prices_aggregate"
   ]
  },
  {
   "cell_type": "code",
   "execution_count": 0,
   "metadata": {
    "application/vnd.databricks.v1+cell": {
     "cellMetadata": {
      "byteLimit": 2048000,
      "rowLimit": 10000
     },
     "inputWidgets": {},
     "nuid": "3cb2a7c0-a5c5-42ff-9c05-3876ce1b7417",
     "showTitle": false,
     "title": ""
    }
   },
   "outputs": [],
   "source": [
    "def create_merge_upsert(logical_table_name, select_sql, merge_upsert_sql):\n",
    "  data_df = spark.sql(select_sql)\n",
    "  gold_table = 'gold_' + logical_table_name\n",
    "\n",
    "  if not spark.catalog.tableExists(gold_table):\n",
    "    print(gold_table, ' does not exist, creating')\n",
    "    data_df.write.mode('overwrite').saveAsTable(gold_table)\n",
    "  else:\n",
    "    print('merge/upsert into', gold_table)\n",
    "    temp_table = 'temp_' + logical_table_name\n",
    "    data_df.createOrReplaceTempView(temp_table)\n",
    "    spark.sql(merge_upsert_sql)\n",
    "\n",
    "    spark.catalog.dropTempView(temp_table)"
   ]
  },
  {
   "cell_type": "code",
   "execution_count": 0,
   "metadata": {
    "application/vnd.databricks.v1+cell": {
     "cellMetadata": {
      "byteLimit": 2048000,
      "rowLimit": 10000
     },
     "inputWidgets": {},
     "nuid": "8584f53b-42c3-4d59-88d4-73208e39e62e",
     "showTitle": false,
     "title": ""
    }
   },
   "outputs": [
    {
     "output_type": "stream",
     "name": "stdout",
     "output_type": "stream",
     "text": [
      "gold_energy_prices_aggregate  does not exist, creating\n"
     ]
    }
   ],
   "source": [
    "price_forecast_sql = \"\"\"\n",
    "WITH gold_electricity_aggregate AS \n",
    "(\n",
    "SELECT\n",
    "  TO_DATE(forecast_date) forecast_date,\n",
    "  MEDIAN(euros_per_mwh) AS electricity_price_per_mwh_median,\n",
    "  AVG(euros_per_mwh) AS electricity_price_per_mwh_average\n",
    "  FROM silver_electricity_prices\n",
    "  GROUP BY TO_DATE(forecast_date)\n",
    "),\n",
    "silver_gas_aggregate as \n",
    "(\n",
    "  SELECT \n",
    "    TO_DATE(forecast_date) forecast_date,\n",
    "    MEDIAN(lowest_price_per_mwh) AS gas_lowest_price_per_mwh_median,\n",
    "    AVG(lowest_price_per_mwh) AS gas_lowest_price_per_mwh_average,\n",
    "    MEDIAN(highest_price_per_mwh) AS gas_highest_price_per_mwh_median,\n",
    "    AVG(highest_price_per_mwh) AS gas_highest_price_per_mwh_average\n",
    "  FROM silver_gas_prices\n",
    "  GROUP BY TO_DATE(forecast_date)\n",
    ")\n",
    "SELECT \n",
    "  coalesce(g.forecast_date, s.forecast_date) AS forecast_date,\n",
    "  electricity_price_per_mwh_median,\n",
    "  electricity_price_per_mwh_average,\n",
    "  gas_lowest_price_per_mwh_median,\n",
    "  gas_lowest_price_per_mwh_average,\n",
    "  gas_highest_price_per_mwh_median,\n",
    "  gas_highest_price_per_mwh_average\n",
    "FROM \n",
    "  gold_electricity_aggregate g \n",
    "  FULL OUTER JOIN silver_gas_aggregate s ON g.forecast_date = s.forecast_date\n",
    "ORDER BY g.forecast_date\n",
    "\"\"\"\n",
    "\n",
    "price_forecast_merge_upsert_sql = \"\"\"\n",
    "  MERGE INTO gold_{table_name}\n",
    "  USING temp_{table_name}\n",
    "  ON gold_{table_name}.forecast_date = temp_{table_name}.forecast_date\n",
    "  WHEN MATCHED THEN\n",
    "    UPDATE SET\n",
    "      electricity_price_per_mwh_median = temp_{table_name}.electricity_price_per_mwh_median,\n",
    "      electricity_price_per_mwh_average = temp_{table_name}.electricity_price_per_mwh_average,\n",
    "      gas_lowest_price_per_mwh_median = temp_{table_name}.gas_lowest_price_per_mwh_median,\n",
    "      gas_lowest_price_per_mwh_average = temp_{table_name}.gas_lowest_price_per_mwh_average,\n",
    "      gas_highest_price_per_mwh_median = temp_{table_name}.gas_highest_price_per_mwh_median,\n",
    "      gas_highest_price_per_mwh_average  = temp_{table_name}.gas_highest_price_per_mwh_median      \n",
    "  WHEN NOT MATCHED\n",
    "    THEN INSERT (\n",
    "      forecast_date,\n",
    "      electricity_price_per_mwh_median,\n",
    "      electricity_price_per_mwh_average,\n",
    "      gas_lowest_price_per_mwh_median,\n",
    "      gas_lowest_price_per_mwh_average,\n",
    "      gas_highest_price_per_mwh_median,\n",
    "      gas_highest_price_per_mwh_average\n",
    "    )\n",
    "    VALUES (\n",
    "      temp_{table_name}.forecast_date,\n",
    "      temp_{table_name}.electricity_price_per_mwh_median,\n",
    "      temp_{table_name}.electricity_price_per_mwh_average,\n",
    "      temp_{table_name}.gas_lowest_price_per_mwh_median,\n",
    "      temp_{table_name}.gas_lowest_price_per_mwh_average,\n",
    "      temp_{table_name}.gas_highest_price_per_mwh_median,\n",
    "      temp_{table_name}.gas_highest_price_per_mwh_average\n",
    "    )\n",
    "  WHEN NOT MATCHED BY SOURCE THEN\n",
    "    DELETE    \n",
    "  \"\"\".format(table_name='energy_prices_aggregate')\n",
    "\n",
    "create_merge_upsert('energy_prices_aggregate', price_forecast_sql, price_forecast_merge_upsert_sql)"
   ]
  },
  {
   "cell_type": "code",
   "execution_count": 0,
   "metadata": {
    "application/vnd.databricks.v1+cell": {
     "cellMetadata": {
      "byteLimit": 2048000,
      "implicitDf": true,
      "rowLimit": 10000
     },
     "inputWidgets": {},
     "nuid": "59cd2ca2-1820-4638-8d12-678c030be91e",
     "showTitle": false,
     "title": ""
    }
   },
   "outputs": [
    {
     "output_type": "display_data",
     "data": {
      "text/html": [
       "<style scoped>\n",
       "  .table-result-container {\n",
       "    max-height: 300px;\n",
       "    overflow: auto;\n",
       "  }\n",
       "  table, th, td {\n",
       "    border: 1px solid black;\n",
       "    border-collapse: collapse;\n",
       "  }\n",
       "  th, td {\n",
       "    padding: 5px;\n",
       "  }\n",
       "  th {\n",
       "    text-align: left;\n",
       "  }\n",
       "</style><div class='table-result-container'><table class='table-result'><thead style='background-color: white'><tr><th>forecast_date</th><th>electricity_price_per_mwh_median</th><th>electricity_price_per_mwh_average</th><th>gas_lowest_price_per_mwh_median</th><th>gas_lowest_price_per_mwh_average</th><th>gas_highest_price_per_mwh_median</th><th>gas_highest_price_per_mwh_average</th></tr></thead><tbody><tr><td>2023-05-30</td><td>67.38</td><td>55.55124999999999</td><td>29.0</td><td>29.0</td><td>34.0</td><td>34.0</td></tr><tr><td>2023-05-29</td><td>21.150000000000002</td><td>35.75708333333333</td><td>28.16</td><td>28.16</td><td>36.98</td><td>36.98</td></tr><tr><td>2023-05-28</td><td>65.055</td><td>44.451249999999995</td><td>28.1</td><td>28.1</td><td>34.1</td><td>34.1</td></tr><tr><td>2023-05-27</td><td>82.7</td><td>62.56166666666667</td><td>28.3</td><td>28.3</td><td>34.1</td><td>34.1</td></tr></tbody></table></div>"
      ]
     },
     "metadata": {
      "application/vnd.databricks.v1+output": {
       "addedWidgets": {},
       "aggData": [],
       "aggError": "",
       "aggOverflow": false,
       "aggSchema": [],
       "aggSeriesLimitReached": false,
       "aggType": "",
       "arguments": {},
       "columnCustomDisplayInfos": {},
       "data": [
        [
         "2023-05-30",
         67.38,
         55.55124999999999,
         29.0,
         29.0,
         34.0,
         34.0
        ],
        [
         "2023-05-29",
         21.150000000000002,
         35.75708333333333,
         28.16,
         28.16,
         36.98,
         36.98
        ],
        [
         "2023-05-28",
         65.055,
         44.451249999999995,
         28.1,
         28.1,
         34.1,
         34.1
        ],
        [
         "2023-05-27",
         82.7,
         62.56166666666667,
         28.3,
         28.3,
         34.1,
         34.1
        ]
       ],
       "datasetInfos": [],
       "dbfsResultPath": null,
       "isJsonSchema": true,
       "metadata": {
        "dataframeName": "_sqldf",
        "executionCount": 7
       },
       "overflow": false,
       "plotOptions": {
        "customPlotOptions": {},
        "displayType": "table",
        "pivotAggregation": null,
        "pivotColumns": null,
        "xColumns": null,
        "yColumns": null
       },
       "removedWidgets": [],
       "schema": [
        {
         "metadata": "{}",
         "name": "forecast_date",
         "type": "\"date\""
        },
        {
         "metadata": "{}",
         "name": "electricity_price_per_mwh_median",
         "type": "\"double\""
        },
        {
         "metadata": "{}",
         "name": "electricity_price_per_mwh_average",
         "type": "\"double\""
        },
        {
         "metadata": "{}",
         "name": "gas_lowest_price_per_mwh_median",
         "type": "\"double\""
        },
        {
         "metadata": "{}",
         "name": "gas_lowest_price_per_mwh_average",
         "type": "\"double\""
        },
        {
         "metadata": "{}",
         "name": "gas_highest_price_per_mwh_median",
         "type": "\"double\""
        },
        {
         "metadata": "{}",
         "name": "gas_highest_price_per_mwh_average",
         "type": "\"double\""
        }
       ],
       "type": "table"
      }
     },
     "output_type": "display_data"
    }
   ],
   "source": [
    "%sql\n",
    "SELECT * FROM gold_energy_prices_aggregate ORDER BY forecast_date DESC LIMIT 10"
   ]
  },
  {
   "cell_type": "code",
   "execution_count": 0,
   "metadata": {
    "application/vnd.databricks.v1+cell": {
     "cellMetadata": {
      "byteLimit": 2048000,
      "implicitDf": true,
      "rowLimit": 10000
     },
     "inputWidgets": {},
     "nuid": "bcffb6f4-7571-46ca-9087-36be189413c2",
     "showTitle": false,
     "title": ""
    }
   },
   "outputs": [
    {
     "output_type": "display_data",
     "data": {
      "text/html": [
       "<style scoped>\n",
       "  .table-result-container {\n",
       "    max-height: 300px;\n",
       "    overflow: auto;\n",
       "  }\n",
       "  table, th, td {\n",
       "    border: 1px solid black;\n",
       "    border-collapse: collapse;\n",
       "  }\n",
       "  th, td {\n",
       "    padding: 5px;\n",
       "  }\n",
       "  th {\n",
       "    text-align: left;\n",
       "  }\n",
       "</style><div class='table-result-container'><table class='table-result'><thead style='background-color: white'><tr><th>count(1)</th></tr></thead><tbody><tr><td>4</td></tr></tbody></table></div>"
      ]
     },
     "metadata": {
      "application/vnd.databricks.v1+output": {
       "addedWidgets": {},
       "aggData": [],
       "aggError": "",
       "aggOverflow": false,
       "aggSchema": [],
       "aggSeriesLimitReached": false,
       "aggType": "",
       "arguments": {},
       "columnCustomDisplayInfos": {},
       "data": [
        [
         4
        ]
       ],
       "datasetInfos": [],
       "dbfsResultPath": null,
       "isJsonSchema": true,
       "metadata": {
        "dataframeName": "_sqldf",
        "executionCount": 8
       },
       "overflow": false,
       "plotOptions": {
        "customPlotOptions": {},
        "displayType": "table",
        "pivotAggregation": null,
        "pivotColumns": null,
        "xColumns": null,
        "yColumns": null
       },
       "removedWidgets": [],
       "schema": [
        {
         "metadata": "{\"__autoGeneratedAlias\":\"true\"}",
         "name": "count(1)",
         "type": "\"long\""
        }
       ],
       "type": "table"
      }
     },
     "output_type": "display_data"
    }
   ],
   "source": [
    "%sql\n",
    "SELECT COUNT(1) FROM gold_energy_prices_aggregate"
   ]
  },
  {
   "cell_type": "markdown",
   "metadata": {
    "application/vnd.databricks.v1+cell": {
     "cellMetadata": {
      "byteLimit": 2048000,
      "rowLimit": 10000
     },
     "inputWidgets": {},
     "nuid": "3300c9b9-2702-4ef1-b60a-55ed3a53f6e9",
     "showTitle": false,
     "title": ""
    }
   },
   "source": [
    "## Creating/Merging/Upserting gold_consumption_production_aggregate"
   ]
  },
  {
   "cell_type": "code",
   "execution_count": 0,
   "metadata": {
    "application/vnd.databricks.v1+cell": {
     "cellMetadata": {
      "byteLimit": 2048000,
      "rowLimit": 10000
     },
     "inputWidgets": {},
     "nuid": "0e4166db-2166-40c4-b030-565f0cd3e6fa",
     "showTitle": false,
     "title": ""
    }
   },
   "outputs": [
    {
     "output_type": "stream",
     "name": "stdout",
     "output_type": "stream",
     "text": [
      "merge/upsert into gold_consumption_production_aggregate\n"
     ]
    }
   ],
   "source": [
    "if dataset == 'train':\n",
    "  consumption_production_sql = \"\"\"\n",
    "  WITH total_consumption AS (\n",
    "    SELECT \n",
    "      TO_DATE(datetime) AS date,\n",
    "      sum(target) AS total_consumption_amt\n",
    "    FROM silver_train\n",
    "    WHERE \n",
    "      is_consumption = 1\n",
    "    GROUP BY date    \n",
    "  ),\n",
    "  total_production AS (\n",
    "    SELECT \n",
    "        TO_DATE(datetime) AS date,\n",
    "        sum(target) AS total_production_amt\n",
    "      FROM silver_train\n",
    "      WHERE \n",
    "        is_consumption = 0\n",
    "      GROUP BY date\n",
    "  )\n",
    "  SELECT \n",
    "    coalesce(c.date, p.date) AS date,\n",
    "    total_consumption_amt,\n",
    "    total_production_amt,\n",
    "    total_production_amt - total_consumption_amt AS net_amt\n",
    "  FROM \n",
    "    total_consumption c JOIN total_production p ON c.date = p.date\n",
    "  ORDER BY date ASC\n",
    "  \"\"\"\n",
    "\n",
    "  consumption_production_merge_upsert_sql = \"\"\"\n",
    "    MERGE INTO gold_consumption_production_aggregate\n",
    "    USING temp_consumption_production_aggregate\n",
    "    ON gold_consumption_production_aggregate.date = temp_consumption_production_aggregate.date\n",
    "    WHEN MATCHED THEN\n",
    "      UPDATE SET\n",
    "        total_consumption_amt = temp_consumption_production_aggregate.total_consumption_amt,\n",
    "        total_production_amt = temp_consumption_production_aggregate.total_production_amt,\n",
    "        net_amt = temp_consumption_production_aggregate.net_amt\n",
    "    WHEN NOT MATCHED\n",
    "      THEN INSERT (\n",
    "        date,\n",
    "        total_consumption_amt,\n",
    "        total_production_amt,\n",
    "        net_amt\n",
    "      )\n",
    "      VALUES (\n",
    "        temp_consumption_production_aggregate.date,\n",
    "        temp_consumption_production_aggregate.total_consumption_amt,\n",
    "        temp_consumption_production_aggregate.total_production_amt,\n",
    "        temp_consumption_production_aggregate.net_amt\n",
    "      )\n",
    "    WHEN NOT MATCHED BY SOURCE THEN\n",
    "      DELETE \n",
    "  \"\"\"\n",
    "\n",
    "  create_merge_upsert('consumption_production_aggregate', consumption_production_sql, consumption_production_merge_upsert_sql)"
   ]
  },
  {
   "cell_type": "code",
   "execution_count": 0,
   "metadata": {
    "application/vnd.databricks.v1+cell": {
     "cellMetadata": {
      "byteLimit": 2048000,
      "implicitDf": true,
      "rowLimit": 10000
     },
     "inputWidgets": {},
     "nuid": "76442b10-41c9-4798-af6a-17200e2b97cb",
     "showTitle": false,
     "title": ""
    }
   },
   "outputs": [
    {
     "output_type": "display_data",
     "data": {
      "text/html": [
       "<style scoped>\n",
       "  .table-result-container {\n",
       "    max-height: 300px;\n",
       "    overflow: auto;\n",
       "  }\n",
       "  table, th, td {\n",
       "    border: 1px solid black;\n",
       "    border-collapse: collapse;\n",
       "  }\n",
       "  th, td {\n",
       "    padding: 5px;\n",
       "  }\n",
       "  th {\n",
       "    text-align: left;\n",
       "  }\n",
       "</style><div class='table-result-container'><table class='table-result'><thead style='background-color: white'><tr><th>date</th><th>total_consumption_amt</th><th>total_production_amt</th><th>net_amt</th></tr></thead><tbody><tr><td>2023-05-31</td><td>612491.0589999998</td><td>667617.9430000002</td><td>55126.88400000043</td></tr><tr><td>2023-05-30</td><td>638906.3710000002</td><td>584241.7649999999</td><td>-54664.60600000026</td></tr><tr><td>2023-05-29</td><td>603023.7739999997</td><td>621032.624</td><td>18008.85000000021</td></tr><tr><td>2023-05-28</td><td>415896.57300000015</td><td>764474.0430000003</td><td>348577.47000000015</td></tr><tr><td>2023-05-27</td><td>427683.894</td><td>771194.5780000004</td><td>343510.6840000005</td></tr><tr><td>2023-05-26</td><td>615020.3289999999</td><td>623860.5640000001</td><td>8840.235000000219</td></tr><tr><td>2023-05-25</td><td>695600.1629999997</td><td>411391.52599999984</td><td>-284208.6369999999</td></tr><tr><td>2023-05-24</td><td>621441.0129999998</td><td>625928.0669999999</td><td>4487.05400000012</td></tr><tr><td>2023-05-23</td><td>637593.071</td><td>546112.0890000003</td><td>-91480.98199999973</td></tr><tr><td>2023-05-22</td><td>638716.2619999999</td><td>510611.49799999985</td><td>-128104.76400000002</td></tr></tbody></table></div>"
      ]
     },
     "metadata": {
      "application/vnd.databricks.v1+output": {
       "addedWidgets": {},
       "aggData": [],
       "aggError": "",
       "aggOverflow": false,
       "aggSchema": [],
       "aggSeriesLimitReached": false,
       "aggType": "",
       "arguments": {},
       "columnCustomDisplayInfos": {},
       "data": [
        [
         "2023-05-31",
         612491.0589999998,
         667617.9430000002,
         55126.88400000043
        ],
        [
         "2023-05-30",
         638906.3710000002,
         584241.7649999999,
         -54664.60600000026
        ],
        [
         "2023-05-29",
         603023.7739999997,
         621032.624,
         18008.85000000021
        ],
        [
         "2023-05-28",
         415896.57300000015,
         764474.0430000003,
         348577.47000000015
        ],
        [
         "2023-05-27",
         427683.894,
         771194.5780000004,
         343510.6840000005
        ],
        [
         "2023-05-26",
         615020.3289999999,
         623860.5640000001,
         8840.235000000219
        ],
        [
         "2023-05-25",
         695600.1629999997,
         411391.52599999984,
         -284208.6369999999
        ],
        [
         "2023-05-24",
         621441.0129999998,
         625928.0669999999,
         4487.05400000012
        ],
        [
         "2023-05-23",
         637593.071,
         546112.0890000003,
         -91480.98199999973
        ],
        [
         "2023-05-22",
         638716.2619999999,
         510611.49799999985,
         -128104.76400000002
        ]
       ],
       "datasetInfos": [],
       "dbfsResultPath": null,
       "isJsonSchema": true,
       "metadata": {},
       "overflow": false,
       "plotOptions": {
        "customPlotOptions": {},
        "displayType": "table",
        "pivotAggregation": null,
        "pivotColumns": null,
        "xColumns": null,
        "yColumns": null
       },
       "removedWidgets": [],
       "schema": [
        {
         "metadata": "{}",
         "name": "date",
         "type": "\"date\""
        },
        {
         "metadata": "{}",
         "name": "total_consumption_amt",
         "type": "\"double\""
        },
        {
         "metadata": "{}",
         "name": "total_production_amt",
         "type": "\"double\""
        },
        {
         "metadata": "{}",
         "name": "net_amt",
         "type": "\"double\""
        }
       ],
       "type": "table"
      }
     },
     "output_type": "display_data"
    }
   ],
   "source": [
    "if dataset == 'train':\n",
    "  display(spark.sql(\"SELECT * FROM gold_consumption_production_aggregate ORDER BY date DESC LIMIT 10\"))"
   ]
  },
  {
   "cell_type": "code",
   "execution_count": 0,
   "metadata": {
    "application/vnd.databricks.v1+cell": {
     "cellMetadata": {
      "byteLimit": 2048000,
      "implicitDf": true,
      "rowLimit": 10000
     },
     "inputWidgets": {},
     "nuid": "d4faaea0-8480-4315-ac31-2ce71aa14302",
     "showTitle": false,
     "title": ""
    }
   },
   "outputs": [
    {
     "output_type": "display_data",
     "data": {
      "text/html": [
       "<style scoped>\n",
       "  .table-result-container {\n",
       "    max-height: 300px;\n",
       "    overflow: auto;\n",
       "  }\n",
       "  table, th, td {\n",
       "    border: 1px solid black;\n",
       "    border-collapse: collapse;\n",
       "  }\n",
       "  th, td {\n",
       "    padding: 5px;\n",
       "  }\n",
       "  th {\n",
       "    text-align: left;\n",
       "  }\n",
       "</style><div class='table-result-container'><table class='table-result'><thead style='background-color: white'><tr><th>count(1)</th></tr></thead><tbody><tr><td>637</td></tr></tbody></table></div>"
      ]
     },
     "metadata": {
      "application/vnd.databricks.v1+output": {
       "addedWidgets": {},
       "aggData": [],
       "aggError": "",
       "aggOverflow": false,
       "aggSchema": [],
       "aggSeriesLimitReached": false,
       "aggType": "",
       "arguments": {},
       "columnCustomDisplayInfos": {},
       "data": [
        [
         637
        ]
       ],
       "datasetInfos": [],
       "dbfsResultPath": null,
       "isJsonSchema": true,
       "metadata": {},
       "overflow": false,
       "plotOptions": {
        "customPlotOptions": {},
        "displayType": "table",
        "pivotAggregation": null,
        "pivotColumns": null,
        "xColumns": null,
        "yColumns": null
       },
       "removedWidgets": [],
       "schema": [
        {
         "metadata": "{\"__autoGeneratedAlias\":\"true\"}",
         "name": "count(1)",
         "type": "\"long\""
        }
       ],
       "type": "table"
      }
     },
     "output_type": "display_data"
    }
   ],
   "source": [
    "if dataset == 'train':\n",
    "  display(spark.sql(\"SELECT COUNT(1) FROM gold_consumption_production_aggregate\"))"
   ]
  },
  {
   "cell_type": "markdown",
   "metadata": {
    "application/vnd.databricks.v1+cell": {
     "cellMetadata": {
      "byteLimit": 2048000,
      "rowLimit": 10000
     },
     "inputWidgets": {},
     "nuid": "dc3992b1-a376-4128-8d75-e5af90d5564b",
     "showTitle": false,
     "title": ""
    }
   },
   "source": [
    "## Stream data to gold train/test dataset"
   ]
  },
  {
   "cell_type": "code",
   "execution_count": 0,
   "metadata": {
    "application/vnd.databricks.v1+cell": {
     "cellMetadata": {
      "byteLimit": 2048000,
      "rowLimit": 10000
     },
     "inputWidgets": {},
     "nuid": "db072278-13dc-4b68-a983-0b65fd57796b",
     "showTitle": false,
     "title": ""
    }
   },
   "outputs": [
    {
     "output_type": "stream",
     "name": "stdout",
     "output_type": "stream",
     "text": [
      "checkpoint path /Users/gordonhew@gmail.com/data/final_project/fa2023_group06_enefit_train_ghew/_checkpoint/gold_train\n"
     ]
    }
   ],
   "source": [
    "dataset_table = \"gold_\" + dataset\n",
    "\n",
    "checkpoint_path = userDir + '/final_project/' + databaseName + '/_checkpoint/' + dataset_table\n",
    "\n",
    "print('checkpoint path', checkpoint_path)\n",
    "\n",
    "input_stream_df = spark.readStream \\\n",
    "  .table('silver_' + dataset) \\\n",
    "  .writeStream \\\n",
    "  .option(\"checkpointLocation\", checkpoint_path) \\\n",
    "  .outputMode(\"append\") \\\n",
    "  .trigger(once=True) \\\n",
    "  .toTable(dataset_table)"
   ]
  },
  {
   "cell_type": "code",
   "execution_count": 0,
   "metadata": {
    "application/vnd.databricks.v1+cell": {
     "cellMetadata": {
      "byteLimit": 2048000,
      "implicitDf": true,
      "rowLimit": 10000
     },
     "inputWidgets": {},
     "nuid": "45d044a3-723a-4a78-8839-688190d22f11",
     "showTitle": false,
     "title": ""
    }
   },
   "outputs": [
    {
     "output_type": "display_data",
     "data": {
      "text/html": [
       "<style scoped>\n",
       "  .table-result-container {\n",
       "    max-height: 300px;\n",
       "    overflow: auto;\n",
       "  }\n",
       "  table, th, td {\n",
       "    border: 1px solid black;\n",
       "    border-collapse: collapse;\n",
       "  }\n",
       "  th, td {\n",
       "    padding: 5px;\n",
       "  }\n",
       "  th {\n",
       "    text-align: left;\n",
       "  }\n",
       "</style><div class='table-result-container'><table class='table-result'><thead style='background-color: white'><tr><th>county</th><th>is_business</th><th>product_type</th><th>target</th><th>is_consumption</th><th>datetime</th><th>data_block_id</th><th>row_id</th><th>prediction_unit_id</th></tr></thead><tbody><tr><td>2</td><td>1</td><td>3</td><td>2066.227</td><td>1</td><td>2022-04-06T03:00:00Z</td><td>217</td><td>667155</td><td>10</td></tr><tr><td>8</td><td>0</td><td>1</td><td>0.0</td><td>0</td><td>2022-04-06T03:00:00Z</td><td>217</td><td>667198</td><td>31</td></tr><tr><td>10</td><td>1</td><td>1</td><td>78.223</td><td>1</td><td>2022-04-06T04:00:00Z</td><td>217</td><td>667353</td><td>40</td></tr><tr><td>11</td><td>1</td><td>0</td><td>0.0</td><td>0</td><td>2022-04-06T08:00:00Z</td><td>217</td><td>667908</td><td>67</td></tr><tr><td>7</td><td>0</td><td>1</td><td>10.036</td><td>0</td><td>2022-04-06T09:00:00Z</td><td>217</td><td>668002</td><td>25</td></tr><tr><td>11</td><td>1</td><td>3</td><td>305.842</td><td>0</td><td>2022-04-06T09:00:00Z</td><td>217</td><td>668050</td><td>48</td></tr><tr><td>6</td><td>1</td><td>3</td><td>130.571</td><td>1</td><td>2022-04-06T12:00:00Z</td><td>217</td><td>668409</td><td>24</td></tr><tr><td>5</td><td>1</td><td>3</td><td>306.425</td><td>1</td><td>2022-04-06T14:00:00Z</td><td>217</td><td>668679</td><td>23</td></tr><tr><td>7</td><td>0</td><td>1</td><td>23.261</td><td>1</td><td>2022-04-06T16:00:00Z</td><td>217</td><td>668955</td><td>25</td></tr><tr><td>0</td><td>1</td><td>0</td><td>352.52</td><td>1</td><td>2022-04-06T19:00:00Z</td><td>217</td><td>669311</td><td>3</td></tr></tbody></table></div>"
      ]
     },
     "metadata": {
      "application/vnd.databricks.v1+output": {
       "addedWidgets": {},
       "aggData": [],
       "aggError": "",
       "aggOverflow": false,
       "aggSchema": [],
       "aggSeriesLimitReached": false,
       "aggType": "",
       "arguments": {},
       "columnCustomDisplayInfos": {},
       "data": [
        [
         2,
         1,
         3,
         2066.227,
         1,
         "2022-04-06T03:00:00Z",
         217,
         667155,
         10
        ],
        [
         8,
         0,
         1,
         0.0,
         0,
         "2022-04-06T03:00:00Z",
         217,
         667198,
         31
        ],
        [
         10,
         1,
         1,
         78.223,
         1,
         "2022-04-06T04:00:00Z",
         217,
         667353,
         40
        ],
        [
         11,
         1,
         0,
         0.0,
         0,
         "2022-04-06T08:00:00Z",
         217,
         667908,
         67
        ],
        [
         7,
         0,
         1,
         10.036,
         0,
         "2022-04-06T09:00:00Z",
         217,
         668002,
         25
        ],
        [
         11,
         1,
         3,
         305.842,
         0,
         "2022-04-06T09:00:00Z",
         217,
         668050,
         48
        ],
        [
         6,
         1,
         3,
         130.571,
         1,
         "2022-04-06T12:00:00Z",
         217,
         668409,
         24
        ],
        [
         5,
         1,
         3,
         306.425,
         1,
         "2022-04-06T14:00:00Z",
         217,
         668679,
         23
        ],
        [
         7,
         0,
         1,
         23.261,
         1,
         "2022-04-06T16:00:00Z",
         217,
         668955,
         25
        ],
        [
         0,
         1,
         0,
         352.52,
         1,
         "2022-04-06T19:00:00Z",
         217,
         669311,
         3
        ]
       ],
       "datasetInfos": [],
       "dbfsResultPath": null,
       "isJsonSchema": true,
       "metadata": {},
       "overflow": false,
       "plotOptions": {
        "customPlotOptions": {},
        "displayType": "table",
        "pivotAggregation": null,
        "pivotColumns": null,
        "xColumns": null,
        "yColumns": null
       },
       "removedWidgets": [],
       "schema": [
        {
         "metadata": "{}",
         "name": "county",
         "type": "\"integer\""
        },
        {
         "metadata": "{}",
         "name": "is_business",
         "type": "\"integer\""
        },
        {
         "metadata": "{}",
         "name": "product_type",
         "type": "\"integer\""
        },
        {
         "metadata": "{}",
         "name": "target",
         "type": "\"double\""
        },
        {
         "metadata": "{}",
         "name": "is_consumption",
         "type": "\"integer\""
        },
        {
         "metadata": "{}",
         "name": "datetime",
         "type": "\"timestamp\""
        },
        {
         "metadata": "{}",
         "name": "data_block_id",
         "type": "\"integer\""
        },
        {
         "metadata": "{}",
         "name": "row_id",
         "type": "\"integer\""
        },
        {
         "metadata": "{}",
         "name": "prediction_unit_id",
         "type": "\"integer\""
        }
       ],
       "type": "table"
      }
     },
     "output_type": "display_data"
    }
   ],
   "source": [
    "# this will be lagging because of async\n",
    "display(spark.sql('SELECT * FROM gold_' + dataset + ' LIMIT 10'))"
   ]
  },
  {
   "cell_type": "code",
   "execution_count": 0,
   "metadata": {
    "application/vnd.databricks.v1+cell": {
     "cellMetadata": {
      "byteLimit": 2048000,
      "implicitDf": true,
      "rowLimit": 10000
     },
     "inputWidgets": {},
     "nuid": "2fbd607e-5019-4b23-8579-0b2fa453cb2a",
     "showTitle": false,
     "title": ""
    }
   },
   "outputs": [
    {
     "output_type": "display_data",
     "data": {
      "text/html": [
       "<style scoped>\n",
       "  .table-result-container {\n",
       "    max-height: 300px;\n",
       "    overflow: auto;\n",
       "  }\n",
       "  table, th, td {\n",
       "    border: 1px solid black;\n",
       "    border-collapse: collapse;\n",
       "  }\n",
       "  th, td {\n",
       "    padding: 5px;\n",
       "  }\n",
       "  th {\n",
       "    text-align: left;\n",
       "  }\n",
       "</style><div class='table-result-container'><table class='table-result'><thead style='background-color: white'><tr><th>count(1)</th></tr></thead><tbody><tr><td>4712332</td></tr></tbody></table></div>"
      ]
     },
     "metadata": {
      "application/vnd.databricks.v1+output": {
       "addedWidgets": {},
       "aggData": [],
       "aggError": "",
       "aggOverflow": false,
       "aggSchema": [],
       "aggSeriesLimitReached": false,
       "aggType": "",
       "arguments": {},
       "columnCustomDisplayInfos": {},
       "data": [
        [
         4712332
        ]
       ],
       "datasetInfos": [],
       "dbfsResultPath": null,
       "isJsonSchema": true,
       "metadata": {},
       "overflow": false,
       "plotOptions": {
        "customPlotOptions": {},
        "displayType": "table",
        "pivotAggregation": null,
        "pivotColumns": null,
        "xColumns": null,
        "yColumns": null
       },
       "removedWidgets": [],
       "schema": [
        {
         "metadata": "{\"__autoGeneratedAlias\":\"true\"}",
         "name": "count(1)",
         "type": "\"long\""
        }
       ],
       "type": "table"
      }
     },
     "output_type": "display_data"
    }
   ],
   "source": [
    "# this will be lagging because of async\n",
    "display(spark.sql('SELECT COUNT(1) FROM gold_' + dataset))"
   ]
  },
  {
   "cell_type": "code",
   "execution_count": 0,
   "metadata": {
    "application/vnd.databricks.v1+cell": {
     "cellMetadata": {},
     "inputWidgets": {},
     "nuid": "3c3e9d30-b64f-4504-b7ef-c8fb4810c3ba",
     "showTitle": false,
     "title": ""
    }
   },
   "outputs": [],
   "source": []
  }
 ],
 "metadata": {
  "application/vnd.databricks.v1+notebook": {
   "dashboards": [],
   "language": "python",
   "notebookMetadata": {
    "mostRecentlyExecutedCommandWithImplicitDF": {
     "commandId": 226541123985832,
     "dataframes": [
      "_sqldf"
     ]
    },
    "pythonIndentUnit": 2
   },
   "notebookName": "Enefit - Gold Data Loader",
   "widgets": {
    "dataset": {
     "currentValue": "train",
     "nuid": "fe31d4f0-c53c-403e-a14a-b0cab923a854",
     "widgetInfo": {
      "widgetType": "dropdown",
      "defaultValue": "train",
      "label": null,
      "name": "dataset",
      "options": {
       "widgetType": "dropdown",
       "autoCreated": null,
       "choices": [
        "train",
        "test"
       ]
      }
     }
    },
    "schema": {
     "currentValue": "fa2023_group06_enefit_test",
     "nuid": "3fdde83e-0c90-47d8-91a7-e01ed391b99c",
     "widgetInfo": {
      "widgetType": "text",
      "defaultValue": "fa2023_group06_enefit_train",
      "label": null,
      "name": "schema",
      "options": {
       "widgetType": "text",
       "autoCreated": null,
       "validationRegex": null
      }
     }
    }
   }
  }
 },
 "nbformat": 4,
 "nbformat_minor": 0
}
