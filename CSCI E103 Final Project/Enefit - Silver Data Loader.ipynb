{
 "cells": [
  {
   "cell_type": "code",
   "execution_count": 0,
   "metadata": {
    "application/vnd.databricks.v1+cell": {
     "cellMetadata": {
      "byteLimit": 2048000,
      "rowLimit": 10000
     },
     "inputWidgets": {},
     "nuid": "ccd19b3c-5ea8-4e86-87f4-5079776d10d6",
     "showTitle": false,
     "title": ""
    }
   },
   "outputs": [],
   "source": [
    "import re"
   ]
  },
  {
   "cell_type": "code",
   "execution_count": 0,
   "metadata": {
    "application/vnd.databricks.v1+cell": {
     "cellMetadata": {
      "byteLimit": 2048000,
      "rowLimit": 10000
     },
     "inputWidgets": {},
     "nuid": "f4df8f72-d8cb-4580-bda2-3138c9e4d2ee",
     "showTitle": false,
     "title": ""
    }
   },
   "outputs": [],
   "source": [
    "dbutils.widgets.removeAll()\n",
    "\n",
    "dbutils.widgets.text(\"schema\", \"fa2023_group06_enefit_train\")\n",
    "dbutils.widgets.dropdown(\"dataset\", \"train\", [\"train\", \"test\"])"
   ]
  },
  {
   "cell_type": "code",
   "execution_count": 0,
   "metadata": {
    "application/vnd.databricks.v1+cell": {
     "cellMetadata": {
      "byteLimit": 2048000,
      "rowLimit": 10000
     },
     "inputWidgets": {},
     "nuid": "13ad6d40-d1aa-4f8b-a490-63dc8e56d0c3",
     "showTitle": false,
     "title": ""
    }
   },
   "outputs": [],
   "source": [
    "databaseName = dbutils.widgets.get(\"schema\")\n",
    "dataset = dbutils.widgets.get(\"dataset\")"
   ]
  },
  {
   "cell_type": "code",
   "execution_count": 0,
   "metadata": {
    "application/vnd.databricks.v1+cell": {
     "cellMetadata": {
      "byteLimit": 2048000,
      "rowLimit": 10000
     },
     "inputWidgets": {},
     "nuid": "0357963e-2b7b-4eec-8916-6122cf3cf40c",
     "showTitle": false,
     "title": ""
    }
   },
   "outputs": [
    {
     "output_type": "stream",
     "name": "stdout",
     "output_type": "stream",
     "text": [
      "databaseName fa2023_group06_enefit_train_ghew\nUserDir /Users/gordonhew@gmail.com/data\nuserName gordonhew@gmail.com\n"
     ]
    }
   ],
   "source": [
    "userName = spark.sql(\"SELECT CURRENT_USER\").collect()[0]['current_user()']\n",
    "userName0 = userName.split(\"@\")[0]\n",
    "userName0 = re.sub('[!#$%&\\'*+-/=?^`{}|\\.]+', '_', userName0)\n",
    "userName1 = userName.split(\"@\")[1]\n",
    "userName = f'{userName0}@{userName1}'\n",
    "dbutils.fs.mkdirs(f\"/Users/{userName}/data\")\n",
    "userDir = f\"/Users/{userName}/data\"\n",
    "\n",
    "dataStore = \"/FileStore/group_06/\" + databaseName\n",
    "\n",
    "print('databaseName ' + databaseName)\n",
    "print('UserDir ' + userDir)\n",
    "print('userName '+ userName)"
   ]
  },
  {
   "cell_type": "code",
   "execution_count": 0,
   "metadata": {
    "application/vnd.databricks.v1+cell": {
     "cellMetadata": {
      "byteLimit": 2048000,
      "rowLimit": 10000
     },
     "inputWidgets": {},
     "nuid": "925cbfb7-5b14-4596-a83a-ab1c2689917d",
     "showTitle": false,
     "title": ""
    }
   },
   "outputs": [
    {
     "output_type": "execute_result",
     "data": {
      "text/plain": [
       "DataFrame[]"
      ]
     },
     "execution_count": 9,
     "metadata": {},
     "output_type": "execute_result"
    }
   ],
   "source": [
    "spark.sql(f\"use {databaseName}\")"
   ]
  },
  {
   "cell_type": "markdown",
   "metadata": {
    "application/vnd.databricks.v1+cell": {
     "cellMetadata": {
      "byteLimit": 2048000,
      "rowLimit": 10000
     },
     "inputWidgets": {},
     "nuid": "6bc604e0-a318-468b-9a19-21c7fa549dc5",
     "showTitle": false,
     "title": ""
    }
   },
   "source": [
    "## Creating/Updating silver_weather_station_to_county_mapping table "
   ]
  },
  {
   "cell_type": "code",
   "execution_count": 0,
   "metadata": {
    "application/vnd.databricks.v1+cell": {
     "cellMetadata": {
      "byteLimit": 2048000,
      "rowLimit": 10000
     },
     "inputWidgets": {},
     "nuid": "4fccb021-a00f-4f38-a3ff-f4c5f520266d",
     "showTitle": false,
     "title": ""
    }
   },
   "outputs": [
    {
     "output_type": "stream",
     "name": "stdout",
     "output_type": "stream",
     "text": [
      "original count: 112 new count: 49 after dropping rows with any nulls\n"
     ]
    }
   ],
   "source": [
    "if dataset == 'train':\n",
    "  bronze_weather_station_to_county_mapping_sql = \"\"\"\n",
    "  SELECT county_name, longitude, latitude, county FROM {databaseName}.bronze_weather_station_to_county_mapping\n",
    "  \"\"\".format(databaseName=databaseName)\n",
    "\n",
    "  bronze_weather_station_to_county_mapping_df = spark.sql(bronze_weather_station_to_county_mapping_sql)\n",
    "  bronze_weather_station_to_county_mapping_original_count = bronze_weather_station_to_county_mapping_df.count()\n",
    "  bronze_weather_station_to_county_mapping_df = bronze_weather_station_to_county_mapping_df.na.drop(how='any')\n",
    "  bronze_weather_station_to_county_mapping_new_count = bronze_weather_station_to_county_mapping_df.count()\n",
    "\n",
    "  print('original count:', bronze_weather_station_to_county_mapping_original_count, 'new count:', bronze_weather_station_to_county_mapping_new_count, 'after dropping rows with any nulls')\n",
    "\n",
    "  # we overwrite as the bronze table is always overridden as its a reference table\n",
    "  bronze_weather_station_to_county_mapping_df.write.mode('overwrite').saveAsTable('silver_weather_station_to_county_mapping')"
   ]
  },
  {
   "cell_type": "code",
   "execution_count": 0,
   "metadata": {
    "application/vnd.databricks.v1+cell": {
     "cellMetadata": {
      "byteLimit": 2048000,
      "rowLimit": 10000
     },
     "inputWidgets": {},
     "nuid": "41ec87a0-6b92-4477-92cc-89e6e066d477",
     "showTitle": false,
     "title": ""
    }
   },
   "outputs": [],
   "source": [
    "BRONZE_META_DATA_COLUMNS = ['file_path', 'file_name', 'file_size', 'file_modification_time', 'run_id', 'job_group', 'process_timestamp']\n",
    "\n",
    "def create_update_silver_tables(database_name, logical_table_name, silver_columns):\n",
    "\n",
    "  max_timestamp_clause = \"\"\n",
    "\n",
    "  for idx, bronze_column in enumerate(silver_columns):\n",
    "    if idx == 0:\n",
    "      max_timestamp_clause = \"b1.\" + bronze_column + \" = b2.\" + bronze_column\n",
    "    else:\n",
    "      max_timestamp_clause = max_timestamp_clause + \" AND b1.\" + bronze_column + \" = b2.\" + bronze_column\n",
    "\n",
    "  bronze_full_table_name = database_name + \".bronze_\" + logical_table_name\n",
    "  bronze_sql = \"\"\"\n",
    "  SELECT * \n",
    "  FROM {full_table_name} b1\n",
    "  WHERE process_timestamp = (SELECT MAX(process_timestamp) FROM {full_table_name} b2 WHERE {clause})\n",
    "  \"\"\".format(full_table_name=bronze_full_table_name, clause=max_timestamp_clause)\n",
    "\n",
    "  bronze_df = spark.sql(bronze_sql)\n",
    "\n",
    "  print('Retrieved', bronze_df.count(), 'results from', bronze_full_table_name)\n",
    "\n",
    "  silver_table_name = 'silver_' + logical_table_name\n",
    "  silver_full_table_name = database_name + \".\" + silver_table_name\n",
    "\n",
    "  if spark.catalog.tableExists(silver_full_table_name):\n",
    "    silver_df = spark.sql(\"SELECT * FROM \" + silver_full_table_name)\n",
    "    new_bronze_df = bronze_df.join(silver_df, on=silver_columns, how='left_anti')\n",
    "  else:\n",
    "    new_bronze_df = bronze_df\n",
    "\n",
    "  print('silver table', silver_full_table_name)   \n",
    "  new_bronze_df = new_bronze_df.drop(*BRONZE_META_DATA_COLUMNS)\n",
    "  new_bronze_df_original_count = new_bronze_df.count()\n",
    "  new_bronze_df = new_bronze_df.na.drop(how='any')\n",
    "  new_bronze_df_count = new_bronze_df.count()\n",
    "\n",
    "  print('original count:', new_bronze_df_original_count, 'new count:', new_bronze_df_count, 'after dropping rows with any nulls')\n",
    "\n",
    "  new_bronze_df.write.mode('append') \\\n",
    "    .partitionBy(\"data_block_id\") \\\n",
    "    .saveAsTable(silver_full_table_name)"
   ]
  },
  {
   "cell_type": "markdown",
   "metadata": {
    "application/vnd.databricks.v1+cell": {
     "cellMetadata": {},
     "inputWidgets": {},
     "nuid": "6cf8096f-02d8-4536-8aa0-a53208cf79e0",
     "showTitle": false,
     "title": ""
    }
   },
   "source": [
    "## Creating silver feature tables"
   ]
  },
  {
   "cell_type": "code",
   "execution_count": 0,
   "metadata": {
    "application/vnd.databricks.v1+cell": {
     "cellMetadata": {
      "byteLimit": 2048000,
      "rowLimit": 10000
     },
     "inputWidgets": {},
     "nuid": "e4f9e9fe-3e2b-45a5-913c-6980030f24d4",
     "showTitle": false,
     "title": ""
    }
   },
   "outputs": [
    {
     "output_type": "stream",
     "name": "stdout",
     "output_type": "stream",
     "text": [
      "Retrieved 6114 results from fa2023_group06_enefit_train_ghew.bronze_client\ncreating table fa2023_group06_enefit_train_ghew.silver_client\noriginal count: 6114 new count: 6114 after dropping rows with any nulls\nRetrieved 2376 results from fa2023_group06_enefit_train_ghew.bronze_electricity_prices\ncreating table fa2023_group06_enefit_train_ghew.silver_electricity_prices\noriginal count: 2376 new count: 2376 after dropping rows with any nulls\nRetrieved 532224 results from fa2023_group06_enefit_train_ghew.bronze_forecast_weather\ncreating table fa2023_group06_enefit_train_ghew.silver_forecast_weather\noriginal count: 532224 new count: 532224 after dropping rows with any nulls\nRetrieved 99 results from fa2023_group06_enefit_train_ghew.bronze_gas_prices\ncreating table fa2023_group06_enefit_train_ghew.silver_gas_prices\noriginal count: 99 new count: 99 after dropping rows with any nulls\nRetrieved 264656 results from fa2023_group06_enefit_train_ghew.bronze_historical_weather\ncreating table fa2023_group06_enefit_train_ghew.silver_historical_weather\noriginal count: 264656 new count: 264656 after dropping rows with any nulls\nRetrieved 296592 results from fa2023_group06_enefit_train_ghew.bronze_train\ncreating table fa2023_group06_enefit_train_ghew.silver_train\noriginal count: 296592 new count: 296466 after dropping rows with any nulls\n"
     ]
    }
   ],
   "source": [
    "#TODO: need to refine keys\n",
    "create_update_silver_tables(databaseName, 'client', ['product_type', 'county', 'eic_count', 'installed_capacity', 'is_business', 'date', 'data_block_id'])\n",
    "create_update_silver_tables(databaseName, 'electricity_prices', ['forecast_date', 'origin_date', 'data_block_id'])\n",
    "create_update_silver_tables(databaseName, 'forecast_weather', ['latitude', 'longitude', 'origin_datetime', 'hours_ahead', 'data_block_id', 'forecast_datetime'])\n",
    "create_update_silver_tables(databaseName, 'gas_prices', ['forecast_date', 'origin_date', 'data_block_id'])\n",
    "create_update_silver_tables(databaseName, 'historical_weather', ['datetime', 'latitude', 'longitude', 'data_block_id'])\n",
    "create_update_silver_tables(databaseName, dataset, ['row_id'])"
   ]
  }
 ],
 "metadata": {
  "application/vnd.databricks.v1+notebook": {
   "dashboards": [],
   "language": "python",
   "notebookMetadata": {
    "pythonIndentUnit": 2
   },
   "notebookName": "Enefit - Silver Data Loader",
   "widgets": {
    "dataset": {
     "currentValue": "train",
     "nuid": "cb1945e0-e774-482b-a4c0-993393494226",
     "widgetInfo": {
      "widgetType": "dropdown",
      "defaultValue": "train",
      "label": null,
      "name": "dataset",
      "options": {
       "widgetType": "dropdown",
       "autoCreated": null,
       "choices": [
        "train",
        "test"
       ]
      }
     }
    },
    "schema": {
     "currentValue": "fa2023_group06_enefit_train_ghew",
     "nuid": "8441ad03-41ba-4ad0-a1ff-68c0f7dedccc",
     "widgetInfo": {
      "widgetType": "text",
      "defaultValue": "fa2023_group06_enefit_train",
      "label": null,
      "name": "schema",
      "options": {
       "widgetType": "text",
       "autoCreated": null,
       "validationRegex": null
      }
     }
    }
   }
  }
 },
 "nbformat": 4,
 "nbformat_minor": 0
}
